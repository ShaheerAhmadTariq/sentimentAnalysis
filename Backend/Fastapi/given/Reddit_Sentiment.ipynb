{
 "cells": [
  {
   "cell_type": "code",
   "execution_count": 4,
   "id": "4f8c6f5f",
   "metadata": {},
   "outputs": [],
   "source": [
    "import praw\n",
    "from datetime import datetime\n",
    "\n",
    "user_agent = \"Ahmad 1.0 by /user/ahmad407\"\n",
    "reddit = praw.Reddit(\n",
    "    client_id = 'AzJE40YLWfAyY71kRGRSKA', \n",
    "    client_secret = 'g7BpsSTakcZvdRyhogi5S3PHA3ri8A', \n",
    "    user_agent = user_agent\n",
    ")\n",
    "\n",
    "\n",
    "posts = reddit.subreddit(\"all\").search('razer+alienware+lenovo', limit = 10)\n",
    "    \n",
    "print('Author Name: '+str(submission.author))\n",
    "print('Submission Title: '+submission.title)\n",
    "\n",
    "if (submission.selftext == ''):\n",
    "    submission.selftext = 'This user did not comment on this.'\n",
    "\n",
    "print('Comment: '+submission.selftext)\n",
    "print('Created: ',datetime.utcfromtimestamp(submission.created_utc))\n",
    "print('URL: '+submission.url)\n",
    "print('Thumbnail: '+submission.thumbnail)\n",
    "\n",
    "print(\"\\n\")"
   ]
  },
  {
   "cell_type": "code",
   "execution_count": 10,
   "id": "1cd4bc1f",
   "metadata": {},
   "outputs": [
    {
     "data": {
      "text/plain": [
       "<praw.models.listing.generator.ListingGenerator at 0x15b24b75850>"
      ]
     },
     "execution_count": 10,
     "metadata": {},
     "output_type": "execute_result"
    }
   ],
   "source": [
    "posts"
   ]
  },
  {
   "cell_type": "code",
   "execution_count": 7,
   "id": "349727ce",
   "metadata": {},
   "outputs": [],
   "source": [
    "for post in posts:\n",
    "    print(post.title, post.score)"
   ]
  },
  {
   "cell_type": "code",
   "execution_count": 3,
   "id": "2e510677",
   "metadata": {},
   "outputs": [
    {
     "name": "stdout",
     "output_type": "stream",
     "text": [
      "Super_Salami\n",
      "Particular-Pop-6695\n",
      "Name4Neo\n",
      "SINOYA\n",
      "Primary_Composer_485\n",
      "xLeeS\n",
      "cns000\n",
      "TremorMonkey\n",
      "SkiLLeD_SkuLL\n",
      "FlappidyFlipper\n"
     ]
    }
   ],
   "source": [
    "for submission in reddit.subreddit('razer+alienware+lenovo').new(limit=10):\n",
    "    print(submission.author)"
   ]
  },
  {
   "cell_type": "code",
   "execution_count": null,
   "id": "9577de96",
   "metadata": {},
   "outputs": [],
   "source": [
    "import requests\n",
    "\n",
    "api_key = \"YOUR_API_KEY\"\n",
    "query = \"razer+alienware+lenovo\"\n",
    "limit = 10\n",
    "\n",
    "url = f\"https://www.reddit.com/api/search_reddit_names.json?query={query}&limit={limit}\"\n",
    "\n",
    "headers = {\n",
    "    \"Authorization\": f\"bearer {api_key}\",\n",
    "}\n",
    "\n",
    "response = requests.get(url, headers=headers)\n",
    "\n",
    "if response.status_code == 200:\n",
    "    data = response.json()\n",
    "    print(data)\n",
    "else:\n",
    "    print(f\"Request failed with status code {response.status_code}\")\n"
   ]
  },
  {
   "cell_type": "code",
   "execution_count": 5,
   "id": "490850f8",
   "metadata": {},
   "outputs": [
    {
     "name": "stdout",
     "output_type": "stream",
     "text": [
      "Cjh1998\n"
     ]
    }
   ],
   "source": [
    "import praw\n",
    "from datetime import datetime\n",
    "\n",
    "user_agent = \"Ahmad 1.0 by /user/ahmad407\"\n",
    "reddit = praw.Reddit(\n",
    "    client_id = 'AzJE40YLWfAyY71kRGRSKA', \n",
    "    client_secret = 'g7BpsSTakcZvdRyhogi5S3PHA3ri8A', \n",
    "    user_agent = user_agent\n",
    ")\n",
    "\n",
    "\n",
    "for submission in reddit.subreddit(\"razer+alienware+lenovo\").new(limit=100):\n",
    "    print(submission.author)\n",
    "    break\n",
    "    # print('Author Name: '+str(submission.author))\n",
    "    # print('Submission Title: '+submission.title)\n",
    "    \n",
    "    # if (submission.selftext == ''):\n",
    "    #     submission.selftext = 'This user did not comment on this.'\n",
    " \n",
    "    # print('Comment: '+submission.selftext)\n",
    "    # print('Created: ',datetime.utcfromtimestamp(submission.created_utc))\n",
    "    # print('URL: '+submission.url)\n",
    "    # print('Thumbnail: '+submission.thumbnail)\n",
    "\n",
    "    print(\"\\n\")"
   ]
  },
  {
   "cell_type": "code",
   "execution_count": 6,
   "id": "33e9eab2",
   "metadata": {},
   "outputs": [
    {
     "name": "stdout",
     "output_type": "stream",
     "text": [
      "<class 'praw.models.reddit.submission.Submission'>\n"
     ]
    }
   ],
   "source": [
    "\n",
    "for submission in reddit.subreddit(\"razer+alienware+lenovo\").new(limit=100):\n",
    "    print(type(submission))\n",
    "    break"
   ]
  },
  {
   "cell_type": "code",
   "execution_count": 11,
   "id": "d3749eb1",
   "metadata": {},
   "outputs": [
    {
     "name": "stdout",
     "output_type": "stream",
     "text": [
      "r/Apple: Unofficial Apple Community\n"
     ]
    }
   ],
   "source": [
    "import praw\n",
    "from datetime import datetime\n",
    "\n",
    "user_agent = \"Ahmad 1.0 by /user/ahmad407\"\n",
    "reddit = praw.Reddit(\n",
    "    client_id = 'AzJE40YLWfAyY71kRGRSKA', \n",
    "    client_secret = 'g7BpsSTakcZvdRyhogi5S3PHA3ri8A', \n",
    "    user_agent = user_agent\n",
    ")\n",
    "subreddit = reddit.subreddit(\"apple\")\n",
    "print(subreddit.title)"
   ]
  },
  {
   "cell_type": "code",
   "execution_count": 25,
   "id": "2c558d86",
   "metadata": {},
   "outputs": [
    {
     "name": "stdout",
     "output_type": "stream",
     "text": [
      "Daily Advice Thread - December 30, 2022\n",
      "4\n",
      "https://www.reddit.com/r/apple/comments/zyxtud/daily_advice_thread_december_30_2022/\n",
      "Apple Didn't Release Any New Macs This Quarter for First Time Since 2000\n",
      "704\n",
      "https://www.macrumors.com/2022/12/30/no-new-macs-for-first-time-since-2000/\n",
      "iPhone 15 price cut considered by Apple, for both base and Plus models\n",
      "121\n",
      "https://9to5mac.com/2022/12/30/iphone-15-price-cut/\n",
      "A17 chip for iPhone 15 may focus more on battery life than power, suggests report\n",
      "3685\n",
      "https://9to5mac.com/2022/12/29/a17-chip-for-iphone-15/\n",
      "Apple Working on 11.1-Inch and 13-Inch OLED iPad Pro Models for 2024\n",
      "418\n",
      "https://www.macrumors.com/2022/12/29/oled-ipads-2024/\n",
      "Apple Supplier TSMC Starts Mass Production on 3nm Chips\n",
      "86\n",
      "https://www.macrumors.com/2022/12/29/tsmc-3nm-mass-production-begins/\n",
      "WhatsApp will stop working on nearly 50 different devices on December 31, 2022, including the iPhone 5 and iPhone 5c\n",
      "909\n",
      "https://faq.whatsapp.com/1150261202542208?helpref=faq_content\n",
      "Nowhere to suggest Apple Contacts app feature?\n",
      "52\n",
      "https://www.reddit.com/r/apple/comments/zyhw4m/nowhere_to_suggest_apple_contacts_app_feature/\n",
      "Apple Mini-LED Display Supplier Says Demand Shrinking As Rumors Suggest Transition to OLED in Coming Years\n",
      "316\n",
      "https://www.macrumors.com/2022/12/29/apple-mini-led-suppliers-oled/\n",
      "Apple leads the smartphone space in the overall approach towards sustainability, according to Counterpoint Research’s\n",
      "2\n",
      "https://www.counterpointresearch.com/smartphone-sustainability-touching-new-highs-with-apple-samsung-in-the-lead-but-is-it-enough/\n"
     ]
    }
   ],
   "source": [
    "total_comments = []\n",
    "for submission in subreddit.hot(limit=10):\n",
    "    print(submission.title)\n",
    "    # Output: the submission's title\n",
    "    print(submission.score)\n",
    "    # Output: the submission's score\n",
    "    # print(submission.id)\n",
    "    # Output: the submission's ID\n",
    "    print(submission.url)\n",
    "    all_comments = list(submission.comments)\n",
    "    total_comments.append(all_comments)"
   ]
  },
  {
   "cell_type": "code",
   "execution_count": 30,
   "id": "feacd110",
   "metadata": {},
   "outputs": [
    {
     "name": "stdout",
     "output_type": "stream",
     "text": [
      "I have a problem with my AirPods Pro gen 1 where at time when I put them in my ears the audio is only playing in one ear making me have to reconnect them several times to fix the problem. Do anyone have a fix for it, I have tried to forget them on my iPhone 14 pro but it didn’t work.\n",
      "1672401091.0\n"
     ]
    }
   ],
   "source": [
    "for comment in total_comments:\n",
    "    # print(comment.body)\n",
    "    # print(len(comment))\n",
    "    # break\n",
    "    for c in comment:\n",
    "        print(c.body)\n",
    "        print(c.created_utc)\n",
    "        break\n",
    "    break"
   ]
  },
  {
   "cell_type": "code",
   "execution_count": 27,
   "id": "13f7082c",
   "metadata": {},
   "outputs": [
    {
     "data": {
      "text/plain": [
       "10"
      ]
     },
     "execution_count": 27,
     "metadata": {},
     "output_type": "execute_result"
    }
   ],
   "source": [
    "len(total_comments)"
   ]
  },
  {
   "cell_type": "code",
   "execution_count": 35,
   "id": "2ad671b6",
   "metadata": {},
   "outputs": [
    {
     "ename": "AttributeError",
     "evalue": "'MoreComments' object has no attribute 'author'",
     "output_type": "error",
     "traceback": [
      "\u001b[1;31m---------------------------------------------------------------------------\u001b[0m",
      "\u001b[1;31mAttributeError\u001b[0m                            Traceback (most recent call last)",
      "\u001b[1;32me:\\Fiver\\Sentiment\\Backend\\Fastapi\\given\\Reddit_Sentiment.ipynb Cell 12\u001b[0m in \u001b[0;36m<cell line: 18>\u001b[1;34m()\u001b[0m\n\u001b[0;32m     <a href='vscode-notebook-cell:/e%3A/Fiver/Sentiment/Backend/Fastapi/given/Reddit_Sentiment.ipynb#X14sZmlsZQ%3D%3D?line=21'>22</a>\u001b[0m all_comments \u001b[39m=\u001b[39m submission\u001b[39m.\u001b[39mcomments\u001b[39m.\u001b[39mlist()\n\u001b[0;32m     <a href='vscode-notebook-cell:/e%3A/Fiver/Sentiment/Backend/Fastapi/given/Reddit_Sentiment.ipynb#X14sZmlsZQ%3D%3D?line=23'>24</a>\u001b[0m \u001b[39mfor\u001b[39;00m c \u001b[39min\u001b[39;00m all_comments:\n\u001b[1;32m---> <a href='vscode-notebook-cell:/e%3A/Fiver/Sentiment/Backend/Fastapi/given/Reddit_Sentiment.ipynb#X14sZmlsZQ%3D%3D?line=24'>25</a>\u001b[0m     data[\u001b[39m'\u001b[39m\u001b[39mauthor\u001b[39m\u001b[39m'\u001b[39m] \u001b[39m=\u001b[39m c\u001b[39m.\u001b[39;49mauthor\n\u001b[0;32m     <a href='vscode-notebook-cell:/e%3A/Fiver/Sentiment/Backend/Fastapi/given/Reddit_Sentiment.ipynb#X14sZmlsZQ%3D%3D?line=25'>26</a>\u001b[0m     data[\u001b[39m'\u001b[39m\u001b[39mcontent\u001b[39m\u001b[39m'\u001b[39m] \u001b[39m=\u001b[39m c\u001b[39m.\u001b[39mbody\n\u001b[0;32m     <a href='vscode-notebook-cell:/e%3A/Fiver/Sentiment/Backend/Fastapi/given/Reddit_Sentiment.ipynb#X14sZmlsZQ%3D%3D?line=26'>27</a>\u001b[0m     date \u001b[39m=\u001b[39m datetime\u001b[39m.\u001b[39mutcfromtimestamp(c\u001b[39m.\u001b[39mcreated_utc)\n",
      "\u001b[1;31mAttributeError\u001b[0m: 'MoreComments' object has no attribute 'author'"
     ]
    }
   ],
   "source": [
    "import praw\n",
    "from datetime import datetime\n",
    "\n",
    "user_agent = \"Ahmad 1.0 by /user/ahmad407\"\n",
    "reddit = praw.Reddit(\n",
    "    client_id = 'AzJE40YLWfAyY71kRGRSKA', \n",
    "    client_secret = 'g7BpsSTakcZvdRyhogi5S3PHA3ri8A', \n",
    "    user_agent = user_agent\n",
    ")\n",
    "keywords = [\"razer\", \"alienware\", \"lenovo\"]\n",
    "\n",
    "data = {}\n",
    "subreddit = reddit.subreddit(keywords[0])\n",
    "data['name'] = keywords[0]\n",
    "data['description'] = subreddit.description\n",
    "# print(subreddit.title)\n",
    "k1 = []\n",
    "for submission in subreddit.hot(limit=1):\n",
    "    data['title'] = submission.title\n",
    "    data['source_name'] = submission.author\n",
    "    data['url'] = submission.url\n",
    "    all_comments = submission.comments.list()\n",
    "    \n",
    "    for c in all_comments:\n",
    "        data['author'] = c.author\n",
    "        data['content'] = c.body\n",
    "        date = datetime.utcfromtimestamp(c.created_utc)\n",
    "        data['published_at'] = date\n",
    "        k1.append(data)\n",
    "\n"
   ]
  },
  {
   "cell_type": "code",
   "execution_count": 44,
   "id": "7c05e743",
   "metadata": {},
   "outputs": [
    {
     "data": {
      "text/plain": [
       "[{'name': 'razer',\n",
       "  'description': '**A subreddit for discussion of RΛZΞR brand gaming products. By redditors, for redditors.**   \\n****\\n\\nRΛZΞR was founded in 1998 in San Diego, California by CEO Min-Liang Tan and President Robert \"RΛZΞRguy\" Krakoff in a tiny shared office with a couple other gamers. \\n\\nRΛZΞR is more than just the world\\'s leading brand in gaming.\\n\\n*****\\nFriendly subreddits!  \\n\\n/r/RazerPhone   \\n/r/ChromaProfiles  \\n/r/MechanicalKeyboards  \\n/r/SynapseShare  \\n/r/SuggestaLaptop  \\n/r/GamingLaptops\\n*****\\n[](https://rebrand.ly/5tore)\\n*****\\n[](https://rebrand.ly/SupportMain)\\n\\n\\n*****\\n*Other RΛZΞR Links*\\n\\n[](https://twitter.com/Razer)\\n[](https://www.facebook.com/razer)\\n[](https://www.youtube.com/user/cultofrazer)\\n[](https://insider.razer.com)\\n\\n*****\\n**NOTICE**:\\n\\nDue to the nature of this subreddit and RΛZΞR customer support sometimes handling customer\\'s personal information through PMs, do not trust anyone who says they are a RΛZΞR employee unless they have a flair.\\n\\nRemember to keep your personal details safe, including case numbers. You can find the list of trusted **RΛZΞR accounts** and much more in the [wiki](/r/razer/wiki/trusted_accounts)\\n*****\\n\\n**[> Posting Rules <](https://www.reddit.com/r/razer/about/rules/)**  \\nShort version:\\n\\n1. Must follow **Reddiquette**. Don\\'t be a dick.\\n1. Low-effort/unrelated content will be removed.\\n1. All troubleshooting or support related posts only in the **Technical Support Sticky** thread.\\n1. All \"Rant\" posts must: Include a reasonable amount of details about the issue, Not be from throwaway, abandoned or new accounts, and should not be used as a support avenue. \\n1. Do not spam your personal website or youtube channel. Accounts created only for this purpose will be banned instantly.\\n1. Don\\'t post **users\\' personal information**.\\n1. No asking about **restock/availability/release dates**\\n1. **No trading. No selling. No buying.** Use /r/hardwareswap instead\\n1. Additional posting guidelines:\\n * Excessive reposts will be deleted\\n * NSFW submissions must be labeled\\n * No \"general\" URL shorteners (bit.ly, tinyurl, etc). This is reddit\\'s policy\\n * Submissions that enable or have the intent to enable piracy and online gambling are not permitted\\n * Please flair your submission accordingly. You can do so by simply clicking flair under your link!\\n\\n****\\n[](https://rebrand.ly/Toaster)\\n*****',\n",
       "  'title': 'December Technical Support Sticky',\n",
       "  'source_name': Redditor(name='BeepBoopBopReee'),\n",
       "  'url': 'https://www.reddit.com/r/razer/comments/z96c8r/december_technical_support_sticky/',\n",
       "  'author': Redditor(name='BeepBoopBopReee'),\n",
       "  'content': '**Other**',\n",
       "  'published_at': datetime.datetime(2022, 11, 30, 23, 0, 51)},\n",
       " {'name': 'razer',\n",
       "  'description': '**A subreddit for discussion of RΛZΞR brand gaming products. By redditors, for redditors.**   \\n****\\n\\nRΛZΞR was founded in 1998 in San Diego, California by CEO Min-Liang Tan and President Robert \"RΛZΞRguy\" Krakoff in a tiny shared office with a couple other gamers. \\n\\nRΛZΞR is more than just the world\\'s leading brand in gaming.\\n\\n*****\\nFriendly subreddits!  \\n\\n/r/RazerPhone   \\n/r/ChromaProfiles  \\n/r/MechanicalKeyboards  \\n/r/SynapseShare  \\n/r/SuggestaLaptop  \\n/r/GamingLaptops\\n*****\\n[](https://rebrand.ly/5tore)\\n*****\\n[](https://rebrand.ly/SupportMain)\\n\\n\\n*****\\n*Other RΛZΞR Links*\\n\\n[](https://twitter.com/Razer)\\n[](https://www.facebook.com/razer)\\n[](https://www.youtube.com/user/cultofrazer)\\n[](https://insider.razer.com)\\n\\n*****\\n**NOTICE**:\\n\\nDue to the nature of this subreddit and RΛZΞR customer support sometimes handling customer\\'s personal information through PMs, do not trust anyone who says they are a RΛZΞR employee unless they have a flair.\\n\\nRemember to keep your personal details safe, including case numbers. You can find the list of trusted **RΛZΞR accounts** and much more in the [wiki](/r/razer/wiki/trusted_accounts)\\n*****\\n\\n**[> Posting Rules <](https://www.reddit.com/r/razer/about/rules/)**  \\nShort version:\\n\\n1. Must follow **Reddiquette**. Don\\'t be a dick.\\n1. Low-effort/unrelated content will be removed.\\n1. All troubleshooting or support related posts only in the **Technical Support Sticky** thread.\\n1. All \"Rant\" posts must: Include a reasonable amount of details about the issue, Not be from throwaway, abandoned or new accounts, and should not be used as a support avenue. \\n1. Do not spam your personal website or youtube channel. Accounts created only for this purpose will be banned instantly.\\n1. Don\\'t post **users\\' personal information**.\\n1. No asking about **restock/availability/release dates**\\n1. **No trading. No selling. No buying.** Use /r/hardwareswap instead\\n1. Additional posting guidelines:\\n * Excessive reposts will be deleted\\n * NSFW submissions must be labeled\\n * No \"general\" URL shorteners (bit.ly, tinyurl, etc). This is reddit\\'s policy\\n * Submissions that enable or have the intent to enable piracy and online gambling are not permitted\\n * Please flair your submission accordingly. You can do so by simply clicking flair under your link!\\n\\n****\\n[](https://rebrand.ly/Toaster)\\n*****',\n",
       "  'title': 'December Technical Support Sticky',\n",
       "  'source_name': Redditor(name='BeepBoopBopReee'),\n",
       "  'url': 'https://www.reddit.com/r/razer/comments/z96c8r/december_technical_support_sticky/',\n",
       "  'author': Redditor(name='BeepBoopBopReee'),\n",
       "  'content': '**Other**',\n",
       "  'published_at': datetime.datetime(2022, 11, 30, 23, 0, 51)},\n",
       " {'name': 'razer',\n",
       "  'description': '**A subreddit for discussion of RΛZΞR brand gaming products. By redditors, for redditors.**   \\n****\\n\\nRΛZΞR was founded in 1998 in San Diego, California by CEO Min-Liang Tan and President Robert \"RΛZΞRguy\" Krakoff in a tiny shared office with a couple other gamers. \\n\\nRΛZΞR is more than just the world\\'s leading brand in gaming.\\n\\n*****\\nFriendly subreddits!  \\n\\n/r/RazerPhone   \\n/r/ChromaProfiles  \\n/r/MechanicalKeyboards  \\n/r/SynapseShare  \\n/r/SuggestaLaptop  \\n/r/GamingLaptops\\n*****\\n[](https://rebrand.ly/5tore)\\n*****\\n[](https://rebrand.ly/SupportMain)\\n\\n\\n*****\\n*Other RΛZΞR Links*\\n\\n[](https://twitter.com/Razer)\\n[](https://www.facebook.com/razer)\\n[](https://www.youtube.com/user/cultofrazer)\\n[](https://insider.razer.com)\\n\\n*****\\n**NOTICE**:\\n\\nDue to the nature of this subreddit and RΛZΞR customer support sometimes handling customer\\'s personal information through PMs, do not trust anyone who says they are a RΛZΞR employee unless they have a flair.\\n\\nRemember to keep your personal details safe, including case numbers. You can find the list of trusted **RΛZΞR accounts** and much more in the [wiki](/r/razer/wiki/trusted_accounts)\\n*****\\n\\n**[> Posting Rules <](https://www.reddit.com/r/razer/about/rules/)**  \\nShort version:\\n\\n1. Must follow **Reddiquette**. Don\\'t be a dick.\\n1. Low-effort/unrelated content will be removed.\\n1. All troubleshooting or support related posts only in the **Technical Support Sticky** thread.\\n1. All \"Rant\" posts must: Include a reasonable amount of details about the issue, Not be from throwaway, abandoned or new accounts, and should not be used as a support avenue. \\n1. Do not spam your personal website or youtube channel. Accounts created only for this purpose will be banned instantly.\\n1. Don\\'t post **users\\' personal information**.\\n1. No asking about **restock/availability/release dates**\\n1. **No trading. No selling. No buying.** Use /r/hardwareswap instead\\n1. Additional posting guidelines:\\n * Excessive reposts will be deleted\\n * NSFW submissions must be labeled\\n * No \"general\" URL shorteners (bit.ly, tinyurl, etc). This is reddit\\'s policy\\n * Submissions that enable or have the intent to enable piracy and online gambling are not permitted\\n * Please flair your submission accordingly. You can do so by simply clicking flair under your link!\\n\\n****\\n[](https://rebrand.ly/Toaster)\\n*****',\n",
       "  'title': 'December Technical Support Sticky',\n",
       "  'source_name': Redditor(name='BeepBoopBopReee'),\n",
       "  'url': 'https://www.reddit.com/r/razer/comments/z96c8r/december_technical_support_sticky/',\n",
       "  'author': Redditor(name='BeepBoopBopReee'),\n",
       "  'content': '**Other**',\n",
       "  'published_at': datetime.datetime(2022, 11, 30, 23, 0, 51)},\n",
       " {'name': 'razer',\n",
       "  'description': '**A subreddit for discussion of RΛZΞR brand gaming products. By redditors, for redditors.**   \\n****\\n\\nRΛZΞR was founded in 1998 in San Diego, California by CEO Min-Liang Tan and President Robert \"RΛZΞRguy\" Krakoff in a tiny shared office with a couple other gamers. \\n\\nRΛZΞR is more than just the world\\'s leading brand in gaming.\\n\\n*****\\nFriendly subreddits!  \\n\\n/r/RazerPhone   \\n/r/ChromaProfiles  \\n/r/MechanicalKeyboards  \\n/r/SynapseShare  \\n/r/SuggestaLaptop  \\n/r/GamingLaptops\\n*****\\n[](https://rebrand.ly/5tore)\\n*****\\n[](https://rebrand.ly/SupportMain)\\n\\n\\n*****\\n*Other RΛZΞR Links*\\n\\n[](https://twitter.com/Razer)\\n[](https://www.facebook.com/razer)\\n[](https://www.youtube.com/user/cultofrazer)\\n[](https://insider.razer.com)\\n\\n*****\\n**NOTICE**:\\n\\nDue to the nature of this subreddit and RΛZΞR customer support sometimes handling customer\\'s personal information through PMs, do not trust anyone who says they are a RΛZΞR employee unless they have a flair.\\n\\nRemember to keep your personal details safe, including case numbers. You can find the list of trusted **RΛZΞR accounts** and much more in the [wiki](/r/razer/wiki/trusted_accounts)\\n*****\\n\\n**[> Posting Rules <](https://www.reddit.com/r/razer/about/rules/)**  \\nShort version:\\n\\n1. Must follow **Reddiquette**. Don\\'t be a dick.\\n1. Low-effort/unrelated content will be removed.\\n1. All troubleshooting or support related posts only in the **Technical Support Sticky** thread.\\n1. All \"Rant\" posts must: Include a reasonable amount of details about the issue, Not be from throwaway, abandoned or new accounts, and should not be used as a support avenue. \\n1. Do not spam your personal website or youtube channel. Accounts created only for this purpose will be banned instantly.\\n1. Don\\'t post **users\\' personal information**.\\n1. No asking about **restock/availability/release dates**\\n1. **No trading. No selling. No buying.** Use /r/hardwareswap instead\\n1. Additional posting guidelines:\\n * Excessive reposts will be deleted\\n * NSFW submissions must be labeled\\n * No \"general\" URL shorteners (bit.ly, tinyurl, etc). This is reddit\\'s policy\\n * Submissions that enable or have the intent to enable piracy and online gambling are not permitted\\n * Please flair your submission accordingly. You can do so by simply clicking flair under your link!\\n\\n****\\n[](https://rebrand.ly/Toaster)\\n*****',\n",
       "  'title': 'December Technical Support Sticky',\n",
       "  'source_name': Redditor(name='BeepBoopBopReee'),\n",
       "  'url': 'https://www.reddit.com/r/razer/comments/z96c8r/december_technical_support_sticky/',\n",
       "  'author': Redditor(name='BeepBoopBopReee'),\n",
       "  'content': '**Other**',\n",
       "  'published_at': datetime.datetime(2022, 11, 30, 23, 0, 51)},\n",
       " {'name': 'razer',\n",
       "  'description': '**A subreddit for discussion of RΛZΞR brand gaming products. By redditors, for redditors.**   \\n****\\n\\nRΛZΞR was founded in 1998 in San Diego, California by CEO Min-Liang Tan and President Robert \"RΛZΞRguy\" Krakoff in a tiny shared office with a couple other gamers. \\n\\nRΛZΞR is more than just the world\\'s leading brand in gaming.\\n\\n*****\\nFriendly subreddits!  \\n\\n/r/RazerPhone   \\n/r/ChromaProfiles  \\n/r/MechanicalKeyboards  \\n/r/SynapseShare  \\n/r/SuggestaLaptop  \\n/r/GamingLaptops\\n*****\\n[](https://rebrand.ly/5tore)\\n*****\\n[](https://rebrand.ly/SupportMain)\\n\\n\\n*****\\n*Other RΛZΞR Links*\\n\\n[](https://twitter.com/Razer)\\n[](https://www.facebook.com/razer)\\n[](https://www.youtube.com/user/cultofrazer)\\n[](https://insider.razer.com)\\n\\n*****\\n**NOTICE**:\\n\\nDue to the nature of this subreddit and RΛZΞR customer support sometimes handling customer\\'s personal information through PMs, do not trust anyone who says they are a RΛZΞR employee unless they have a flair.\\n\\nRemember to keep your personal details safe, including case numbers. You can find the list of trusted **RΛZΞR accounts** and much more in the [wiki](/r/razer/wiki/trusted_accounts)\\n*****\\n\\n**[> Posting Rules <](https://www.reddit.com/r/razer/about/rules/)**  \\nShort version:\\n\\n1. Must follow **Reddiquette**. Don\\'t be a dick.\\n1. Low-effort/unrelated content will be removed.\\n1. All troubleshooting or support related posts only in the **Technical Support Sticky** thread.\\n1. All \"Rant\" posts must: Include a reasonable amount of details about the issue, Not be from throwaway, abandoned or new accounts, and should not be used as a support avenue. \\n1. Do not spam your personal website or youtube channel. Accounts created only for this purpose will be banned instantly.\\n1. Don\\'t post **users\\' personal information**.\\n1. No asking about **restock/availability/release dates**\\n1. **No trading. No selling. No buying.** Use /r/hardwareswap instead\\n1. Additional posting guidelines:\\n * Excessive reposts will be deleted\\n * NSFW submissions must be labeled\\n * No \"general\" URL shorteners (bit.ly, tinyurl, etc). This is reddit\\'s policy\\n * Submissions that enable or have the intent to enable piracy and online gambling are not permitted\\n * Please flair your submission accordingly. You can do so by simply clicking flair under your link!\\n\\n****\\n[](https://rebrand.ly/Toaster)\\n*****',\n",
       "  'title': 'December Technical Support Sticky',\n",
       "  'source_name': Redditor(name='BeepBoopBopReee'),\n",
       "  'url': 'https://www.reddit.com/r/razer/comments/z96c8r/december_technical_support_sticky/',\n",
       "  'author': Redditor(name='BeepBoopBopReee'),\n",
       "  'content': '**Other**',\n",
       "  'published_at': datetime.datetime(2022, 11, 30, 23, 0, 51)},\n",
       " {'name': 'razer',\n",
       "  'description': '**A subreddit for discussion of RΛZΞR brand gaming products. By redditors, for redditors.**   \\n****\\n\\nRΛZΞR was founded in 1998 in San Diego, California by CEO Min-Liang Tan and President Robert \"RΛZΞRguy\" Krakoff in a tiny shared office with a couple other gamers. \\n\\nRΛZΞR is more than just the world\\'s leading brand in gaming.\\n\\n*****\\nFriendly subreddits!  \\n\\n/r/RazerPhone   \\n/r/ChromaProfiles  \\n/r/MechanicalKeyboards  \\n/r/SynapseShare  \\n/r/SuggestaLaptop  \\n/r/GamingLaptops\\n*****\\n[](https://rebrand.ly/5tore)\\n*****\\n[](https://rebrand.ly/SupportMain)\\n\\n\\n*****\\n*Other RΛZΞR Links*\\n\\n[](https://twitter.com/Razer)\\n[](https://www.facebook.com/razer)\\n[](https://www.youtube.com/user/cultofrazer)\\n[](https://insider.razer.com)\\n\\n*****\\n**NOTICE**:\\n\\nDue to the nature of this subreddit and RΛZΞR customer support sometimes handling customer\\'s personal information through PMs, do not trust anyone who says they are a RΛZΞR employee unless they have a flair.\\n\\nRemember to keep your personal details safe, including case numbers. You can find the list of trusted **RΛZΞR accounts** and much more in the [wiki](/r/razer/wiki/trusted_accounts)\\n*****\\n\\n**[> Posting Rules <](https://www.reddit.com/r/razer/about/rules/)**  \\nShort version:\\n\\n1. Must follow **Reddiquette**. Don\\'t be a dick.\\n1. Low-effort/unrelated content will be removed.\\n1. All troubleshooting or support related posts only in the **Technical Support Sticky** thread.\\n1. All \"Rant\" posts must: Include a reasonable amount of details about the issue, Not be from throwaway, abandoned or new accounts, and should not be used as a support avenue. \\n1. Do not spam your personal website or youtube channel. Accounts created only for this purpose will be banned instantly.\\n1. Don\\'t post **users\\' personal information**.\\n1. No asking about **restock/availability/release dates**\\n1. **No trading. No selling. No buying.** Use /r/hardwareswap instead\\n1. Additional posting guidelines:\\n * Excessive reposts will be deleted\\n * NSFW submissions must be labeled\\n * No \"general\" URL shorteners (bit.ly, tinyurl, etc). This is reddit\\'s policy\\n * Submissions that enable or have the intent to enable piracy and online gambling are not permitted\\n * Please flair your submission accordingly. You can do so by simply clicking flair under your link!\\n\\n****\\n[](https://rebrand.ly/Toaster)\\n*****',\n",
       "  'title': 'December Technical Support Sticky',\n",
       "  'source_name': Redditor(name='BeepBoopBopReee'),\n",
       "  'url': 'https://www.reddit.com/r/razer/comments/z96c8r/december_technical_support_sticky/',\n",
       "  'author': Redditor(name='BeepBoopBopReee'),\n",
       "  'content': '**Other**',\n",
       "  'published_at': datetime.datetime(2022, 11, 30, 23, 0, 51)}]"
      ]
     },
     "execution_count": 44,
     "metadata": {},
     "output_type": "execute_result"
    }
   ],
   "source": [
    "k1"
   ]
  },
  {
   "cell_type": "code",
   "execution_count": 1,
   "id": "060869d7",
   "metadata": {},
   "outputs": [
    {
     "ename": "Redirect",
     "evalue": "Redirect to /subreddits/search",
     "output_type": "error",
     "traceback": [
      "\u001b[1;31m---------------------------------------------------------------------------\u001b[0m",
      "\u001b[1;31mRedirect\u001b[0m                                  Traceback (most recent call last)",
      "\u001b[1;32me:\\Fiver\\Sentiment\\Backend\\Fastapi\\given\\Reddit_Sentiment.ipynb Cell 14\u001b[0m in \u001b[0;36m<cell line: 52>\u001b[1;34m()\u001b[0m\n\u001b[0;32m     <a href='vscode-notebook-cell:/e%3A/Fiver/Sentiment/Backend/Fastapi/given/Reddit_Sentiment.ipynb#X16sZmlsZQ%3D%3D?line=49'>50</a>\u001b[0m k3 \u001b[39m=\u001b[39m []\n\u001b[0;32m     <a href='vscode-notebook-cell:/e%3A/Fiver/Sentiment/Backend/Fastapi/given/Reddit_Sentiment.ipynb#X16sZmlsZQ%3D%3D?line=50'>51</a>\u001b[0m subreddit \u001b[39m=\u001b[39m reddit\u001b[39m.\u001b[39msubreddit(keywords[\u001b[39m2\u001b[39m])\n\u001b[1;32m---> <a href='vscode-notebook-cell:/e%3A/Fiver/Sentiment/Backend/Fastapi/given/Reddit_Sentiment.ipynb#X16sZmlsZQ%3D%3D?line=51'>52</a>\u001b[0m \u001b[39mfor\u001b[39;00m submission \u001b[39min\u001b[39;00m subreddit\u001b[39m.\u001b[39mhot(limit\u001b[39m=\u001b[39mlimit):\n\u001b[0;32m     <a href='vscode-notebook-cell:/e%3A/Fiver/Sentiment/Backend/Fastapi/given/Reddit_Sentiment.ipynb#X16sZmlsZQ%3D%3D?line=53'>54</a>\u001b[0m     all_comments \u001b[39m=\u001b[39m submission\u001b[39m.\u001b[39mcomments\u001b[39m.\u001b[39mlist()\n\u001b[0;32m     <a href='vscode-notebook-cell:/e%3A/Fiver/Sentiment/Backend/Fastapi/given/Reddit_Sentiment.ipynb#X16sZmlsZQ%3D%3D?line=55'>56</a>\u001b[0m     \u001b[39mfor\u001b[39;00m comment \u001b[39min\u001b[39;00m all_comments:\n",
      "File \u001b[1;32mc:\\Users\\SHAHEER\\anaconda3\\lib\\site-packages\\praw\\models\\listing\\generator.py:63\u001b[0m, in \u001b[0;36mListingGenerator.__next__\u001b[1;34m(self)\u001b[0m\n\u001b[0;32m     60\u001b[0m     \u001b[39mraise\u001b[39;00m \u001b[39mStopIteration\u001b[39;00m()\n\u001b[0;32m     62\u001b[0m \u001b[39mif\u001b[39;00m \u001b[39mself\u001b[39m\u001b[39m.\u001b[39m_listing \u001b[39mis\u001b[39;00m \u001b[39mNone\u001b[39;00m \u001b[39mor\u001b[39;00m \u001b[39mself\u001b[39m\u001b[39m.\u001b[39m_list_index \u001b[39m>\u001b[39m\u001b[39m=\u001b[39m \u001b[39mlen\u001b[39m(\u001b[39mself\u001b[39m\u001b[39m.\u001b[39m_listing):\n\u001b[1;32m---> 63\u001b[0m     \u001b[39mself\u001b[39;49m\u001b[39m.\u001b[39;49m_next_batch()\n\u001b[0;32m     65\u001b[0m \u001b[39mself\u001b[39m\u001b[39m.\u001b[39m_list_index \u001b[39m+\u001b[39m\u001b[39m=\u001b[39m \u001b[39m1\u001b[39m\n\u001b[0;32m     66\u001b[0m \u001b[39mself\u001b[39m\u001b[39m.\u001b[39myielded \u001b[39m+\u001b[39m\u001b[39m=\u001b[39m \u001b[39m1\u001b[39m\n",
      "File \u001b[1;32mc:\\Users\\SHAHEER\\anaconda3\\lib\\site-packages\\praw\\models\\listing\\generator.py:89\u001b[0m, in \u001b[0;36mListingGenerator._next_batch\u001b[1;34m(self)\u001b[0m\n\u001b[0;32m     86\u001b[0m \u001b[39mif\u001b[39;00m \u001b[39mself\u001b[39m\u001b[39m.\u001b[39m_exhausted:\n\u001b[0;32m     87\u001b[0m     \u001b[39mraise\u001b[39;00m \u001b[39mStopIteration\u001b[39;00m()\n\u001b[1;32m---> 89\u001b[0m \u001b[39mself\u001b[39m\u001b[39m.\u001b[39m_listing \u001b[39m=\u001b[39m \u001b[39mself\u001b[39;49m\u001b[39m.\u001b[39;49m_reddit\u001b[39m.\u001b[39;49mget(\u001b[39mself\u001b[39;49m\u001b[39m.\u001b[39;49murl, params\u001b[39m=\u001b[39;49m\u001b[39mself\u001b[39;49m\u001b[39m.\u001b[39;49mparams)\n\u001b[0;32m     90\u001b[0m \u001b[39mself\u001b[39m\u001b[39m.\u001b[39m_listing \u001b[39m=\u001b[39m \u001b[39mself\u001b[39m\u001b[39m.\u001b[39m_extract_sublist(\u001b[39mself\u001b[39m\u001b[39m.\u001b[39m_listing)\n\u001b[0;32m     91\u001b[0m \u001b[39mself\u001b[39m\u001b[39m.\u001b[39m_list_index \u001b[39m=\u001b[39m \u001b[39m0\u001b[39m\n",
      "File \u001b[1;32mc:\\Users\\SHAHEER\\anaconda3\\lib\\site-packages\\praw\\util\\deprecate_args.py:43\u001b[0m, in \u001b[0;36m_deprecate_args.<locals>.wrapper.<locals>.wrapped\u001b[1;34m(*args, **kwargs)\u001b[0m\n\u001b[0;32m     36\u001b[0m     arg_string \u001b[39m=\u001b[39m _generate_arg_string(_old_args[: \u001b[39mlen\u001b[39m(args)])\n\u001b[0;32m     37\u001b[0m     warn(\n\u001b[0;32m     38\u001b[0m         \u001b[39mf\u001b[39m\u001b[39m\"\u001b[39m\u001b[39mPositional arguments for \u001b[39m\u001b[39m{\u001b[39;00mfunc\u001b[39m.\u001b[39m\u001b[39m__qualname__\u001b[39m\u001b[39m!r}\u001b[39;00m\u001b[39m will no longer be\u001b[39m\u001b[39m\"\u001b[39m\n\u001b[0;32m     39\u001b[0m         \u001b[39mf\u001b[39m\u001b[39m\"\u001b[39m\u001b[39m supported in PRAW 8.\u001b[39m\u001b[39m\\n\u001b[39;00m\u001b[39mCall this function with \u001b[39m\u001b[39m{\u001b[39;00marg_string\u001b[39m}\u001b[39;00m\u001b[39m.\u001b[39m\u001b[39m\"\u001b[39m,\n\u001b[0;32m     40\u001b[0m         \u001b[39mDeprecationWarning\u001b[39;00m,\n\u001b[0;32m     41\u001b[0m         stacklevel\u001b[39m=\u001b[39m\u001b[39m2\u001b[39m,\n\u001b[0;32m     42\u001b[0m     )\n\u001b[1;32m---> 43\u001b[0m \u001b[39mreturn\u001b[39;00m func(\u001b[39m*\u001b[39m\u001b[39m*\u001b[39m\u001b[39mdict\u001b[39m(\u001b[39mzip\u001b[39m(_old_args, args)), \u001b[39m*\u001b[39m\u001b[39m*\u001b[39mkwargs)\n",
      "File \u001b[1;32mc:\\Users\\SHAHEER\\anaconda3\\lib\\site-packages\\praw\\reddit.py:634\u001b[0m, in \u001b[0;36mReddit.get\u001b[1;34m(self, path, params)\u001b[0m\n\u001b[0;32m    621\u001b[0m \u001b[39m@_deprecate_args\u001b[39m(\u001b[39m\"\u001b[39m\u001b[39mpath\u001b[39m\u001b[39m\"\u001b[39m, \u001b[39m\"\u001b[39m\u001b[39mparams\u001b[39m\u001b[39m\"\u001b[39m)\n\u001b[0;32m    622\u001b[0m \u001b[39mdef\u001b[39;00m \u001b[39mget\u001b[39m(\n\u001b[0;32m    623\u001b[0m     \u001b[39mself\u001b[39m,\n\u001b[1;32m   (...)\u001b[0m\n\u001b[0;32m    626\u001b[0m     params: Optional[Union[\u001b[39mstr\u001b[39m, Dict[\u001b[39mstr\u001b[39m, Union[\u001b[39mstr\u001b[39m, \u001b[39mint\u001b[39m]]]] \u001b[39m=\u001b[39m \u001b[39mNone\u001b[39;00m,\n\u001b[0;32m    627\u001b[0m ):\n\u001b[0;32m    628\u001b[0m     \u001b[39m\"\"\"Return parsed objects returned from a GET request to ``path``.\u001b[39;00m\n\u001b[0;32m    629\u001b[0m \n\u001b[0;32m    630\u001b[0m \u001b[39m    :param path: The path to fetch.\u001b[39;00m\n\u001b[0;32m    631\u001b[0m \u001b[39m    :param params: The query parameters to add to the request (default: ``None``).\u001b[39;00m\n\u001b[0;32m    632\u001b[0m \n\u001b[0;32m    633\u001b[0m \u001b[39m    \"\"\"\u001b[39;00m\n\u001b[1;32m--> 634\u001b[0m     \u001b[39mreturn\u001b[39;00m \u001b[39mself\u001b[39;49m\u001b[39m.\u001b[39;49m_objectify_request(method\u001b[39m=\u001b[39;49m\u001b[39m\"\u001b[39;49m\u001b[39mGET\u001b[39;49m\u001b[39m\"\u001b[39;49m, params\u001b[39m=\u001b[39;49mparams, path\u001b[39m=\u001b[39;49mpath)\n",
      "File \u001b[1;32mc:\\Users\\SHAHEER\\anaconda3\\lib\\site-packages\\praw\\reddit.py:739\u001b[0m, in \u001b[0;36mReddit._objectify_request\u001b[1;34m(self, data, files, json, method, params, path)\u001b[0m\n\u001b[0;32m    713\u001b[0m \u001b[39mdef\u001b[39;00m \u001b[39m_objectify_request\u001b[39m(\n\u001b[0;32m    714\u001b[0m     \u001b[39mself\u001b[39m,\n\u001b[0;32m    715\u001b[0m     \u001b[39m*\u001b[39m,\n\u001b[1;32m   (...)\u001b[0m\n\u001b[0;32m    721\u001b[0m     path: \u001b[39mstr\u001b[39m \u001b[39m=\u001b[39m \u001b[39m\"\u001b[39m\u001b[39m\"\u001b[39m,\n\u001b[0;32m    722\u001b[0m ) \u001b[39m-\u001b[39m\u001b[39m>\u001b[39m Any:\n\u001b[0;32m    723\u001b[0m     \u001b[39m\"\"\"Run a request through the ``Objector``.\u001b[39;00m\n\u001b[0;32m    724\u001b[0m \n\u001b[0;32m    725\u001b[0m \u001b[39m    :param data: Dictionary, bytes, or file-like object to send in the body of the\u001b[39;00m\n\u001b[1;32m   (...)\u001b[0m\n\u001b[0;32m    736\u001b[0m \n\u001b[0;32m    737\u001b[0m \u001b[39m    \"\"\"\u001b[39;00m\n\u001b[0;32m    738\u001b[0m     \u001b[39mreturn\u001b[39;00m \u001b[39mself\u001b[39m\u001b[39m.\u001b[39m_objector\u001b[39m.\u001b[39mobjectify(\n\u001b[1;32m--> 739\u001b[0m         \u001b[39mself\u001b[39;49m\u001b[39m.\u001b[39;49mrequest(\n\u001b[0;32m    740\u001b[0m             data\u001b[39m=\u001b[39;49mdata,\n\u001b[0;32m    741\u001b[0m             files\u001b[39m=\u001b[39;49mfiles,\n\u001b[0;32m    742\u001b[0m             json\u001b[39m=\u001b[39;49mjson,\n\u001b[0;32m    743\u001b[0m             method\u001b[39m=\u001b[39;49mmethod,\n\u001b[0;32m    744\u001b[0m             params\u001b[39m=\u001b[39;49mparams,\n\u001b[0;32m    745\u001b[0m             path\u001b[39m=\u001b[39;49mpath,\n\u001b[0;32m    746\u001b[0m         )\n\u001b[0;32m    747\u001b[0m     )\n",
      "File \u001b[1;32mc:\\Users\\SHAHEER\\anaconda3\\lib\\site-packages\\praw\\util\\deprecate_args.py:43\u001b[0m, in \u001b[0;36m_deprecate_args.<locals>.wrapper.<locals>.wrapped\u001b[1;34m(*args, **kwargs)\u001b[0m\n\u001b[0;32m     36\u001b[0m     arg_string \u001b[39m=\u001b[39m _generate_arg_string(_old_args[: \u001b[39mlen\u001b[39m(args)])\n\u001b[0;32m     37\u001b[0m     warn(\n\u001b[0;32m     38\u001b[0m         \u001b[39mf\u001b[39m\u001b[39m\"\u001b[39m\u001b[39mPositional arguments for \u001b[39m\u001b[39m{\u001b[39;00mfunc\u001b[39m.\u001b[39m\u001b[39m__qualname__\u001b[39m\u001b[39m!r}\u001b[39;00m\u001b[39m will no longer be\u001b[39m\u001b[39m\"\u001b[39m\n\u001b[0;32m     39\u001b[0m         \u001b[39mf\u001b[39m\u001b[39m\"\u001b[39m\u001b[39m supported in PRAW 8.\u001b[39m\u001b[39m\\n\u001b[39;00m\u001b[39mCall this function with \u001b[39m\u001b[39m{\u001b[39;00marg_string\u001b[39m}\u001b[39;00m\u001b[39m.\u001b[39m\u001b[39m\"\u001b[39m,\n\u001b[0;32m     40\u001b[0m         \u001b[39mDeprecationWarning\u001b[39;00m,\n\u001b[0;32m     41\u001b[0m         stacklevel\u001b[39m=\u001b[39m\u001b[39m2\u001b[39m,\n\u001b[0;32m     42\u001b[0m     )\n\u001b[1;32m---> 43\u001b[0m \u001b[39mreturn\u001b[39;00m func(\u001b[39m*\u001b[39m\u001b[39m*\u001b[39m\u001b[39mdict\u001b[39m(\u001b[39mzip\u001b[39m(_old_args, args)), \u001b[39m*\u001b[39m\u001b[39m*\u001b[39mkwargs)\n",
      "File \u001b[1;32mc:\\Users\\SHAHEER\\anaconda3\\lib\\site-packages\\praw\\reddit.py:941\u001b[0m, in \u001b[0;36mReddit.request\u001b[1;34m(self, data, files, json, method, params, path)\u001b[0m\n\u001b[0;32m    939\u001b[0m     \u001b[39mraise\u001b[39;00m ClientException(\u001b[39m\"\u001b[39m\u001b[39mAt most one of \u001b[39m\u001b[39m'\u001b[39m\u001b[39mdata\u001b[39m\u001b[39m'\u001b[39m\u001b[39m or \u001b[39m\u001b[39m'\u001b[39m\u001b[39mjson\u001b[39m\u001b[39m'\u001b[39m\u001b[39m is supported.\u001b[39m\u001b[39m\"\u001b[39m)\n\u001b[0;32m    940\u001b[0m \u001b[39mtry\u001b[39;00m:\n\u001b[1;32m--> 941\u001b[0m     \u001b[39mreturn\u001b[39;00m \u001b[39mself\u001b[39;49m\u001b[39m.\u001b[39;49m_core\u001b[39m.\u001b[39;49mrequest(\n\u001b[0;32m    942\u001b[0m         data\u001b[39m=\u001b[39;49mdata,\n\u001b[0;32m    943\u001b[0m         files\u001b[39m=\u001b[39;49mfiles,\n\u001b[0;32m    944\u001b[0m         json\u001b[39m=\u001b[39;49mjson,\n\u001b[0;32m    945\u001b[0m         method\u001b[39m=\u001b[39;49mmethod,\n\u001b[0;32m    946\u001b[0m         params\u001b[39m=\u001b[39;49mparams,\n\u001b[0;32m    947\u001b[0m         path\u001b[39m=\u001b[39;49mpath,\n\u001b[0;32m    948\u001b[0m     )\n\u001b[0;32m    949\u001b[0m \u001b[39mexcept\u001b[39;00m BadRequest \u001b[39mas\u001b[39;00m exception:\n\u001b[0;32m    950\u001b[0m     \u001b[39mtry\u001b[39;00m:\n",
      "File \u001b[1;32mc:\\Users\\SHAHEER\\anaconda3\\lib\\site-packages\\prawcore\\sessions.py:330\u001b[0m, in \u001b[0;36mSession.request\u001b[1;34m(self, method, path, data, files, json, params, timeout)\u001b[0m\n\u001b[0;32m    328\u001b[0m     json[\u001b[39m\"\u001b[39m\u001b[39mapi_type\u001b[39m\u001b[39m\"\u001b[39m] \u001b[39m=\u001b[39m \u001b[39m\"\u001b[39m\u001b[39mjson\u001b[39m\u001b[39m\"\u001b[39m\n\u001b[0;32m    329\u001b[0m url \u001b[39m=\u001b[39m urljoin(\u001b[39mself\u001b[39m\u001b[39m.\u001b[39m_requestor\u001b[39m.\u001b[39moauth_url, path)\n\u001b[1;32m--> 330\u001b[0m \u001b[39mreturn\u001b[39;00m \u001b[39mself\u001b[39;49m\u001b[39m.\u001b[39;49m_request_with_retries(\n\u001b[0;32m    331\u001b[0m     data\u001b[39m=\u001b[39;49mdata,\n\u001b[0;32m    332\u001b[0m     files\u001b[39m=\u001b[39;49mfiles,\n\u001b[0;32m    333\u001b[0m     json\u001b[39m=\u001b[39;49mjson,\n\u001b[0;32m    334\u001b[0m     method\u001b[39m=\u001b[39;49mmethod,\n\u001b[0;32m    335\u001b[0m     params\u001b[39m=\u001b[39;49mparams,\n\u001b[0;32m    336\u001b[0m     timeout\u001b[39m=\u001b[39;49mtimeout,\n\u001b[0;32m    337\u001b[0m     url\u001b[39m=\u001b[39;49murl,\n\u001b[0;32m    338\u001b[0m )\n",
      "File \u001b[1;32mc:\\Users\\SHAHEER\\anaconda3\\lib\\site-packages\\prawcore\\sessions.py:266\u001b[0m, in \u001b[0;36mSession._request_with_retries\u001b[1;34m(self, data, files, json, method, params, timeout, url, retry_strategy_state)\u001b[0m\n\u001b[0;32m    253\u001b[0m     \u001b[39mreturn\u001b[39;00m \u001b[39mself\u001b[39m\u001b[39m.\u001b[39m_do_retry(\n\u001b[0;32m    254\u001b[0m         data,\n\u001b[0;32m    255\u001b[0m         files,\n\u001b[1;32m   (...)\u001b[0m\n\u001b[0;32m    263\u001b[0m         url,\n\u001b[0;32m    264\u001b[0m     )\n\u001b[0;32m    265\u001b[0m \u001b[39melif\u001b[39;00m response\u001b[39m.\u001b[39mstatus_code \u001b[39min\u001b[39;00m \u001b[39mself\u001b[39m\u001b[39m.\u001b[39mSTATUS_EXCEPTIONS:\n\u001b[1;32m--> 266\u001b[0m     \u001b[39mraise\u001b[39;00m \u001b[39mself\u001b[39m\u001b[39m.\u001b[39mSTATUS_EXCEPTIONS[response\u001b[39m.\u001b[39mstatus_code](response)\n\u001b[0;32m    267\u001b[0m \u001b[39melif\u001b[39;00m response\u001b[39m.\u001b[39mstatus_code \u001b[39m==\u001b[39m codes[\u001b[39m\"\u001b[39m\u001b[39mno_content\u001b[39m\u001b[39m\"\u001b[39m]:\n\u001b[0;32m    268\u001b[0m     \u001b[39mreturn\u001b[39;00m\n",
      "\u001b[1;31mRedirect\u001b[0m: Redirect to /subreddits/search"
     ]
    }
   ],
   "source": [
    "import praw\n",
    "from datetime import datetime\n",
    "user_agent = \"Ahmad 1.0 by /user/ahmad407\"\n",
    "reddit = praw.Reddit(\n",
    "    client_id = 'AzJE40YLWfAyY71kRGRSKA', \n",
    "    client_secret = 'g7BpsSTakcZvdRyhogi5S3PHA3ri8A', \n",
    "    user_agent = user_agent\n",
    ")\n",
    "limit = 10\n",
    "keywords = [\"bata\", \"service\", \"urbansole\"]\n",
    "subreddit = reddit.subreddit(keywords[0])\n",
    "k1 = []\n",
    "for submission in subreddit.hot(limit=limit):\n",
    "    \n",
    "    all_comments = submission.comments.list()\n",
    "    \n",
    "    for comment in all_comments:\n",
    "        if isinstance(comment, praw.models.reddit.comment.Comment):\n",
    "            data = {}\n",
    "            data['name'] = keywords[0]\n",
    "            data['description'] = subreddit.description\n",
    "            data['title'] = submission.title\n",
    "            data['source_name'] = submission.author\n",
    "            data['url'] = submission.url\n",
    "            data['author'] = comment.author\n",
    "            data['content'] = comment.body\n",
    "            date = datetime.utcfromtimestamp(comment.created_utc)\n",
    "            data['published_at'] = date\n",
    "            k1.append(data)\n",
    "k2 = []\n",
    "subreddit = reddit.subreddit(keywords[1])\n",
    "for submission in subreddit.hot(limit=limit):\n",
    "    \n",
    "    all_comments = submission.comments.list()\n",
    "    \n",
    "    for comment in all_comments:\n",
    "        if isinstance(comment, praw.models.reddit.comment.Comment):\n",
    "            data = {}\n",
    "            data['name'] = keywords[1]\n",
    "            data['description'] = subreddit.description\n",
    "            data['title'] = submission.title\n",
    "            data['source_name'] = submission.author\n",
    "            data['url'] = submission.url\n",
    "            data['author'] = comment.author\n",
    "            data['content'] = comment.body\n",
    "            date = datetime.utcfromtimestamp(comment.created_utc)\n",
    "        \n",
    "            data['published_at'] = date\n",
    "            k2.append(data)\n",
    "k3 = []\n",
    "subreddit = reddit.subreddit(keywords[2])\n",
    "for submission in subreddit.hot(limit=limit):\n",
    "    \n",
    "    all_comments = submission.comments.list()\n",
    "    \n",
    "    for comment in all_comments:\n",
    "        if isinstance(comment, praw.models.reddit.comment.Comment):\n",
    "            data = {}\n",
    "            data['name'] = keywords[2]\n",
    "            data['description'] = subreddit.description\n",
    "            data['title'] = submission.title\n",
    "            data['source_name'] = submission.author\n",
    "            data['url'] = submission.url\n",
    "            data['author'] = comment.author\n",
    "            data['content'] = comment.body\n",
    "            date = datetime.utcfromtimestamp(comment.created_utc)\n",
    "            data['published_at'] = date\n",
    "            k3.append(data)\n",
    "\n"
   ]
  },
  {
   "cell_type": "code",
   "execution_count": 3,
   "id": "b6e5cc88",
   "metadata": {},
   "outputs": [
    {
     "data": {
      "text/plain": [
       "[]"
      ]
     },
     "execution_count": 3,
     "metadata": {},
     "output_type": "execute_result"
    }
   ],
   "source": [
    "k2"
   ]
  },
  {
   "cell_type": "code",
   "execution_count": 86,
   "id": "8c56b47a",
   "metadata": {},
   "outputs": [
    {
     "ename": "TypeError",
     "evalue": "descriptor 'date' for 'datetime.datetime' objects doesn't apply to a 'int' object",
     "output_type": "error",
     "traceback": [
      "\u001b[1;31m---------------------------------------------------------------------------\u001b[0m",
      "\u001b[1;31mTypeError\u001b[0m                                 Traceback (most recent call last)",
      "\u001b[1;32me:\\Fiver\\Sentiment\\Backend\\Fastapi\\given\\Reddit_Sentiment.ipynb Cell 15\u001b[0m in \u001b[0;36m<cell line: 1>\u001b[1;34m()\u001b[0m\n\u001b[1;32m----> <a href='vscode-notebook-cell:/e%3A/Fiver/Sentiment/Backend/Fastapi/given/Reddit_Sentiment.ipynb#X44sZmlsZQ%3D%3D?line=0'>1</a>\u001b[0m date \u001b[39m=\u001b[39m datetime\u001b[39m.\u001b[39;49mdate(\u001b[39m2022\u001b[39;49m, \u001b[39m12\u001b[39;49m, \u001b[39m30\u001b[39;49m)\n\u001b[0;32m      <a href='vscode-notebook-cell:/e%3A/Fiver/Sentiment/Backend/Fastapi/given/Reddit_Sentiment.ipynb#X44sZmlsZQ%3D%3D?line=1'>2</a>\u001b[0m date \u001b[39m=\u001b[39m date\u001b[39m.\u001b[39mdate()\n\u001b[0;32m      <a href='vscode-notebook-cell:/e%3A/Fiver/Sentiment/Backend/Fastapi/given/Reddit_Sentiment.ipynb#X44sZmlsZQ%3D%3D?line=2'>3</a>\u001b[0m date\n",
      "\u001b[1;31mTypeError\u001b[0m: descriptor 'date' for 'datetime.datetime' objects doesn't apply to a 'int' object"
     ]
    }
   ],
   "source": [
    "date = datetime.date(2022, 12, 30)\n",
    "date = date.date()\n",
    "date"
   ]
  },
  {
   "cell_type": "code",
   "execution_count": 78,
   "id": "7361781e",
   "metadata": {},
   "outputs": [],
   "source": [
    "def remove_duplicates(list_of_dicts):\n",
    "    # create a set to store the dictionaries\n",
    "    unique_dicts = set()\n",
    "    # create a new list to store the unique dictionaries\n",
    "    result = []\n",
    "    # iterate over the list of dictionaries\n",
    "    for dictionary in list_of_dicts:\n",
    "        # convert the dictionary to a tuple and add it to the set\n",
    "        unique_dicts.add(tuple(dictionary.items()))\n",
    "    # use a list comprehension to create a list of dictionaries from the unique tuples in the set\n",
    "    result = [dict(t) for t in unique_dicts]\n",
    "    # return the resulting list\n",
    "    return result"
   ]
  },
  {
   "cell_type": "code",
   "execution_count": 79,
   "id": "47c34bb4",
   "metadata": {},
   "outputs": [],
   "source": [
    "new_k = remove_duplicates(k1)"
   ]
  },
  {
   "cell_type": "code",
   "execution_count": 80,
   "id": "b087bac6",
   "metadata": {},
   "outputs": [
    {
     "data": {
      "text/plain": [
       "12"
      ]
     },
     "execution_count": 80,
     "metadata": {},
     "output_type": "execute_result"
    }
   ],
   "source": [
    "len(new_k)"
   ]
  },
  {
   "cell_type": "code",
   "execution_count": 58,
   "id": "7ca702ed",
   "metadata": {},
   "outputs": [
    {
     "name": "stdout",
     "output_type": "stream",
     "text": [
      "[{'a': 1, 'b': 2}, {'a': 3, 'b': 4}]\n"
     ]
    }
   ],
   "source": [
    "list_of_dicts = [{'a': 1, 'b': 2}, {'a': 1, 'b': 2}, {'a': 3, 'b': 4}]\n",
    "\n",
    "# remove duplicates from the list\n",
    "unique_dicts = remove_duplicates(list_of_dicts)\n",
    "\n",
    "print(unique_dicts)  "
   ]
  },
  {
   "cell_type": "code",
   "execution_count": 103,
   "id": "8d679f69",
   "metadata": {},
   "outputs": [],
   "source": [
    "import praw\n",
    "from datetime import datetime\n",
    "user_agent = \"Ahmad 1.0 by /user/ahmad407\"\n",
    "reddit = praw.Reddit(\n",
    "    client_id = 'AzJE40YLWfAyY71kRGRSKA', \n",
    "    client_secret = 'g7BpsSTakcZvdRyhogi5S3PHA3ri8A', \n",
    "    user_agent = user_agent\n",
    ")\n",
    "limit = 10\n",
    "keywords = [\"apple\", \"alienware\", \"lenovo\"]\n",
    "subreddit = reddit.subreddit(keywords[0])\n",
    "k1 = []\n",
    "for submission in subreddit.hot(limit=limit):\n",
    "    \n",
    "    all_comments = submission.comments.list()\n",
    "    \n",
    "    for comment in all_comments:\n",
    "        if isinstance(comment, praw.models.reddit.comment.Comment):\n",
    "            data = {}\n",
    "            data['name'] = keywords[0]\n",
    "            data['description'] = subreddit.description\n",
    "            data['title'] = submission.title\n",
    "            data['source_name'] = submission.author\n",
    "            data['url'] = submission.url\n",
    "            data['author'] = comment.author\n",
    "            data['content'] = comment.body\n",
    "            date = str(datetime.fromtimestamp(comment.created_utc))\n",
    "            data['published_at'] = date\n",
    "            k1.append(data)\n",
    "    \n",
    "\n",
    "k2 = []\n",
    "subreddit = reddit.subreddit(keywords[1])\n",
    "for submission in subreddit.hot(limit=limit):\n",
    "    \n",
    "    all_comments = submission.comments.list()\n",
    "    \n",
    "    for comment in all_comments:\n",
    "        if isinstance(comment, praw.models.reddit.comment.Comment):\n",
    "            data = {}\n",
    "            data['name'] = keywords[1]\n",
    "            data['description'] = subreddit.description\n",
    "            data['title'] = submission.title\n",
    "            data['source_name'] = submission.author\n",
    "            data['url'] = submission.url\n",
    "            data['author'] = comment.author\n",
    "            data['content'] = comment.body\n",
    "            date = str(datetime.fromtimestamp(comment.created_utc))\n",
    "            \n",
    "            data['published_at'] = date\n",
    "            k2.append(data)\n",
    "k3 = []\n",
    "subreddit = reddit.subreddit(keywords[2])\n",
    "for submission in subreddit.hot(limit=limit):\n",
    "    \n",
    "    all_comments = submission.comments.list()\n",
    "    \n",
    "    for comment in all_comments:\n",
    "        if isinstance(comment, praw.models.reddit.comment.Comment):\n",
    "            data = {}\n",
    "            data['name'] = keywords[2]\n",
    "            data['description'] = subreddit.description\n",
    "            data['title'] = submission.title\n",
    "            data['source_name'] = submission.author\n",
    "            data['url'] = submission.url\n",
    "            data['author'] = comment.author\n",
    "            data['content'] = comment.body\n",
    "            date = str(datetime.fromtimestamp(comment.created_utc))\n",
    "            data['published_at'] = date\n",
    "            k3.append(data)\n",
    "\n"
   ]
  },
  {
   "cell_type": "code",
   "execution_count": null,
   "id": "c27e63e8",
   "metadata": {},
   "outputs": [],
   "source": []
  }
 ],
 "metadata": {
  "kernelspec": {
   "display_name": "base",
   "language": "python",
   "name": "python3"
  },
  "language_info": {
   "codemirror_mode": {
    "name": "ipython",
    "version": 3
   },
   "file_extension": ".py",
   "mimetype": "text/x-python",
   "name": "python",
   "nbconvert_exporter": "python",
   "pygments_lexer": "ipython3",
   "version": "3.9.12"
  },
  "vscode": {
   "interpreter": {
    "hash": "c095e28c0380306a91dfcf91f5fd5762123fb83d5b68f6c5271d00cc634a65bf"
   }
  }
 },
 "nbformat": 4,
 "nbformat_minor": 5
}
