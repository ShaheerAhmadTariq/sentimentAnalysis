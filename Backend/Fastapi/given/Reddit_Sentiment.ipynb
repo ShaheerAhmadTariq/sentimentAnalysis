{
 "cells": [
  {
   "cell_type": "code",
   "execution_count": 4,
   "id": "4f8c6f5f",
   "metadata": {},
   "outputs": [],
   "source": [
    "import praw\n",
    "from datetime import datetime\n",
    "\n",
    "user_agent = \"Ahmad 1.0 by /user/ahmad407\"\n",
    "reddit = praw.Reddit(\n",
    "    client_id = 'AzJE40YLWfAyY71kRGRSKA', \n",
    "    client_secret = 'g7BpsSTakcZvdRyhogi5S3PHA3ri8A', \n",
    "    user_agent = user_agent\n",
    ")\n",
    "\n",
    "\n",
    "posts = reddit.subreddit(\"all\").search('razer+alienware+lenovo', limit = 10)\n",
    "    \n",
    "    # print('Author Name: '+str(submission.author))\n",
    "    # print('Submission Title: '+submission.title)\n",
    "    \n",
    "    # if (submission.selftext == ''):\n",
    "    #     submission.selftext = 'This user did not comment on this.'\n",
    " \n",
    "    # print('Comment: '+submission.selftext)\n",
    "    # print('Created: ',datetime.utcfromtimestamp(submission.created_utc))\n",
    "    # print('URL: '+submission.url)\n",
    "    # print('Thumbnail: '+submission.thumbnail)\n",
    "\n",
    "    # print(\"\\n\")"
   ]
  },
  {
   "cell_type": "code",
   "execution_count": 10,
   "id": "1cd4bc1f",
   "metadata": {},
   "outputs": [
    {
     "data": {
      "text/plain": [
       "<praw.models.listing.generator.ListingGenerator at 0x15b24b75850>"
      ]
     },
     "execution_count": 10,
     "metadata": {},
     "output_type": "execute_result"
    }
   ],
   "source": [
    "posts"
   ]
  },
  {
   "cell_type": "code",
   "execution_count": 7,
   "id": "349727ce",
   "metadata": {},
   "outputs": [],
   "source": [
    "for post in posts:\n",
    "    print(post.title, post.score)"
   ]
  },
  {
   "cell_type": "code",
   "execution_count": 3,
   "id": "2e510677",
   "metadata": {},
   "outputs": [
    {
     "name": "stdout",
     "output_type": "stream",
     "text": [
      "Super_Salami\n",
      "Particular-Pop-6695\n",
      "Name4Neo\n",
      "SINOYA\n",
      "Primary_Composer_485\n",
      "xLeeS\n",
      "cns000\n",
      "TremorMonkey\n",
      "SkiLLeD_SkuLL\n",
      "FlappidyFlipper\n"
     ]
    }
   ],
   "source": [
    "for submission in reddit.subreddit('razer+alienware+lenovo').new(limit=10):\n",
    "    print(submission.author)"
   ]
  },
  {
   "cell_type": "code",
   "execution_count": null,
   "id": "9577de96",
   "metadata": {},
   "outputs": [],
   "source": [
    "import requests\n",
    "\n",
    "api_key = \"YOUR_API_KEY\"\n",
    "query = \"razer+alienware+lenovo\"\n",
    "limit = 10\n",
    "\n",
    "url = f\"https://www.reddit.com/api/search_reddit_names.json?query={query}&limit={limit}\"\n",
    "\n",
    "headers = {\n",
    "    \"Authorization\": f\"bearer {api_key}\",\n",
    "}\n",
    "\n",
    "response = requests.get(url, headers=headers)\n",
    "\n",
    "if response.status_code == 200:\n",
    "    data = response.json()\n",
    "    print(data)\n",
    "else:\n",
    "    print(f\"Request failed with status code {response.status_code}\")\n"
   ]
  },
  {
   "cell_type": "code",
   "execution_count": 5,
   "id": "490850f8",
   "metadata": {},
   "outputs": [
    {
     "name": "stdout",
     "output_type": "stream",
     "text": [
      "Cjh1998\n"
     ]
    }
   ],
   "source": [
    "import praw\n",
    "from datetime import datetime\n",
    "\n",
    "user_agent = \"Ahmad 1.0 by /user/ahmad407\"\n",
    "reddit = praw.Reddit(\n",
    "    client_id = 'AzJE40YLWfAyY71kRGRSKA', \n",
    "    client_secret = 'g7BpsSTakcZvdRyhogi5S3PHA3ri8A', \n",
    "    user_agent = user_agent\n",
    ")\n",
    "\n",
    "\n",
    "for submission in reddit.subreddit(\"razer+alienware+lenovo\").new(limit=100):\n",
    "    print(submission.author)\n",
    "    break\n",
    "    # print('Author Name: '+str(submission.author))\n",
    "    # print('Submission Title: '+submission.title)\n",
    "    \n",
    "    # if (submission.selftext == ''):\n",
    "    #     submission.selftext = 'This user did not comment on this.'\n",
    " \n",
    "    # print('Comment: '+submission.selftext)\n",
    "    # print('Created: ',datetime.utcfromtimestamp(submission.created_utc))\n",
    "    # print('URL: '+submission.url)\n",
    "    # print('Thumbnail: '+submission.thumbnail)\n",
    "\n",
    "    print(\"\\n\")"
   ]
  },
  {
   "cell_type": "code",
   "execution_count": 6,
   "id": "33e9eab2",
   "metadata": {},
   "outputs": [
    {
     "name": "stdout",
     "output_type": "stream",
     "text": [
      "<class 'praw.models.reddit.submission.Submission'>\n"
     ]
    }
   ],
   "source": [
    "\n",
    "for submission in reddit.subreddit(\"razer+alienware+lenovo\").new(limit=100):\n",
    "    print(type(submission))\n",
    "    break"
   ]
  },
  {
   "cell_type": "code",
   "execution_count": 11,
   "id": "d3749eb1",
   "metadata": {},
   "outputs": [
    {
     "name": "stdout",
     "output_type": "stream",
     "text": [
      "r/Apple: Unofficial Apple Community\n"
     ]
    }
   ],
   "source": [
    "import praw\n",
    "from datetime import datetime\n",
    "\n",
    "user_agent = \"Ahmad 1.0 by /user/ahmad407\"\n",
    "reddit = praw.Reddit(\n",
    "    client_id = 'AzJE40YLWfAyY71kRGRSKA', \n",
    "    client_secret = 'g7BpsSTakcZvdRyhogi5S3PHA3ri8A', \n",
    "    user_agent = user_agent\n",
    ")\n",
    "subreddit = reddit.subreddit(\"apple\")\n",
    "print(subreddit.title)"
   ]
  },
  {
   "cell_type": "code",
   "execution_count": 25,
   "id": "2c558d86",
   "metadata": {},
   "outputs": [
    {
     "name": "stdout",
     "output_type": "stream",
     "text": [
      "Daily Advice Thread - December 30, 2022\n",
      "4\n",
      "https://www.reddit.com/r/apple/comments/zyxtud/daily_advice_thread_december_30_2022/\n",
      "Apple Didn't Release Any New Macs This Quarter for First Time Since 2000\n",
      "704\n",
      "https://www.macrumors.com/2022/12/30/no-new-macs-for-first-time-since-2000/\n",
      "iPhone 15 price cut considered by Apple, for both base and Plus models\n",
      "121\n",
      "https://9to5mac.com/2022/12/30/iphone-15-price-cut/\n",
      "A17 chip for iPhone 15 may focus more on battery life than power, suggests report\n",
      "3685\n",
      "https://9to5mac.com/2022/12/29/a17-chip-for-iphone-15/\n",
      "Apple Working on 11.1-Inch and 13-Inch OLED iPad Pro Models for 2024\n",
      "418\n",
      "https://www.macrumors.com/2022/12/29/oled-ipads-2024/\n",
      "Apple Supplier TSMC Starts Mass Production on 3nm Chips\n",
      "86\n",
      "https://www.macrumors.com/2022/12/29/tsmc-3nm-mass-production-begins/\n",
      "WhatsApp will stop working on nearly 50 different devices on December 31, 2022, including the iPhone 5 and iPhone 5c\n",
      "909\n",
      "https://faq.whatsapp.com/1150261202542208?helpref=faq_content\n",
      "Nowhere to suggest Apple Contacts app feature?\n",
      "52\n",
      "https://www.reddit.com/r/apple/comments/zyhw4m/nowhere_to_suggest_apple_contacts_app_feature/\n",
      "Apple Mini-LED Display Supplier Says Demand Shrinking As Rumors Suggest Transition to OLED in Coming Years\n",
      "316\n",
      "https://www.macrumors.com/2022/12/29/apple-mini-led-suppliers-oled/\n",
      "Apple leads the smartphone space in the overall approach towards sustainability, according to Counterpoint Research’s\n",
      "2\n",
      "https://www.counterpointresearch.com/smartphone-sustainability-touching-new-highs-with-apple-samsung-in-the-lead-but-is-it-enough/\n"
     ]
    }
   ],
   "source": [
    "total_comments = []\n",
    "for submission in subreddit.hot(limit=10):\n",
    "    print(submission.title)\n",
    "    # Output: the submission's title\n",
    "    print(submission.score)\n",
    "    # Output: the submission's score\n",
    "    # print(submission.id)\n",
    "    # Output: the submission's ID\n",
    "    print(submission.url)\n",
    "    all_comments = list(submission.comments)\n",
    "    total_comments.append(all_comments)"
   ]
  },
  {
   "cell_type": "code",
   "execution_count": 30,
   "id": "feacd110",
   "metadata": {},
   "outputs": [
    {
     "name": "stdout",
     "output_type": "stream",
     "text": [
      "I have a problem with my AirPods Pro gen 1 where at time when I put them in my ears the audio is only playing in one ear making me have to reconnect them several times to fix the problem. Do anyone have a fix for it, I have tried to forget them on my iPhone 14 pro but it didn’t work.\n",
      "1672401091.0\n"
     ]
    }
   ],
   "source": [
    "for comment in total_comments:\n",
    "    # print(comment.body)\n",
    "    # print(len(comment))\n",
    "    # break\n",
    "    for c in comment:\n",
    "        print(c.body)\n",
    "        print(c.created_utc)\n",
    "        break\n",
    "    break"
   ]
  },
  {
   "cell_type": "code",
   "execution_count": 27,
   "id": "13f7082c",
   "metadata": {},
   "outputs": [
    {
     "data": {
      "text/plain": [
       "10"
      ]
     },
     "execution_count": 27,
     "metadata": {},
     "output_type": "execute_result"
    }
   ],
   "source": [
    "len(total_comments)"
   ]
  },
  {
   "cell_type": "code",
   "execution_count": 35,
   "id": "2ad671b6",
   "metadata": {},
   "outputs": [
    {
     "ename": "AttributeError",
     "evalue": "'MoreComments' object has no attribute 'author'",
     "output_type": "error",
     "traceback": [
      "\u001b[1;31m---------------------------------------------------------------------------\u001b[0m",
      "\u001b[1;31mAttributeError\u001b[0m                            Traceback (most recent call last)",
      "\u001b[1;32me:\\Fiver\\Sentiment\\Backend\\Fastapi\\given\\Reddit_Sentiment.ipynb Cell 12\u001b[0m in \u001b[0;36m<cell line: 18>\u001b[1;34m()\u001b[0m\n\u001b[0;32m     <a href='vscode-notebook-cell:/e%3A/Fiver/Sentiment/Backend/Fastapi/given/Reddit_Sentiment.ipynb#X14sZmlsZQ%3D%3D?line=21'>22</a>\u001b[0m all_comments \u001b[39m=\u001b[39m submission\u001b[39m.\u001b[39mcomments\u001b[39m.\u001b[39mlist()\n\u001b[0;32m     <a href='vscode-notebook-cell:/e%3A/Fiver/Sentiment/Backend/Fastapi/given/Reddit_Sentiment.ipynb#X14sZmlsZQ%3D%3D?line=23'>24</a>\u001b[0m \u001b[39mfor\u001b[39;00m c \u001b[39min\u001b[39;00m all_comments:\n\u001b[1;32m---> <a href='vscode-notebook-cell:/e%3A/Fiver/Sentiment/Backend/Fastapi/given/Reddit_Sentiment.ipynb#X14sZmlsZQ%3D%3D?line=24'>25</a>\u001b[0m     data[\u001b[39m'\u001b[39m\u001b[39mauthor\u001b[39m\u001b[39m'\u001b[39m] \u001b[39m=\u001b[39m c\u001b[39m.\u001b[39;49mauthor\n\u001b[0;32m     <a href='vscode-notebook-cell:/e%3A/Fiver/Sentiment/Backend/Fastapi/given/Reddit_Sentiment.ipynb#X14sZmlsZQ%3D%3D?line=25'>26</a>\u001b[0m     data[\u001b[39m'\u001b[39m\u001b[39mcontent\u001b[39m\u001b[39m'\u001b[39m] \u001b[39m=\u001b[39m c\u001b[39m.\u001b[39mbody\n\u001b[0;32m     <a href='vscode-notebook-cell:/e%3A/Fiver/Sentiment/Backend/Fastapi/given/Reddit_Sentiment.ipynb#X14sZmlsZQ%3D%3D?line=26'>27</a>\u001b[0m     date \u001b[39m=\u001b[39m datetime\u001b[39m.\u001b[39mutcfromtimestamp(c\u001b[39m.\u001b[39mcreated_utc)\n",
      "\u001b[1;31mAttributeError\u001b[0m: 'MoreComments' object has no attribute 'author'"
     ]
    }
   ],
   "source": [
    "import praw\n",
    "from datetime import datetime\n",
    "\n",
    "user_agent = \"Ahmad 1.0 by /user/ahmad407\"\n",
    "reddit = praw.Reddit(\n",
    "    client_id = 'AzJE40YLWfAyY71kRGRSKA', \n",
    "    client_secret = 'g7BpsSTakcZvdRyhogi5S3PHA3ri8A', \n",
    "    user_agent = user_agent\n",
    ")\n",
    "keywords = [\"razer\", \"alienware\", \"lenovo\"]\n",
    "\n",
    "data = {}\n",
    "subreddit = reddit.subreddit(keywords[0])\n",
    "data['name'] = keywords[0]\n",
    "data['description'] = subreddit.description\n",
    "# print(subreddit.title)\n",
    "k1 = []\n",
    "for submission in subreddit.hot(limit=1):\n",
    "    data['title'] = submission.title\n",
    "    data['source_name'] = submission.author\n",
    "    data['url'] = submission.url\n",
    "    all_comments = submission.comments.list()\n",
    "    \n",
    "    for c in all_comments:\n",
    "        data['author'] = c.author\n",
    "        data['content'] = c.body\n",
    "        date = datetime.utcfromtimestamp(c.created_utc)\n",
    "        data['published_at'] = date\n",
    "        k1.append(data)\n",
    "\n"
   ]
  },
  {
   "cell_type": "code",
   "execution_count": 44,
   "id": "7c05e743",
   "metadata": {},
   "outputs": [
    {
     "data": {
      "text/plain": [
       "[{'name': 'razer',\n",
       "  'description': '**A subreddit for discussion of RΛZΞR brand gaming products. By redditors, for redditors.**   \\n****\\n\\nRΛZΞR was founded in 1998 in San Diego, California by CEO Min-Liang Tan and President Robert \"RΛZΞRguy\" Krakoff in a tiny shared office with a couple other gamers. \\n\\nRΛZΞR is more than just the world\\'s leading brand in gaming.\\n\\n*****\\nFriendly subreddits!  \\n\\n/r/RazerPhone   \\n/r/ChromaProfiles  \\n/r/MechanicalKeyboards  \\n/r/SynapseShare  \\n/r/SuggestaLaptop  \\n/r/GamingLaptops\\n*****\\n[](https://rebrand.ly/5tore)\\n*****\\n[](https://rebrand.ly/SupportMain)\\n\\n\\n*****\\n*Other RΛZΞR Links*\\n\\n[](https://twitter.com/Razer)\\n[](https://www.facebook.com/razer)\\n[](https://www.youtube.com/user/cultofrazer)\\n[](https://insider.razer.com)\\n\\n*****\\n**NOTICE**:\\n\\nDue to the nature of this subreddit and RΛZΞR customer support sometimes handling customer\\'s personal information through PMs, do not trust anyone who says they are a RΛZΞR employee unless they have a flair.\\n\\nRemember to keep your personal details safe, including case numbers. You can find the list of trusted **RΛZΞR accounts** and much more in the [wiki](/r/razer/wiki/trusted_accounts)\\n*****\\n\\n**[> Posting Rules <](https://www.reddit.com/r/razer/about/rules/)**  \\nShort version:\\n\\n1. Must follow **Reddiquette**. Don\\'t be a dick.\\n1. Low-effort/unrelated content will be removed.\\n1. All troubleshooting or support related posts only in the **Technical Support Sticky** thread.\\n1. All \"Rant\" posts must: Include a reasonable amount of details about the issue, Not be from throwaway, abandoned or new accounts, and should not be used as a support avenue. \\n1. Do not spam your personal website or youtube channel. Accounts created only for this purpose will be banned instantly.\\n1. Don\\'t post **users\\' personal information**.\\n1. No asking about **restock/availability/release dates**\\n1. **No trading. No selling. No buying.** Use /r/hardwareswap instead\\n1. Additional posting guidelines:\\n * Excessive reposts will be deleted\\n * NSFW submissions must be labeled\\n * No \"general\" URL shorteners (bit.ly, tinyurl, etc). This is reddit\\'s policy\\n * Submissions that enable or have the intent to enable piracy and online gambling are not permitted\\n * Please flair your submission accordingly. You can do so by simply clicking flair under your link!\\n\\n****\\n[](https://rebrand.ly/Toaster)\\n*****',\n",
       "  'title': 'December Technical Support Sticky',\n",
       "  'source_name': Redditor(name='BeepBoopBopReee'),\n",
       "  'url': 'https://www.reddit.com/r/razer/comments/z96c8r/december_technical_support_sticky/',\n",
       "  'author': Redditor(name='BeepBoopBopReee'),\n",
       "  'content': '**Other**',\n",
       "  'published_at': datetime.datetime(2022, 11, 30, 23, 0, 51)},\n",
       " {'name': 'razer',\n",
       "  'description': '**A subreddit for discussion of RΛZΞR brand gaming products. By redditors, for redditors.**   \\n****\\n\\nRΛZΞR was founded in 1998 in San Diego, California by CEO Min-Liang Tan and President Robert \"RΛZΞRguy\" Krakoff in a tiny shared office with a couple other gamers. \\n\\nRΛZΞR is more than just the world\\'s leading brand in gaming.\\n\\n*****\\nFriendly subreddits!  \\n\\n/r/RazerPhone   \\n/r/ChromaProfiles  \\n/r/MechanicalKeyboards  \\n/r/SynapseShare  \\n/r/SuggestaLaptop  \\n/r/GamingLaptops\\n*****\\n[](https://rebrand.ly/5tore)\\n*****\\n[](https://rebrand.ly/SupportMain)\\n\\n\\n*****\\n*Other RΛZΞR Links*\\n\\n[](https://twitter.com/Razer)\\n[](https://www.facebook.com/razer)\\n[](https://www.youtube.com/user/cultofrazer)\\n[](https://insider.razer.com)\\n\\n*****\\n**NOTICE**:\\n\\nDue to the nature of this subreddit and RΛZΞR customer support sometimes handling customer\\'s personal information through PMs, do not trust anyone who says they are a RΛZΞR employee unless they have a flair.\\n\\nRemember to keep your personal details safe, including case numbers. You can find the list of trusted **RΛZΞR accounts** and much more in the [wiki](/r/razer/wiki/trusted_accounts)\\n*****\\n\\n**[> Posting Rules <](https://www.reddit.com/r/razer/about/rules/)**  \\nShort version:\\n\\n1. Must follow **Reddiquette**. Don\\'t be a dick.\\n1. Low-effort/unrelated content will be removed.\\n1. All troubleshooting or support related posts only in the **Technical Support Sticky** thread.\\n1. All \"Rant\" posts must: Include a reasonable amount of details about the issue, Not be from throwaway, abandoned or new accounts, and should not be used as a support avenue. \\n1. Do not spam your personal website or youtube channel. Accounts created only for this purpose will be banned instantly.\\n1. Don\\'t post **users\\' personal information**.\\n1. No asking about **restock/availability/release dates**\\n1. **No trading. No selling. No buying.** Use /r/hardwareswap instead\\n1. Additional posting guidelines:\\n * Excessive reposts will be deleted\\n * NSFW submissions must be labeled\\n * No \"general\" URL shorteners (bit.ly, tinyurl, etc). This is reddit\\'s policy\\n * Submissions that enable or have the intent to enable piracy and online gambling are not permitted\\n * Please flair your submission accordingly. You can do so by simply clicking flair under your link!\\n\\n****\\n[](https://rebrand.ly/Toaster)\\n*****',\n",
       "  'title': 'December Technical Support Sticky',\n",
       "  'source_name': Redditor(name='BeepBoopBopReee'),\n",
       "  'url': 'https://www.reddit.com/r/razer/comments/z96c8r/december_technical_support_sticky/',\n",
       "  'author': Redditor(name='BeepBoopBopReee'),\n",
       "  'content': '**Other**',\n",
       "  'published_at': datetime.datetime(2022, 11, 30, 23, 0, 51)},\n",
       " {'name': 'razer',\n",
       "  'description': '**A subreddit for discussion of RΛZΞR brand gaming products. By redditors, for redditors.**   \\n****\\n\\nRΛZΞR was founded in 1998 in San Diego, California by CEO Min-Liang Tan and President Robert \"RΛZΞRguy\" Krakoff in a tiny shared office with a couple other gamers. \\n\\nRΛZΞR is more than just the world\\'s leading brand in gaming.\\n\\n*****\\nFriendly subreddits!  \\n\\n/r/RazerPhone   \\n/r/ChromaProfiles  \\n/r/MechanicalKeyboards  \\n/r/SynapseShare  \\n/r/SuggestaLaptop  \\n/r/GamingLaptops\\n*****\\n[](https://rebrand.ly/5tore)\\n*****\\n[](https://rebrand.ly/SupportMain)\\n\\n\\n*****\\n*Other RΛZΞR Links*\\n\\n[](https://twitter.com/Razer)\\n[](https://www.facebook.com/razer)\\n[](https://www.youtube.com/user/cultofrazer)\\n[](https://insider.razer.com)\\n\\n*****\\n**NOTICE**:\\n\\nDue to the nature of this subreddit and RΛZΞR customer support sometimes handling customer\\'s personal information through PMs, do not trust anyone who says they are a RΛZΞR employee unless they have a flair.\\n\\nRemember to keep your personal details safe, including case numbers. You can find the list of trusted **RΛZΞR accounts** and much more in the [wiki](/r/razer/wiki/trusted_accounts)\\n*****\\n\\n**[> Posting Rules <](https://www.reddit.com/r/razer/about/rules/)**  \\nShort version:\\n\\n1. Must follow **Reddiquette**. Don\\'t be a dick.\\n1. Low-effort/unrelated content will be removed.\\n1. All troubleshooting or support related posts only in the **Technical Support Sticky** thread.\\n1. All \"Rant\" posts must: Include a reasonable amount of details about the issue, Not be from throwaway, abandoned or new accounts, and should not be used as a support avenue. \\n1. Do not spam your personal website or youtube channel. Accounts created only for this purpose will be banned instantly.\\n1. Don\\'t post **users\\' personal information**.\\n1. No asking about **restock/availability/release dates**\\n1. **No trading. No selling. No buying.** Use /r/hardwareswap instead\\n1. Additional posting guidelines:\\n * Excessive reposts will be deleted\\n * NSFW submissions must be labeled\\n * No \"general\" URL shorteners (bit.ly, tinyurl, etc). This is reddit\\'s policy\\n * Submissions that enable or have the intent to enable piracy and online gambling are not permitted\\n * Please flair your submission accordingly. You can do so by simply clicking flair under your link!\\n\\n****\\n[](https://rebrand.ly/Toaster)\\n*****',\n",
       "  'title': 'December Technical Support Sticky',\n",
       "  'source_name': Redditor(name='BeepBoopBopReee'),\n",
       "  'url': 'https://www.reddit.com/r/razer/comments/z96c8r/december_technical_support_sticky/',\n",
       "  'author': Redditor(name='BeepBoopBopReee'),\n",
       "  'content': '**Other**',\n",
       "  'published_at': datetime.datetime(2022, 11, 30, 23, 0, 51)},\n",
       " {'name': 'razer',\n",
       "  'description': '**A subreddit for discussion of RΛZΞR brand gaming products. By redditors, for redditors.**   \\n****\\n\\nRΛZΞR was founded in 1998 in San Diego, California by CEO Min-Liang Tan and President Robert \"RΛZΞRguy\" Krakoff in a tiny shared office with a couple other gamers. \\n\\nRΛZΞR is more than just the world\\'s leading brand in gaming.\\n\\n*****\\nFriendly subreddits!  \\n\\n/r/RazerPhone   \\n/r/ChromaProfiles  \\n/r/MechanicalKeyboards  \\n/r/SynapseShare  \\n/r/SuggestaLaptop  \\n/r/GamingLaptops\\n*****\\n[](https://rebrand.ly/5tore)\\n*****\\n[](https://rebrand.ly/SupportMain)\\n\\n\\n*****\\n*Other RΛZΞR Links*\\n\\n[](https://twitter.com/Razer)\\n[](https://www.facebook.com/razer)\\n[](https://www.youtube.com/user/cultofrazer)\\n[](https://insider.razer.com)\\n\\n*****\\n**NOTICE**:\\n\\nDue to the nature of this subreddit and RΛZΞR customer support sometimes handling customer\\'s personal information through PMs, do not trust anyone who says they are a RΛZΞR employee unless they have a flair.\\n\\nRemember to keep your personal details safe, including case numbers. You can find the list of trusted **RΛZΞR accounts** and much more in the [wiki](/r/razer/wiki/trusted_accounts)\\n*****\\n\\n**[> Posting Rules <](https://www.reddit.com/r/razer/about/rules/)**  \\nShort version:\\n\\n1. Must follow **Reddiquette**. Don\\'t be a dick.\\n1. Low-effort/unrelated content will be removed.\\n1. All troubleshooting or support related posts only in the **Technical Support Sticky** thread.\\n1. All \"Rant\" posts must: Include a reasonable amount of details about the issue, Not be from throwaway, abandoned or new accounts, and should not be used as a support avenue. \\n1. Do not spam your personal website or youtube channel. Accounts created only for this purpose will be banned instantly.\\n1. Don\\'t post **users\\' personal information**.\\n1. No asking about **restock/availability/release dates**\\n1. **No trading. No selling. No buying.** Use /r/hardwareswap instead\\n1. Additional posting guidelines:\\n * Excessive reposts will be deleted\\n * NSFW submissions must be labeled\\n * No \"general\" URL shorteners (bit.ly, tinyurl, etc). This is reddit\\'s policy\\n * Submissions that enable or have the intent to enable piracy and online gambling are not permitted\\n * Please flair your submission accordingly. You can do so by simply clicking flair under your link!\\n\\n****\\n[](https://rebrand.ly/Toaster)\\n*****',\n",
       "  'title': 'December Technical Support Sticky',\n",
       "  'source_name': Redditor(name='BeepBoopBopReee'),\n",
       "  'url': 'https://www.reddit.com/r/razer/comments/z96c8r/december_technical_support_sticky/',\n",
       "  'author': Redditor(name='BeepBoopBopReee'),\n",
       "  'content': '**Other**',\n",
       "  'published_at': datetime.datetime(2022, 11, 30, 23, 0, 51)},\n",
       " {'name': 'razer',\n",
       "  'description': '**A subreddit for discussion of RΛZΞR brand gaming products. By redditors, for redditors.**   \\n****\\n\\nRΛZΞR was founded in 1998 in San Diego, California by CEO Min-Liang Tan and President Robert \"RΛZΞRguy\" Krakoff in a tiny shared office with a couple other gamers. \\n\\nRΛZΞR is more than just the world\\'s leading brand in gaming.\\n\\n*****\\nFriendly subreddits!  \\n\\n/r/RazerPhone   \\n/r/ChromaProfiles  \\n/r/MechanicalKeyboards  \\n/r/SynapseShare  \\n/r/SuggestaLaptop  \\n/r/GamingLaptops\\n*****\\n[](https://rebrand.ly/5tore)\\n*****\\n[](https://rebrand.ly/SupportMain)\\n\\n\\n*****\\n*Other RΛZΞR Links*\\n\\n[](https://twitter.com/Razer)\\n[](https://www.facebook.com/razer)\\n[](https://www.youtube.com/user/cultofrazer)\\n[](https://insider.razer.com)\\n\\n*****\\n**NOTICE**:\\n\\nDue to the nature of this subreddit and RΛZΞR customer support sometimes handling customer\\'s personal information through PMs, do not trust anyone who says they are a RΛZΞR employee unless they have a flair.\\n\\nRemember to keep your personal details safe, including case numbers. You can find the list of trusted **RΛZΞR accounts** and much more in the [wiki](/r/razer/wiki/trusted_accounts)\\n*****\\n\\n**[> Posting Rules <](https://www.reddit.com/r/razer/about/rules/)**  \\nShort version:\\n\\n1. Must follow **Reddiquette**. Don\\'t be a dick.\\n1. Low-effort/unrelated content will be removed.\\n1. All troubleshooting or support related posts only in the **Technical Support Sticky** thread.\\n1. All \"Rant\" posts must: Include a reasonable amount of details about the issue, Not be from throwaway, abandoned or new accounts, and should not be used as a support avenue. \\n1. Do not spam your personal website or youtube channel. Accounts created only for this purpose will be banned instantly.\\n1. Don\\'t post **users\\' personal information**.\\n1. No asking about **restock/availability/release dates**\\n1. **No trading. No selling. No buying.** Use /r/hardwareswap instead\\n1. Additional posting guidelines:\\n * Excessive reposts will be deleted\\n * NSFW submissions must be labeled\\n * No \"general\" URL shorteners (bit.ly, tinyurl, etc). This is reddit\\'s policy\\n * Submissions that enable or have the intent to enable piracy and online gambling are not permitted\\n * Please flair your submission accordingly. You can do so by simply clicking flair under your link!\\n\\n****\\n[](https://rebrand.ly/Toaster)\\n*****',\n",
       "  'title': 'December Technical Support Sticky',\n",
       "  'source_name': Redditor(name='BeepBoopBopReee'),\n",
       "  'url': 'https://www.reddit.com/r/razer/comments/z96c8r/december_technical_support_sticky/',\n",
       "  'author': Redditor(name='BeepBoopBopReee'),\n",
       "  'content': '**Other**',\n",
       "  'published_at': datetime.datetime(2022, 11, 30, 23, 0, 51)},\n",
       " {'name': 'razer',\n",
       "  'description': '**A subreddit for discussion of RΛZΞR brand gaming products. By redditors, for redditors.**   \\n****\\n\\nRΛZΞR was founded in 1998 in San Diego, California by CEO Min-Liang Tan and President Robert \"RΛZΞRguy\" Krakoff in a tiny shared office with a couple other gamers. \\n\\nRΛZΞR is more than just the world\\'s leading brand in gaming.\\n\\n*****\\nFriendly subreddits!  \\n\\n/r/RazerPhone   \\n/r/ChromaProfiles  \\n/r/MechanicalKeyboards  \\n/r/SynapseShare  \\n/r/SuggestaLaptop  \\n/r/GamingLaptops\\n*****\\n[](https://rebrand.ly/5tore)\\n*****\\n[](https://rebrand.ly/SupportMain)\\n\\n\\n*****\\n*Other RΛZΞR Links*\\n\\n[](https://twitter.com/Razer)\\n[](https://www.facebook.com/razer)\\n[](https://www.youtube.com/user/cultofrazer)\\n[](https://insider.razer.com)\\n\\n*****\\n**NOTICE**:\\n\\nDue to the nature of this subreddit and RΛZΞR customer support sometimes handling customer\\'s personal information through PMs, do not trust anyone who says they are a RΛZΞR employee unless they have a flair.\\n\\nRemember to keep your personal details safe, including case numbers. You can find the list of trusted **RΛZΞR accounts** and much more in the [wiki](/r/razer/wiki/trusted_accounts)\\n*****\\n\\n**[> Posting Rules <](https://www.reddit.com/r/razer/about/rules/)**  \\nShort version:\\n\\n1. Must follow **Reddiquette**. Don\\'t be a dick.\\n1. Low-effort/unrelated content will be removed.\\n1. All troubleshooting or support related posts only in the **Technical Support Sticky** thread.\\n1. All \"Rant\" posts must: Include a reasonable amount of details about the issue, Not be from throwaway, abandoned or new accounts, and should not be used as a support avenue. \\n1. Do not spam your personal website or youtube channel. Accounts created only for this purpose will be banned instantly.\\n1. Don\\'t post **users\\' personal information**.\\n1. No asking about **restock/availability/release dates**\\n1. **No trading. No selling. No buying.** Use /r/hardwareswap instead\\n1. Additional posting guidelines:\\n * Excessive reposts will be deleted\\n * NSFW submissions must be labeled\\n * No \"general\" URL shorteners (bit.ly, tinyurl, etc). This is reddit\\'s policy\\n * Submissions that enable or have the intent to enable piracy and online gambling are not permitted\\n * Please flair your submission accordingly. You can do so by simply clicking flair under your link!\\n\\n****\\n[](https://rebrand.ly/Toaster)\\n*****',\n",
       "  'title': 'December Technical Support Sticky',\n",
       "  'source_name': Redditor(name='BeepBoopBopReee'),\n",
       "  'url': 'https://www.reddit.com/r/razer/comments/z96c8r/december_technical_support_sticky/',\n",
       "  'author': Redditor(name='BeepBoopBopReee'),\n",
       "  'content': '**Other**',\n",
       "  'published_at': datetime.datetime(2022, 11, 30, 23, 0, 51)}]"
      ]
     },
     "execution_count": 44,
     "metadata": {},
     "output_type": "execute_result"
    }
   ],
   "source": [
    "k1"
   ]
  },
  {
   "cell_type": "code",
   "execution_count": 84,
   "id": "060869d7",
   "metadata": {},
   "outputs": [],
   "source": [
    "import praw\n",
    "from datetime import datetime\n",
    "user_agent = \"Ahmad 1.0 by /user/ahmad407\"\n",
    "reddit = praw.Reddit(\n",
    "    client_id = 'AzJE40YLWfAyY71kRGRSKA', \n",
    "    client_secret = 'g7BpsSTakcZvdRyhogi5S3PHA3ri8A', \n",
    "    user_agent = user_agent\n",
    ")\n",
    "limit = 1\n",
    "keywords = [\"apple\", \"alienware\", \"lenovo\"]\n",
    "subreddit = reddit.subreddit(keywords[0])\n",
    "k1 = []\n",
    "for submission in subreddit.hot(limit=limit):\n",
    "    \n",
    "    all_comments = submission.comments.list()\n",
    "    \n",
    "    for comment in all_comments:\n",
    "        if isinstance(comment, praw.models.reddit.comment.Comment):\n",
    "            data = {}\n",
    "            data['name'] = keywords[0]\n",
    "            data['description'] = subreddit.description\n",
    "            data['title'] = submission.title\n",
    "            data['source_name'] = submission.author\n",
    "            data['url'] = submission.url\n",
    "            data['author'] = comment.author\n",
    "            data['content'] = comment.body\n",
    "            date = datetime.utcfromtimestamp(comment.created_utc)\n",
    "            data['published_at'] = date\n",
    "            k1.append(data)\n",
    "k2 = []\n",
    "subreddit = reddit.subreddit(keywords[1])\n",
    "for submission in subreddit.hot(limit=limit):\n",
    "    \n",
    "    all_comments = submission.comments.list()\n",
    "    \n",
    "    for comment in all_comments:\n",
    "        if isinstance(comment, praw.models.reddit.comment.Comment):\n",
    "            data = {}\n",
    "            data['name'] = keywords[1]\n",
    "            data['description'] = subreddit.description\n",
    "            data['title'] = submission.title\n",
    "            data['source_name'] = submission.author\n",
    "            data['url'] = submission.url\n",
    "            data['author'] = comment.author\n",
    "            data['content'] = comment.body\n",
    "            date = datetime.utcfromtimestamp(comment.created_utc)\n",
    "        \n",
    "            data['published_at'] = date\n",
    "            k2.append(data)\n",
    "k3 = []\n",
    "subreddit = reddit.subreddit(keywords[2])\n",
    "for submission in subreddit.hot(limit=limit):\n",
    "    \n",
    "    all_comments = submission.comments.list()\n",
    "    \n",
    "    for comment in all_comments:\n",
    "        if isinstance(comment, praw.models.reddit.comment.Comment):\n",
    "            data = {}\n",
    "            data['name'] = keywords[2]\n",
    "            data['description'] = subreddit.description\n",
    "            data['title'] = submission.title\n",
    "            data['source_name'] = submission.author\n",
    "            data['url'] = submission.url\n",
    "            data['author'] = comment.author\n",
    "            data['content'] = comment.body\n",
    "            date = datetime.utcfromtimestamp(comment.created_utc)\n",
    "            data['published_at'] = date\n",
    "            k3.append(data)\n",
    "\n"
   ]
  },
  {
   "cell_type": "code",
   "execution_count": 86,
   "id": "8c56b47a",
   "metadata": {},
   "outputs": [
    {
     "ename": "TypeError",
     "evalue": "descriptor 'date' for 'datetime.datetime' objects doesn't apply to a 'int' object",
     "output_type": "error",
     "traceback": [
      "\u001b[1;31m---------------------------------------------------------------------------\u001b[0m",
      "\u001b[1;31mTypeError\u001b[0m                                 Traceback (most recent call last)",
      "\u001b[1;32me:\\Fiver\\Sentiment\\Backend\\Fastapi\\given\\Reddit_Sentiment.ipynb Cell 15\u001b[0m in \u001b[0;36m<cell line: 1>\u001b[1;34m()\u001b[0m\n\u001b[1;32m----> <a href='vscode-notebook-cell:/e%3A/Fiver/Sentiment/Backend/Fastapi/given/Reddit_Sentiment.ipynb#X44sZmlsZQ%3D%3D?line=0'>1</a>\u001b[0m date \u001b[39m=\u001b[39m datetime\u001b[39m.\u001b[39;49mdate(\u001b[39m2022\u001b[39;49m, \u001b[39m12\u001b[39;49m, \u001b[39m30\u001b[39;49m)\n\u001b[0;32m      <a href='vscode-notebook-cell:/e%3A/Fiver/Sentiment/Backend/Fastapi/given/Reddit_Sentiment.ipynb#X44sZmlsZQ%3D%3D?line=1'>2</a>\u001b[0m date \u001b[39m=\u001b[39m date\u001b[39m.\u001b[39mdate()\n\u001b[0;32m      <a href='vscode-notebook-cell:/e%3A/Fiver/Sentiment/Backend/Fastapi/given/Reddit_Sentiment.ipynb#X44sZmlsZQ%3D%3D?line=2'>3</a>\u001b[0m date\n",
      "\u001b[1;31mTypeError\u001b[0m: descriptor 'date' for 'datetime.datetime' objects doesn't apply to a 'int' object"
     ]
    }
   ],
   "source": [
    "date = datetime.date(2022, 12, 30)\n",
    "date = date.date()\n",
    "date"
   ]
  },
  {
   "cell_type": "code",
   "execution_count": 85,
   "id": "d1cbca1b",
   "metadata": {},
   "outputs": [
    {
     "data": {
      "text/plain": [
       "[{'name': 'apple',\n",
       "  'description': \"Welcome!\\n==\\n\\nWelcome to r/Apple, the unofficial community for Apple news, rumors, and discussions. If you have a tech or buying/selling-related question, please check out our [Daily Advice Thread](https://www.reddit.com/r/apple/about/sticky?num=1) or [r/AppleHelp](/r/applehelp/)!\\n\\nCommunity\\n==\\n**[r/Apple Discord Server](https://discord.gg/apple)**\\n\\n*  **[Join the r/Apple Discord Server](https://discord.gg/Apple)**\\n* **[Check out the r/Apple Podcast](https://itunes.apple.com/au/podcast/the-r-apple-show/id1332585582?mt=2)**\\n*  **[Join the IRC via web chat](https://kiwiirc.com/client/irc.snoonet.org/apple?nick=CHANGE_ME)**\\n* IRC Server: irc.snoonet.org \\n* Channel: #apple\\n\\nRules\\n==\\n**[A more in-depth version of the rules can be found here](https://www.reddit.com/r/apple/wiki/rules)**\\n\\n1. No reposts, and/or rehosted content.\\n2. No memes, direct images or contextless image/video posts.\\n3. No NSFW content.\\n4. Posts must foster reasonable discussion.\\n5. No editorialized link titles (use the original source's title if applicable).\\n6. No rude, offensive, or hateful comments.\\n7. No posts that aren’t directly related to Apple or the Apple eco-system.\\n8. No support questions outside of the Daily Advice Thread. We **may** approve your post if it is a high-level issue that can't be found through searches, or if it affects a large amount of people.\\n9. No spam. No surveys. Self-promotion is allowed on Sundays only, strictly reserved for app developers and must be in the form of a self-post. Before posting, [read the detailed rules here.](https://www.reddit.com/r/apple/wiki/rules#wiki_9.__no_spam._no_surveys._self-promotion_is_allowed_on_sundays_only.)\\n10. No content related to piracy or illegal activities.\\n11. No posts or comments relating to buying, selling, trading, giveaways or asking for advice about any of those topics. The proper place for advice is /r/AppleWhatShouldIBuy.\\n12. No posts about bugs in beta software. These belong in the beta subreddits listed below.\\n13. Comments that are spreading COVID vaccine misinformation/claims are not allowed.\\n\\nEvents\\n==\\n\\n| **Event** | Time |\\n|-----------------------------|---------------------|\\n| Advice Thread (Daily) | 6am ET |\\n| Self-Promotion Sunday | All Day ET |\\n\\nApple System Status\\n==\\n[**Check here**](https://www.apple.com/support/systemstatus/) to see if any Apple services are down.\\n\\nNot sure what to buy?\\n==\\n\\nAsk in our **[Daily Advice Thread](https://www.reddit.com/r/apple/about/sticky?num=1)** or in our dedicated sister sub **/r/AppleWhatShouldIBuy**! See also the **[iPhone Upgrade Wiki](https://www.reddit.com/r/apple/wiki/iphoneupgradeprogram)** for more information.\\n\\nApple Subreddits\\n==\\n\\n* **[Apple Help](/r/applehelp)**\\n* [Apple TV+](/r/tvPlus)\\n* [AirPods](/r/airpods)\\n* [HomePod](/r/homepod)\\n* [Beats by Dre](/r/BeatsbyDre)\\n* [Apple Music](/r/applemusic)\\n* [Swift Programming Language](/r/swift)\\n* [Siri Fail](/r/sirifail)\\n\\nMac Subreddits\\n==\\n\\n* [MacOS](/r/MacOS), [OSX](/r/osx)\\n* [Mac](/r/Mac), [MacBook](/r/Macbook)\\n* [MacApps](/r/macapps)\\n* [MacGaming](/r/MacGaming)\\n* [Hackintosh](/r/hackintosh)\\n* [Apple II](/r/apple2)\\n* [BootCamp](/r/BootCamp)\\n* [MacSetups](/r/MacSetups)\\n* [AppleSwap](/r/appleswap) \\n* [VintageApple](/r/vintageapple)\\n\\niOS Subreddits\\n==\\n\\n* [iPad](/r/ipad)\\n* [Apple Watch](/r/applewatch)\\n* [AppleTV](/r/appletv)\\n* [HomeKit](/r/homekit)\\n* [iPod](/r/ipod)\\n* [Jailbreak](/r/jailbreak)\\n* [Shortcuts](/r/shortcuts)\\n* [iOS](/r/ios)\\n* [iPhoneography](/r/iPhoneography)\\n* [iOSGaming](/r/iOSGaming)\\n* [iOSsetups](/r/iOSsetups)\\n* [AppHookUp](/r/apphookup)\\n* [CarPlay](/r/CarPlay)\\n* [iOSThemes](/r/iOSThemes)\\n* [Official Reddit app](/r/redditmobile)\\n* [ApolloApp](/r/apolloapp)\\n* [GetNarwhal](/r/getnarwhal)\\n* [NanoApp](/r/Nanoapp)\\n* [iPhone](/r/iphonewallpapers/), [iPad](/r/ipadwallpapers/) or [Apple Watch](/r/applewatchwallpapers/) wallpapers\\n* [ARKit Creators](/r/ARKitCreators)\\n\\n\\nBeta Subreddits\\n==\\n\\n* [iOS and iPadOS](https://www.reddit.com/r/iOSBeta)\\n* [OSXBeta](/r/osxbeta), [macOSBeta](/r/MacOSBeta)\\n* [tvOS](/r/tvOSBeta)\\n* [watchOS](/r/watchosbeta)\\n\\nTech Subreddits\\n==\\n\\n* [Technology](/r/Technology)\\n* [Laptops](/r/laptops)\\n* [Programming](/r/Programming)\\n\\nContent Philosophy\\n=\\n\\nContent which benefits the **community** (news, rumors, and discussions) is valued over content which benefits only the **individual** (technical questions, help buying/selling, rants, etc.).  This fundamental difference in audience is why we support two communities, [r/Apple](/r/apple) and [r/AppleHelp](/r/applehelp).  If you'd like to view their content together, click [here](/r/apple+applehelp).\\n\\n\\n---\\n**This subreddit is not endorsed or sponsored by Apple Inc.**\",\n",
       "  'title': 'Daily Advice Thread - December 30, 2022',\n",
       "  'source_name': Redditor(name='AutoModerator'),\n",
       "  'url': 'https://www.reddit.com/r/apple/comments/zyxtud/daily_advice_thread_december_30_2022/',\n",
       "  'author': Redditor(name='SOERERY'),\n",
       "  'content': 'I have a problem with my AirPods Pro gen 1 where at time when I put them in my ears the audio is only playing in one ear making me have to reconnect them several times to fix the problem. Do anyone have a fix for it, I have tried to forget them on my iPhone 14 pro but it didn’t work.',\n",
       "  'published_at': datetime.date(2022, 12, 30)},\n",
       " {'name': 'apple',\n",
       "  'description': \"Welcome!\\n==\\n\\nWelcome to r/Apple, the unofficial community for Apple news, rumors, and discussions. If you have a tech or buying/selling-related question, please check out our [Daily Advice Thread](https://www.reddit.com/r/apple/about/sticky?num=1) or [r/AppleHelp](/r/applehelp/)!\\n\\nCommunity\\n==\\n**[r/Apple Discord Server](https://discord.gg/apple)**\\n\\n*  **[Join the r/Apple Discord Server](https://discord.gg/Apple)**\\n* **[Check out the r/Apple Podcast](https://itunes.apple.com/au/podcast/the-r-apple-show/id1332585582?mt=2)**\\n*  **[Join the IRC via web chat](https://kiwiirc.com/client/irc.snoonet.org/apple?nick=CHANGE_ME)**\\n* IRC Server: irc.snoonet.org \\n* Channel: #apple\\n\\nRules\\n==\\n**[A more in-depth version of the rules can be found here](https://www.reddit.com/r/apple/wiki/rules)**\\n\\n1. No reposts, and/or rehosted content.\\n2. No memes, direct images or contextless image/video posts.\\n3. No NSFW content.\\n4. Posts must foster reasonable discussion.\\n5. No editorialized link titles (use the original source's title if applicable).\\n6. No rude, offensive, or hateful comments.\\n7. No posts that aren’t directly related to Apple or the Apple eco-system.\\n8. No support questions outside of the Daily Advice Thread. We **may** approve your post if it is a high-level issue that can't be found through searches, or if it affects a large amount of people.\\n9. No spam. No surveys. Self-promotion is allowed on Sundays only, strictly reserved for app developers and must be in the form of a self-post. Before posting, [read the detailed rules here.](https://www.reddit.com/r/apple/wiki/rules#wiki_9.__no_spam._no_surveys._self-promotion_is_allowed_on_sundays_only.)\\n10. No content related to piracy or illegal activities.\\n11. No posts or comments relating to buying, selling, trading, giveaways or asking for advice about any of those topics. The proper place for advice is /r/AppleWhatShouldIBuy.\\n12. No posts about bugs in beta software. These belong in the beta subreddits listed below.\\n13. Comments that are spreading COVID vaccine misinformation/claims are not allowed.\\n\\nEvents\\n==\\n\\n| **Event** | Time |\\n|-----------------------------|---------------------|\\n| Advice Thread (Daily) | 6am ET |\\n| Self-Promotion Sunday | All Day ET |\\n\\nApple System Status\\n==\\n[**Check here**](https://www.apple.com/support/systemstatus/) to see if any Apple services are down.\\n\\nNot sure what to buy?\\n==\\n\\nAsk in our **[Daily Advice Thread](https://www.reddit.com/r/apple/about/sticky?num=1)** or in our dedicated sister sub **/r/AppleWhatShouldIBuy**! See also the **[iPhone Upgrade Wiki](https://www.reddit.com/r/apple/wiki/iphoneupgradeprogram)** for more information.\\n\\nApple Subreddits\\n==\\n\\n* **[Apple Help](/r/applehelp)**\\n* [Apple TV+](/r/tvPlus)\\n* [AirPods](/r/airpods)\\n* [HomePod](/r/homepod)\\n* [Beats by Dre](/r/BeatsbyDre)\\n* [Apple Music](/r/applemusic)\\n* [Swift Programming Language](/r/swift)\\n* [Siri Fail](/r/sirifail)\\n\\nMac Subreddits\\n==\\n\\n* [MacOS](/r/MacOS), [OSX](/r/osx)\\n* [Mac](/r/Mac), [MacBook](/r/Macbook)\\n* [MacApps](/r/macapps)\\n* [MacGaming](/r/MacGaming)\\n* [Hackintosh](/r/hackintosh)\\n* [Apple II](/r/apple2)\\n* [BootCamp](/r/BootCamp)\\n* [MacSetups](/r/MacSetups)\\n* [AppleSwap](/r/appleswap) \\n* [VintageApple](/r/vintageapple)\\n\\niOS Subreddits\\n==\\n\\n* [iPad](/r/ipad)\\n* [Apple Watch](/r/applewatch)\\n* [AppleTV](/r/appletv)\\n* [HomeKit](/r/homekit)\\n* [iPod](/r/ipod)\\n* [Jailbreak](/r/jailbreak)\\n* [Shortcuts](/r/shortcuts)\\n* [iOS](/r/ios)\\n* [iPhoneography](/r/iPhoneography)\\n* [iOSGaming](/r/iOSGaming)\\n* [iOSsetups](/r/iOSsetups)\\n* [AppHookUp](/r/apphookup)\\n* [CarPlay](/r/CarPlay)\\n* [iOSThemes](/r/iOSThemes)\\n* [Official Reddit app](/r/redditmobile)\\n* [ApolloApp](/r/apolloapp)\\n* [GetNarwhal](/r/getnarwhal)\\n* [NanoApp](/r/Nanoapp)\\n* [iPhone](/r/iphonewallpapers/), [iPad](/r/ipadwallpapers/) or [Apple Watch](/r/applewatchwallpapers/) wallpapers\\n* [ARKit Creators](/r/ARKitCreators)\\n\\n\\nBeta Subreddits\\n==\\n\\n* [iOS and iPadOS](https://www.reddit.com/r/iOSBeta)\\n* [OSXBeta](/r/osxbeta), [macOSBeta](/r/MacOSBeta)\\n* [tvOS](/r/tvOSBeta)\\n* [watchOS](/r/watchosbeta)\\n\\nTech Subreddits\\n==\\n\\n* [Technology](/r/Technology)\\n* [Laptops](/r/laptops)\\n* [Programming](/r/Programming)\\n\\nContent Philosophy\\n=\\n\\nContent which benefits the **community** (news, rumors, and discussions) is valued over content which benefits only the **individual** (technical questions, help buying/selling, rants, etc.).  This fundamental difference in audience is why we support two communities, [r/Apple](/r/apple) and [r/AppleHelp](/r/applehelp).  If you'd like to view their content together, click [here](/r/apple+applehelp).\\n\\n\\n---\\n**This subreddit is not endorsed or sponsored by Apple Inc.**\",\n",
       "  'title': 'Daily Advice Thread - December 30, 2022',\n",
       "  'source_name': Redditor(name='AutoModerator'),\n",
       "  'url': 'https://www.reddit.com/r/apple/comments/zyxtud/daily_advice_thread_december_30_2022/',\n",
       "  'author': Redditor(name='berserkuh'),\n",
       "  'content': 'If I would be budget oriented BUT I\\'d have enough money to go for the 14 Pro Max, should I? I\\'m planning on upgrading from an older 1+, and this would be my main phone for.. at least 5 years. Would getting the 13 Pro Max be better, if I care about the money? \\n\\nI keep reading around and I can\\'t figure out what the different tiers are, or what\\'s worth.\\n\\nAFAIK \\n\\n* The 14 is basically a 13 (with just the new chip/camera)\\n* The 14 Plus is the 13 Pro (without the display?)\\n* The 14 Pro is the \"golden\" one?\\n* The 14 Pro Max is bigger and that\\'s it?\\n\\nCan someone help me out?',\n",
       "  'published_at': datetime.date(2022, 12, 30)},\n",
       " {'name': 'apple',\n",
       "  'description': \"Welcome!\\n==\\n\\nWelcome to r/Apple, the unofficial community for Apple news, rumors, and discussions. If you have a tech or buying/selling-related question, please check out our [Daily Advice Thread](https://www.reddit.com/r/apple/about/sticky?num=1) or [r/AppleHelp](/r/applehelp/)!\\n\\nCommunity\\n==\\n**[r/Apple Discord Server](https://discord.gg/apple)**\\n\\n*  **[Join the r/Apple Discord Server](https://discord.gg/Apple)**\\n* **[Check out the r/Apple Podcast](https://itunes.apple.com/au/podcast/the-r-apple-show/id1332585582?mt=2)**\\n*  **[Join the IRC via web chat](https://kiwiirc.com/client/irc.snoonet.org/apple?nick=CHANGE_ME)**\\n* IRC Server: irc.snoonet.org \\n* Channel: #apple\\n\\nRules\\n==\\n**[A more in-depth version of the rules can be found here](https://www.reddit.com/r/apple/wiki/rules)**\\n\\n1. No reposts, and/or rehosted content.\\n2. No memes, direct images or contextless image/video posts.\\n3. No NSFW content.\\n4. Posts must foster reasonable discussion.\\n5. No editorialized link titles (use the original source's title if applicable).\\n6. No rude, offensive, or hateful comments.\\n7. No posts that aren’t directly related to Apple or the Apple eco-system.\\n8. No support questions outside of the Daily Advice Thread. We **may** approve your post if it is a high-level issue that can't be found through searches, or if it affects a large amount of people.\\n9. No spam. No surveys. Self-promotion is allowed on Sundays only, strictly reserved for app developers and must be in the form of a self-post. Before posting, [read the detailed rules here.](https://www.reddit.com/r/apple/wiki/rules#wiki_9.__no_spam._no_surveys._self-promotion_is_allowed_on_sundays_only.)\\n10. No content related to piracy or illegal activities.\\n11. No posts or comments relating to buying, selling, trading, giveaways or asking for advice about any of those topics. The proper place for advice is /r/AppleWhatShouldIBuy.\\n12. No posts about bugs in beta software. These belong in the beta subreddits listed below.\\n13. Comments that are spreading COVID vaccine misinformation/claims are not allowed.\\n\\nEvents\\n==\\n\\n| **Event** | Time |\\n|-----------------------------|---------------------|\\n| Advice Thread (Daily) | 6am ET |\\n| Self-Promotion Sunday | All Day ET |\\n\\nApple System Status\\n==\\n[**Check here**](https://www.apple.com/support/systemstatus/) to see if any Apple services are down.\\n\\nNot sure what to buy?\\n==\\n\\nAsk in our **[Daily Advice Thread](https://www.reddit.com/r/apple/about/sticky?num=1)** or in our dedicated sister sub **/r/AppleWhatShouldIBuy**! See also the **[iPhone Upgrade Wiki](https://www.reddit.com/r/apple/wiki/iphoneupgradeprogram)** for more information.\\n\\nApple Subreddits\\n==\\n\\n* **[Apple Help](/r/applehelp)**\\n* [Apple TV+](/r/tvPlus)\\n* [AirPods](/r/airpods)\\n* [HomePod](/r/homepod)\\n* [Beats by Dre](/r/BeatsbyDre)\\n* [Apple Music](/r/applemusic)\\n* [Swift Programming Language](/r/swift)\\n* [Siri Fail](/r/sirifail)\\n\\nMac Subreddits\\n==\\n\\n* [MacOS](/r/MacOS), [OSX](/r/osx)\\n* [Mac](/r/Mac), [MacBook](/r/Macbook)\\n* [MacApps](/r/macapps)\\n* [MacGaming](/r/MacGaming)\\n* [Hackintosh](/r/hackintosh)\\n* [Apple II](/r/apple2)\\n* [BootCamp](/r/BootCamp)\\n* [MacSetups](/r/MacSetups)\\n* [AppleSwap](/r/appleswap) \\n* [VintageApple](/r/vintageapple)\\n\\niOS Subreddits\\n==\\n\\n* [iPad](/r/ipad)\\n* [Apple Watch](/r/applewatch)\\n* [AppleTV](/r/appletv)\\n* [HomeKit](/r/homekit)\\n* [iPod](/r/ipod)\\n* [Jailbreak](/r/jailbreak)\\n* [Shortcuts](/r/shortcuts)\\n* [iOS](/r/ios)\\n* [iPhoneography](/r/iPhoneography)\\n* [iOSGaming](/r/iOSGaming)\\n* [iOSsetups](/r/iOSsetups)\\n* [AppHookUp](/r/apphookup)\\n* [CarPlay](/r/CarPlay)\\n* [iOSThemes](/r/iOSThemes)\\n* [Official Reddit app](/r/redditmobile)\\n* [ApolloApp](/r/apolloapp)\\n* [GetNarwhal](/r/getnarwhal)\\n* [NanoApp](/r/Nanoapp)\\n* [iPhone](/r/iphonewallpapers/), [iPad](/r/ipadwallpapers/) or [Apple Watch](/r/applewatchwallpapers/) wallpapers\\n* [ARKit Creators](/r/ARKitCreators)\\n\\n\\nBeta Subreddits\\n==\\n\\n* [iOS and iPadOS](https://www.reddit.com/r/iOSBeta)\\n* [OSXBeta](/r/osxbeta), [macOSBeta](/r/MacOSBeta)\\n* [tvOS](/r/tvOSBeta)\\n* [watchOS](/r/watchosbeta)\\n\\nTech Subreddits\\n==\\n\\n* [Technology](/r/Technology)\\n* [Laptops](/r/laptops)\\n* [Programming](/r/Programming)\\n\\nContent Philosophy\\n=\\n\\nContent which benefits the **community** (news, rumors, and discussions) is valued over content which benefits only the **individual** (technical questions, help buying/selling, rants, etc.).  This fundamental difference in audience is why we support two communities, [r/Apple](/r/apple) and [r/AppleHelp](/r/applehelp).  If you'd like to view their content together, click [here](/r/apple+applehelp).\\n\\n\\n---\\n**This subreddit is not endorsed or sponsored by Apple Inc.**\",\n",
       "  'title': 'Daily Advice Thread - December 30, 2022',\n",
       "  'source_name': Redditor(name='AutoModerator'),\n",
       "  'url': 'https://www.reddit.com/r/apple/comments/zyxtud/daily_advice_thread_december_30_2022/',\n",
       "  'author': Redditor(name='nom_thee_ack'),\n",
       "  'content': \"Is there a way to stop the red notification bubble on settings from popping up when there is an ios update?  i'd like to temporarily disable it so I don't get a prompt while i'm traveling.\",\n",
       "  'published_at': datetime.date(2022, 12, 30)},\n",
       " {'name': 'apple',\n",
       "  'description': \"Welcome!\\n==\\n\\nWelcome to r/Apple, the unofficial community for Apple news, rumors, and discussions. If you have a tech or buying/selling-related question, please check out our [Daily Advice Thread](https://www.reddit.com/r/apple/about/sticky?num=1) or [r/AppleHelp](/r/applehelp/)!\\n\\nCommunity\\n==\\n**[r/Apple Discord Server](https://discord.gg/apple)**\\n\\n*  **[Join the r/Apple Discord Server](https://discord.gg/Apple)**\\n* **[Check out the r/Apple Podcast](https://itunes.apple.com/au/podcast/the-r-apple-show/id1332585582?mt=2)**\\n*  **[Join the IRC via web chat](https://kiwiirc.com/client/irc.snoonet.org/apple?nick=CHANGE_ME)**\\n* IRC Server: irc.snoonet.org \\n* Channel: #apple\\n\\nRules\\n==\\n**[A more in-depth version of the rules can be found here](https://www.reddit.com/r/apple/wiki/rules)**\\n\\n1. No reposts, and/or rehosted content.\\n2. No memes, direct images or contextless image/video posts.\\n3. No NSFW content.\\n4. Posts must foster reasonable discussion.\\n5. No editorialized link titles (use the original source's title if applicable).\\n6. No rude, offensive, or hateful comments.\\n7. No posts that aren’t directly related to Apple or the Apple eco-system.\\n8. No support questions outside of the Daily Advice Thread. We **may** approve your post if it is a high-level issue that can't be found through searches, or if it affects a large amount of people.\\n9. No spam. No surveys. Self-promotion is allowed on Sundays only, strictly reserved for app developers and must be in the form of a self-post. Before posting, [read the detailed rules here.](https://www.reddit.com/r/apple/wiki/rules#wiki_9.__no_spam._no_surveys._self-promotion_is_allowed_on_sundays_only.)\\n10. No content related to piracy or illegal activities.\\n11. No posts or comments relating to buying, selling, trading, giveaways or asking for advice about any of those topics. The proper place for advice is /r/AppleWhatShouldIBuy.\\n12. No posts about bugs in beta software. These belong in the beta subreddits listed below.\\n13. Comments that are spreading COVID vaccine misinformation/claims are not allowed.\\n\\nEvents\\n==\\n\\n| **Event** | Time |\\n|-----------------------------|---------------------|\\n| Advice Thread (Daily) | 6am ET |\\n| Self-Promotion Sunday | All Day ET |\\n\\nApple System Status\\n==\\n[**Check here**](https://www.apple.com/support/systemstatus/) to see if any Apple services are down.\\n\\nNot sure what to buy?\\n==\\n\\nAsk in our **[Daily Advice Thread](https://www.reddit.com/r/apple/about/sticky?num=1)** or in our dedicated sister sub **/r/AppleWhatShouldIBuy**! See also the **[iPhone Upgrade Wiki](https://www.reddit.com/r/apple/wiki/iphoneupgradeprogram)** for more information.\\n\\nApple Subreddits\\n==\\n\\n* **[Apple Help](/r/applehelp)**\\n* [Apple TV+](/r/tvPlus)\\n* [AirPods](/r/airpods)\\n* [HomePod](/r/homepod)\\n* [Beats by Dre](/r/BeatsbyDre)\\n* [Apple Music](/r/applemusic)\\n* [Swift Programming Language](/r/swift)\\n* [Siri Fail](/r/sirifail)\\n\\nMac Subreddits\\n==\\n\\n* [MacOS](/r/MacOS), [OSX](/r/osx)\\n* [Mac](/r/Mac), [MacBook](/r/Macbook)\\n* [MacApps](/r/macapps)\\n* [MacGaming](/r/MacGaming)\\n* [Hackintosh](/r/hackintosh)\\n* [Apple II](/r/apple2)\\n* [BootCamp](/r/BootCamp)\\n* [MacSetups](/r/MacSetups)\\n* [AppleSwap](/r/appleswap) \\n* [VintageApple](/r/vintageapple)\\n\\niOS Subreddits\\n==\\n\\n* [iPad](/r/ipad)\\n* [Apple Watch](/r/applewatch)\\n* [AppleTV](/r/appletv)\\n* [HomeKit](/r/homekit)\\n* [iPod](/r/ipod)\\n* [Jailbreak](/r/jailbreak)\\n* [Shortcuts](/r/shortcuts)\\n* [iOS](/r/ios)\\n* [iPhoneography](/r/iPhoneography)\\n* [iOSGaming](/r/iOSGaming)\\n* [iOSsetups](/r/iOSsetups)\\n* [AppHookUp](/r/apphookup)\\n* [CarPlay](/r/CarPlay)\\n* [iOSThemes](/r/iOSThemes)\\n* [Official Reddit app](/r/redditmobile)\\n* [ApolloApp](/r/apolloapp)\\n* [GetNarwhal](/r/getnarwhal)\\n* [NanoApp](/r/Nanoapp)\\n* [iPhone](/r/iphonewallpapers/), [iPad](/r/ipadwallpapers/) or [Apple Watch](/r/applewatchwallpapers/) wallpapers\\n* [ARKit Creators](/r/ARKitCreators)\\n\\n\\nBeta Subreddits\\n==\\n\\n* [iOS and iPadOS](https://www.reddit.com/r/iOSBeta)\\n* [OSXBeta](/r/osxbeta), [macOSBeta](/r/MacOSBeta)\\n* [tvOS](/r/tvOSBeta)\\n* [watchOS](/r/watchosbeta)\\n\\nTech Subreddits\\n==\\n\\n* [Technology](/r/Technology)\\n* [Laptops](/r/laptops)\\n* [Programming](/r/Programming)\\n\\nContent Philosophy\\n=\\n\\nContent which benefits the **community** (news, rumors, and discussions) is valued over content which benefits only the **individual** (technical questions, help buying/selling, rants, etc.).  This fundamental difference in audience is why we support two communities, [r/Apple](/r/apple) and [r/AppleHelp](/r/applehelp).  If you'd like to view their content together, click [here](/r/apple+applehelp).\\n\\n\\n---\\n**This subreddit is not endorsed or sponsored by Apple Inc.**\",\n",
       "  'title': 'Daily Advice Thread - December 30, 2022',\n",
       "  'source_name': Redditor(name='AutoModerator'),\n",
       "  'url': 'https://www.reddit.com/r/apple/comments/zyxtud/daily_advice_thread_december_30_2022/',\n",
       "  'author': Redditor(name='ThunderElectric'),\n",
       "  'content': \"I just dropped my phone (iPhone 11), but the screen seems much better than expected (a medium chip in the corner with small, unnoticeable cracks halfway up). However, the phone seems completely dead. Like won't even connect to my laptop or watch. I have tried the volume up, volume down, hold power button for a couple minutes restart as well as leaving it to charge for a couple hours, but no signs of life. I was thinking my battery connector may have come loose, but unfortunately my stupid apple proprietary screwdriver is not with me right now. Anyone know any tips to hopefully try and get it working if it is not a physical problem?\",\n",
       "  'published_at': datetime.date(2022, 12, 30)},\n",
       " {'name': 'apple',\n",
       "  'description': \"Welcome!\\n==\\n\\nWelcome to r/Apple, the unofficial community for Apple news, rumors, and discussions. If you have a tech or buying/selling-related question, please check out our [Daily Advice Thread](https://www.reddit.com/r/apple/about/sticky?num=1) or [r/AppleHelp](/r/applehelp/)!\\n\\nCommunity\\n==\\n**[r/Apple Discord Server](https://discord.gg/apple)**\\n\\n*  **[Join the r/Apple Discord Server](https://discord.gg/Apple)**\\n* **[Check out the r/Apple Podcast](https://itunes.apple.com/au/podcast/the-r-apple-show/id1332585582?mt=2)**\\n*  **[Join the IRC via web chat](https://kiwiirc.com/client/irc.snoonet.org/apple?nick=CHANGE_ME)**\\n* IRC Server: irc.snoonet.org \\n* Channel: #apple\\n\\nRules\\n==\\n**[A more in-depth version of the rules can be found here](https://www.reddit.com/r/apple/wiki/rules)**\\n\\n1. No reposts, and/or rehosted content.\\n2. No memes, direct images or contextless image/video posts.\\n3. No NSFW content.\\n4. Posts must foster reasonable discussion.\\n5. No editorialized link titles (use the original source's title if applicable).\\n6. No rude, offensive, or hateful comments.\\n7. No posts that aren’t directly related to Apple or the Apple eco-system.\\n8. No support questions outside of the Daily Advice Thread. We **may** approve your post if it is a high-level issue that can't be found through searches, or if it affects a large amount of people.\\n9. No spam. No surveys. Self-promotion is allowed on Sundays only, strictly reserved for app developers and must be in the form of a self-post. Before posting, [read the detailed rules here.](https://www.reddit.com/r/apple/wiki/rules#wiki_9.__no_spam._no_surveys._self-promotion_is_allowed_on_sundays_only.)\\n10. No content related to piracy or illegal activities.\\n11. No posts or comments relating to buying, selling, trading, giveaways or asking for advice about any of those topics. The proper place for advice is /r/AppleWhatShouldIBuy.\\n12. No posts about bugs in beta software. These belong in the beta subreddits listed below.\\n13. Comments that are spreading COVID vaccine misinformation/claims are not allowed.\\n\\nEvents\\n==\\n\\n| **Event** | Time |\\n|-----------------------------|---------------------|\\n| Advice Thread (Daily) | 6am ET |\\n| Self-Promotion Sunday | All Day ET |\\n\\nApple System Status\\n==\\n[**Check here**](https://www.apple.com/support/systemstatus/) to see if any Apple services are down.\\n\\nNot sure what to buy?\\n==\\n\\nAsk in our **[Daily Advice Thread](https://www.reddit.com/r/apple/about/sticky?num=1)** or in our dedicated sister sub **/r/AppleWhatShouldIBuy**! See also the **[iPhone Upgrade Wiki](https://www.reddit.com/r/apple/wiki/iphoneupgradeprogram)** for more information.\\n\\nApple Subreddits\\n==\\n\\n* **[Apple Help](/r/applehelp)**\\n* [Apple TV+](/r/tvPlus)\\n* [AirPods](/r/airpods)\\n* [HomePod](/r/homepod)\\n* [Beats by Dre](/r/BeatsbyDre)\\n* [Apple Music](/r/applemusic)\\n* [Swift Programming Language](/r/swift)\\n* [Siri Fail](/r/sirifail)\\n\\nMac Subreddits\\n==\\n\\n* [MacOS](/r/MacOS), [OSX](/r/osx)\\n* [Mac](/r/Mac), [MacBook](/r/Macbook)\\n* [MacApps](/r/macapps)\\n* [MacGaming](/r/MacGaming)\\n* [Hackintosh](/r/hackintosh)\\n* [Apple II](/r/apple2)\\n* [BootCamp](/r/BootCamp)\\n* [MacSetups](/r/MacSetups)\\n* [AppleSwap](/r/appleswap) \\n* [VintageApple](/r/vintageapple)\\n\\niOS Subreddits\\n==\\n\\n* [iPad](/r/ipad)\\n* [Apple Watch](/r/applewatch)\\n* [AppleTV](/r/appletv)\\n* [HomeKit](/r/homekit)\\n* [iPod](/r/ipod)\\n* [Jailbreak](/r/jailbreak)\\n* [Shortcuts](/r/shortcuts)\\n* [iOS](/r/ios)\\n* [iPhoneography](/r/iPhoneography)\\n* [iOSGaming](/r/iOSGaming)\\n* [iOSsetups](/r/iOSsetups)\\n* [AppHookUp](/r/apphookup)\\n* [CarPlay](/r/CarPlay)\\n* [iOSThemes](/r/iOSThemes)\\n* [Official Reddit app](/r/redditmobile)\\n* [ApolloApp](/r/apolloapp)\\n* [GetNarwhal](/r/getnarwhal)\\n* [NanoApp](/r/Nanoapp)\\n* [iPhone](/r/iphonewallpapers/), [iPad](/r/ipadwallpapers/) or [Apple Watch](/r/applewatchwallpapers/) wallpapers\\n* [ARKit Creators](/r/ARKitCreators)\\n\\n\\nBeta Subreddits\\n==\\n\\n* [iOS and iPadOS](https://www.reddit.com/r/iOSBeta)\\n* [OSXBeta](/r/osxbeta), [macOSBeta](/r/MacOSBeta)\\n* [tvOS](/r/tvOSBeta)\\n* [watchOS](/r/watchosbeta)\\n\\nTech Subreddits\\n==\\n\\n* [Technology](/r/Technology)\\n* [Laptops](/r/laptops)\\n* [Programming](/r/Programming)\\n\\nContent Philosophy\\n=\\n\\nContent which benefits the **community** (news, rumors, and discussions) is valued over content which benefits only the **individual** (technical questions, help buying/selling, rants, etc.).  This fundamental difference in audience is why we support two communities, [r/Apple](/r/apple) and [r/AppleHelp](/r/applehelp).  If you'd like to view their content together, click [here](/r/apple+applehelp).\\n\\n\\n---\\n**This subreddit is not endorsed or sponsored by Apple Inc.**\",\n",
       "  'title': 'Daily Advice Thread - December 30, 2022',\n",
       "  'source_name': Redditor(name='AutoModerator'),\n",
       "  'url': 'https://www.reddit.com/r/apple/comments/zyxtud/daily_advice_thread_december_30_2022/',\n",
       "  'author': Redditor(name='Mysterious-Mirror188'),\n",
       "  'content': 'They this, and if it doesn’t work, contact Apple for a quote.\\n\\nhttps://support.apple.com/en-us/HT209463',\n",
       "  'published_at': datetime.date(2022, 12, 30)},\n",
       " {'name': 'apple',\n",
       "  'description': \"Welcome!\\n==\\n\\nWelcome to r/Apple, the unofficial community for Apple news, rumors, and discussions. If you have a tech or buying/selling-related question, please check out our [Daily Advice Thread](https://www.reddit.com/r/apple/about/sticky?num=1) or [r/AppleHelp](/r/applehelp/)!\\n\\nCommunity\\n==\\n**[r/Apple Discord Server](https://discord.gg/apple)**\\n\\n*  **[Join the r/Apple Discord Server](https://discord.gg/Apple)**\\n* **[Check out the r/Apple Podcast](https://itunes.apple.com/au/podcast/the-r-apple-show/id1332585582?mt=2)**\\n*  **[Join the IRC via web chat](https://kiwiirc.com/client/irc.snoonet.org/apple?nick=CHANGE_ME)**\\n* IRC Server: irc.snoonet.org \\n* Channel: #apple\\n\\nRules\\n==\\n**[A more in-depth version of the rules can be found here](https://www.reddit.com/r/apple/wiki/rules)**\\n\\n1. No reposts, and/or rehosted content.\\n2. No memes, direct images or contextless image/video posts.\\n3. No NSFW content.\\n4. Posts must foster reasonable discussion.\\n5. No editorialized link titles (use the original source's title if applicable).\\n6. No rude, offensive, or hateful comments.\\n7. No posts that aren’t directly related to Apple or the Apple eco-system.\\n8. No support questions outside of the Daily Advice Thread. We **may** approve your post if it is a high-level issue that can't be found through searches, or if it affects a large amount of people.\\n9. No spam. No surveys. Self-promotion is allowed on Sundays only, strictly reserved for app developers and must be in the form of a self-post. Before posting, [read the detailed rules here.](https://www.reddit.com/r/apple/wiki/rules#wiki_9.__no_spam._no_surveys._self-promotion_is_allowed_on_sundays_only.)\\n10. No content related to piracy or illegal activities.\\n11. No posts or comments relating to buying, selling, trading, giveaways or asking for advice about any of those topics. The proper place for advice is /r/AppleWhatShouldIBuy.\\n12. No posts about bugs in beta software. These belong in the beta subreddits listed below.\\n13. Comments that are spreading COVID vaccine misinformation/claims are not allowed.\\n\\nEvents\\n==\\n\\n| **Event** | Time |\\n|-----------------------------|---------------------|\\n| Advice Thread (Daily) | 6am ET |\\n| Self-Promotion Sunday | All Day ET |\\n\\nApple System Status\\n==\\n[**Check here**](https://www.apple.com/support/systemstatus/) to see if any Apple services are down.\\n\\nNot sure what to buy?\\n==\\n\\nAsk in our **[Daily Advice Thread](https://www.reddit.com/r/apple/about/sticky?num=1)** or in our dedicated sister sub **/r/AppleWhatShouldIBuy**! See also the **[iPhone Upgrade Wiki](https://www.reddit.com/r/apple/wiki/iphoneupgradeprogram)** for more information.\\n\\nApple Subreddits\\n==\\n\\n* **[Apple Help](/r/applehelp)**\\n* [Apple TV+](/r/tvPlus)\\n* [AirPods](/r/airpods)\\n* [HomePod](/r/homepod)\\n* [Beats by Dre](/r/BeatsbyDre)\\n* [Apple Music](/r/applemusic)\\n* [Swift Programming Language](/r/swift)\\n* [Siri Fail](/r/sirifail)\\n\\nMac Subreddits\\n==\\n\\n* [MacOS](/r/MacOS), [OSX](/r/osx)\\n* [Mac](/r/Mac), [MacBook](/r/Macbook)\\n* [MacApps](/r/macapps)\\n* [MacGaming](/r/MacGaming)\\n* [Hackintosh](/r/hackintosh)\\n* [Apple II](/r/apple2)\\n* [BootCamp](/r/BootCamp)\\n* [MacSetups](/r/MacSetups)\\n* [AppleSwap](/r/appleswap) \\n* [VintageApple](/r/vintageapple)\\n\\niOS Subreddits\\n==\\n\\n* [iPad](/r/ipad)\\n* [Apple Watch](/r/applewatch)\\n* [AppleTV](/r/appletv)\\n* [HomeKit](/r/homekit)\\n* [iPod](/r/ipod)\\n* [Jailbreak](/r/jailbreak)\\n* [Shortcuts](/r/shortcuts)\\n* [iOS](/r/ios)\\n* [iPhoneography](/r/iPhoneography)\\n* [iOSGaming](/r/iOSGaming)\\n* [iOSsetups](/r/iOSsetups)\\n* [AppHookUp](/r/apphookup)\\n* [CarPlay](/r/CarPlay)\\n* [iOSThemes](/r/iOSThemes)\\n* [Official Reddit app](/r/redditmobile)\\n* [ApolloApp](/r/apolloapp)\\n* [GetNarwhal](/r/getnarwhal)\\n* [NanoApp](/r/Nanoapp)\\n* [iPhone](/r/iphonewallpapers/), [iPad](/r/ipadwallpapers/) or [Apple Watch](/r/applewatchwallpapers/) wallpapers\\n* [ARKit Creators](/r/ARKitCreators)\\n\\n\\nBeta Subreddits\\n==\\n\\n* [iOS and iPadOS](https://www.reddit.com/r/iOSBeta)\\n* [OSXBeta](/r/osxbeta), [macOSBeta](/r/MacOSBeta)\\n* [tvOS](/r/tvOSBeta)\\n* [watchOS](/r/watchosbeta)\\n\\nTech Subreddits\\n==\\n\\n* [Technology](/r/Technology)\\n* [Laptops](/r/laptops)\\n* [Programming](/r/Programming)\\n\\nContent Philosophy\\n=\\n\\nContent which benefits the **community** (news, rumors, and discussions) is valued over content which benefits only the **individual** (technical questions, help buying/selling, rants, etc.).  This fundamental difference in audience is why we support two communities, [r/Apple](/r/apple) and [r/AppleHelp](/r/applehelp).  If you'd like to view their content together, click [here](/r/apple+applehelp).\\n\\n\\n---\\n**This subreddit is not endorsed or sponsored by Apple Inc.**\",\n",
       "  'title': 'Daily Advice Thread - December 30, 2022',\n",
       "  'source_name': Redditor(name='AutoModerator'),\n",
       "  'url': 'https://www.reddit.com/r/apple/comments/zyxtud/daily_advice_thread_december_30_2022/',\n",
       "  'author': Redditor(name='MGlaus'),\n",
       "  'content': '* iPhone 14 is more or less the same as the iPhone 13 with some minor improvements\\n* iPhone 14 Plus is the same as the iPhone 14 except bigger (due to the size increase it has better battery life and a higher resolution screen, but basically the same DPI)\\n* iPhone 14 Pro is a new model, with many changes compared to the iPhone 13 (or iPhone 14)\\n* iPhone 14 Pro Max is the same s the iPhone 14 Pro except bigger (like the iPhone 14 Plus it has better battery life and higher resolution screen)\\n\\nThe Pro Max / Plus make only really sense, if you need better battery life or you want a big phone/screen\\n\\nIf you care about money, the iPhone 14 (Plus) is probably a bad choice. If you want one of these look in the 13 series for a phone\\n\\nPS: Apple has a nice compare tool, to see the differences between iPhones: https://www.apple.com/iphone/compare/',\n",
       "  'published_at': datetime.date(2022, 12, 30)},\n",
       " {'name': 'apple',\n",
       "  'description': \"Welcome!\\n==\\n\\nWelcome to r/Apple, the unofficial community for Apple news, rumors, and discussions. If you have a tech or buying/selling-related question, please check out our [Daily Advice Thread](https://www.reddit.com/r/apple/about/sticky?num=1) or [r/AppleHelp](/r/applehelp/)!\\n\\nCommunity\\n==\\n**[r/Apple Discord Server](https://discord.gg/apple)**\\n\\n*  **[Join the r/Apple Discord Server](https://discord.gg/Apple)**\\n* **[Check out the r/Apple Podcast](https://itunes.apple.com/au/podcast/the-r-apple-show/id1332585582?mt=2)**\\n*  **[Join the IRC via web chat](https://kiwiirc.com/client/irc.snoonet.org/apple?nick=CHANGE_ME)**\\n* IRC Server: irc.snoonet.org \\n* Channel: #apple\\n\\nRules\\n==\\n**[A more in-depth version of the rules can be found here](https://www.reddit.com/r/apple/wiki/rules)**\\n\\n1. No reposts, and/or rehosted content.\\n2. No memes, direct images or contextless image/video posts.\\n3. No NSFW content.\\n4. Posts must foster reasonable discussion.\\n5. No editorialized link titles (use the original source's title if applicable).\\n6. No rude, offensive, or hateful comments.\\n7. No posts that aren’t directly related to Apple or the Apple eco-system.\\n8. No support questions outside of the Daily Advice Thread. We **may** approve your post if it is a high-level issue that can't be found through searches, or if it affects a large amount of people.\\n9. No spam. No surveys. Self-promotion is allowed on Sundays only, strictly reserved for app developers and must be in the form of a self-post. Before posting, [read the detailed rules here.](https://www.reddit.com/r/apple/wiki/rules#wiki_9.__no_spam._no_surveys._self-promotion_is_allowed_on_sundays_only.)\\n10. No content related to piracy or illegal activities.\\n11. No posts or comments relating to buying, selling, trading, giveaways or asking for advice about any of those topics. The proper place for advice is /r/AppleWhatShouldIBuy.\\n12. No posts about bugs in beta software. These belong in the beta subreddits listed below.\\n13. Comments that are spreading COVID vaccine misinformation/claims are not allowed.\\n\\nEvents\\n==\\n\\n| **Event** | Time |\\n|-----------------------------|---------------------|\\n| Advice Thread (Daily) | 6am ET |\\n| Self-Promotion Sunday | All Day ET |\\n\\nApple System Status\\n==\\n[**Check here**](https://www.apple.com/support/systemstatus/) to see if any Apple services are down.\\n\\nNot sure what to buy?\\n==\\n\\nAsk in our **[Daily Advice Thread](https://www.reddit.com/r/apple/about/sticky?num=1)** or in our dedicated sister sub **/r/AppleWhatShouldIBuy**! See also the **[iPhone Upgrade Wiki](https://www.reddit.com/r/apple/wiki/iphoneupgradeprogram)** for more information.\\n\\nApple Subreddits\\n==\\n\\n* **[Apple Help](/r/applehelp)**\\n* [Apple TV+](/r/tvPlus)\\n* [AirPods](/r/airpods)\\n* [HomePod](/r/homepod)\\n* [Beats by Dre](/r/BeatsbyDre)\\n* [Apple Music](/r/applemusic)\\n* [Swift Programming Language](/r/swift)\\n* [Siri Fail](/r/sirifail)\\n\\nMac Subreddits\\n==\\n\\n* [MacOS](/r/MacOS), [OSX](/r/osx)\\n* [Mac](/r/Mac), [MacBook](/r/Macbook)\\n* [MacApps](/r/macapps)\\n* [MacGaming](/r/MacGaming)\\n* [Hackintosh](/r/hackintosh)\\n* [Apple II](/r/apple2)\\n* [BootCamp](/r/BootCamp)\\n* [MacSetups](/r/MacSetups)\\n* [AppleSwap](/r/appleswap) \\n* [VintageApple](/r/vintageapple)\\n\\niOS Subreddits\\n==\\n\\n* [iPad](/r/ipad)\\n* [Apple Watch](/r/applewatch)\\n* [AppleTV](/r/appletv)\\n* [HomeKit](/r/homekit)\\n* [iPod](/r/ipod)\\n* [Jailbreak](/r/jailbreak)\\n* [Shortcuts](/r/shortcuts)\\n* [iOS](/r/ios)\\n* [iPhoneography](/r/iPhoneography)\\n* [iOSGaming](/r/iOSGaming)\\n* [iOSsetups](/r/iOSsetups)\\n* [AppHookUp](/r/apphookup)\\n* [CarPlay](/r/CarPlay)\\n* [iOSThemes](/r/iOSThemes)\\n* [Official Reddit app](/r/redditmobile)\\n* [ApolloApp](/r/apolloapp)\\n* [GetNarwhal](/r/getnarwhal)\\n* [NanoApp](/r/Nanoapp)\\n* [iPhone](/r/iphonewallpapers/), [iPad](/r/ipadwallpapers/) or [Apple Watch](/r/applewatchwallpapers/) wallpapers\\n* [ARKit Creators](/r/ARKitCreators)\\n\\n\\nBeta Subreddits\\n==\\n\\n* [iOS and iPadOS](https://www.reddit.com/r/iOSBeta)\\n* [OSXBeta](/r/osxbeta), [macOSBeta](/r/MacOSBeta)\\n* [tvOS](/r/tvOSBeta)\\n* [watchOS](/r/watchosbeta)\\n\\nTech Subreddits\\n==\\n\\n* [Technology](/r/Technology)\\n* [Laptops](/r/laptops)\\n* [Programming](/r/Programming)\\n\\nContent Philosophy\\n=\\n\\nContent which benefits the **community** (news, rumors, and discussions) is valued over content which benefits only the **individual** (technical questions, help buying/selling, rants, etc.).  This fundamental difference in audience is why we support two communities, [r/Apple](/r/apple) and [r/AppleHelp](/r/applehelp).  If you'd like to view their content together, click [here](/r/apple+applehelp).\\n\\n\\n---\\n**This subreddit is not endorsed or sponsored by Apple Inc.**\",\n",
       "  'title': 'Daily Advice Thread - December 30, 2022',\n",
       "  'source_name': Redditor(name='AutoModerator'),\n",
       "  'url': 'https://www.reddit.com/r/apple/comments/zyxtud/daily_advice_thread_december_30_2022/',\n",
       "  'author': Redditor(name='Ok_Friend69'),\n",
       "  'content': 'Settings, to my knowledge, is the only one that can’t have badges turned off',\n",
       "  'published_at': datetime.date(2022, 12, 30)},\n",
       " {'name': 'apple',\n",
       "  'description': \"Welcome!\\n==\\n\\nWelcome to r/Apple, the unofficial community for Apple news, rumors, and discussions. If you have a tech or buying/selling-related question, please check out our [Daily Advice Thread](https://www.reddit.com/r/apple/about/sticky?num=1) or [r/AppleHelp](/r/applehelp/)!\\n\\nCommunity\\n==\\n**[r/Apple Discord Server](https://discord.gg/apple)**\\n\\n*  **[Join the r/Apple Discord Server](https://discord.gg/Apple)**\\n* **[Check out the r/Apple Podcast](https://itunes.apple.com/au/podcast/the-r-apple-show/id1332585582?mt=2)**\\n*  **[Join the IRC via web chat](https://kiwiirc.com/client/irc.snoonet.org/apple?nick=CHANGE_ME)**\\n* IRC Server: irc.snoonet.org \\n* Channel: #apple\\n\\nRules\\n==\\n**[A more in-depth version of the rules can be found here](https://www.reddit.com/r/apple/wiki/rules)**\\n\\n1. No reposts, and/or rehosted content.\\n2. No memes, direct images or contextless image/video posts.\\n3. No NSFW content.\\n4. Posts must foster reasonable discussion.\\n5. No editorialized link titles (use the original source's title if applicable).\\n6. No rude, offensive, or hateful comments.\\n7. No posts that aren’t directly related to Apple or the Apple eco-system.\\n8. No support questions outside of the Daily Advice Thread. We **may** approve your post if it is a high-level issue that can't be found through searches, or if it affects a large amount of people.\\n9. No spam. No surveys. Self-promotion is allowed on Sundays only, strictly reserved for app developers and must be in the form of a self-post. Before posting, [read the detailed rules here.](https://www.reddit.com/r/apple/wiki/rules#wiki_9.__no_spam._no_surveys._self-promotion_is_allowed_on_sundays_only.)\\n10. No content related to piracy or illegal activities.\\n11. No posts or comments relating to buying, selling, trading, giveaways or asking for advice about any of those topics. The proper place for advice is /r/AppleWhatShouldIBuy.\\n12. No posts about bugs in beta software. These belong in the beta subreddits listed below.\\n13. Comments that are spreading COVID vaccine misinformation/claims are not allowed.\\n\\nEvents\\n==\\n\\n| **Event** | Time |\\n|-----------------------------|---------------------|\\n| Advice Thread (Daily) | 6am ET |\\n| Self-Promotion Sunday | All Day ET |\\n\\nApple System Status\\n==\\n[**Check here**](https://www.apple.com/support/systemstatus/) to see if any Apple services are down.\\n\\nNot sure what to buy?\\n==\\n\\nAsk in our **[Daily Advice Thread](https://www.reddit.com/r/apple/about/sticky?num=1)** or in our dedicated sister sub **/r/AppleWhatShouldIBuy**! See also the **[iPhone Upgrade Wiki](https://www.reddit.com/r/apple/wiki/iphoneupgradeprogram)** for more information.\\n\\nApple Subreddits\\n==\\n\\n* **[Apple Help](/r/applehelp)**\\n* [Apple TV+](/r/tvPlus)\\n* [AirPods](/r/airpods)\\n* [HomePod](/r/homepod)\\n* [Beats by Dre](/r/BeatsbyDre)\\n* [Apple Music](/r/applemusic)\\n* [Swift Programming Language](/r/swift)\\n* [Siri Fail](/r/sirifail)\\n\\nMac Subreddits\\n==\\n\\n* [MacOS](/r/MacOS), [OSX](/r/osx)\\n* [Mac](/r/Mac), [MacBook](/r/Macbook)\\n* [MacApps](/r/macapps)\\n* [MacGaming](/r/MacGaming)\\n* [Hackintosh](/r/hackintosh)\\n* [Apple II](/r/apple2)\\n* [BootCamp](/r/BootCamp)\\n* [MacSetups](/r/MacSetups)\\n* [AppleSwap](/r/appleswap) \\n* [VintageApple](/r/vintageapple)\\n\\niOS Subreddits\\n==\\n\\n* [iPad](/r/ipad)\\n* [Apple Watch](/r/applewatch)\\n* [AppleTV](/r/appletv)\\n* [HomeKit](/r/homekit)\\n* [iPod](/r/ipod)\\n* [Jailbreak](/r/jailbreak)\\n* [Shortcuts](/r/shortcuts)\\n* [iOS](/r/ios)\\n* [iPhoneography](/r/iPhoneography)\\n* [iOSGaming](/r/iOSGaming)\\n* [iOSsetups](/r/iOSsetups)\\n* [AppHookUp](/r/apphookup)\\n* [CarPlay](/r/CarPlay)\\n* [iOSThemes](/r/iOSThemes)\\n* [Official Reddit app](/r/redditmobile)\\n* [ApolloApp](/r/apolloapp)\\n* [GetNarwhal](/r/getnarwhal)\\n* [NanoApp](/r/Nanoapp)\\n* [iPhone](/r/iphonewallpapers/), [iPad](/r/ipadwallpapers/) or [Apple Watch](/r/applewatchwallpapers/) wallpapers\\n* [ARKit Creators](/r/ARKitCreators)\\n\\n\\nBeta Subreddits\\n==\\n\\n* [iOS and iPadOS](https://www.reddit.com/r/iOSBeta)\\n* [OSXBeta](/r/osxbeta), [macOSBeta](/r/MacOSBeta)\\n* [tvOS](/r/tvOSBeta)\\n* [watchOS](/r/watchosbeta)\\n\\nTech Subreddits\\n==\\n\\n* [Technology](/r/Technology)\\n* [Laptops](/r/laptops)\\n* [Programming](/r/Programming)\\n\\nContent Philosophy\\n=\\n\\nContent which benefits the **community** (news, rumors, and discussions) is valued over content which benefits only the **individual** (technical questions, help buying/selling, rants, etc.).  This fundamental difference in audience is why we support two communities, [r/Apple](/r/apple) and [r/AppleHelp](/r/applehelp).  If you'd like to view their content together, click [here](/r/apple+applehelp).\\n\\n\\n---\\n**This subreddit is not endorsed or sponsored by Apple Inc.**\",\n",
       "  'title': 'Daily Advice Thread - December 30, 2022',\n",
       "  'source_name': Redditor(name='AutoModerator'),\n",
       "  'url': 'https://www.reddit.com/r/apple/comments/zyxtud/daily_advice_thread_december_30_2022/',\n",
       "  'author': Redditor(name='TomLube'),\n",
       "  'content': 'This is like barely a solution, but I ran into my iCloud storage limit and it removed the update badge',\n",
       "  'published_at': datetime.date(2022, 12, 30)},\n",
       " {'name': 'apple',\n",
       "  'description': \"Welcome!\\n==\\n\\nWelcome to r/Apple, the unofficial community for Apple news, rumors, and discussions. If you have a tech or buying/selling-related question, please check out our [Daily Advice Thread](https://www.reddit.com/r/apple/about/sticky?num=1) or [r/AppleHelp](/r/applehelp/)!\\n\\nCommunity\\n==\\n**[r/Apple Discord Server](https://discord.gg/apple)**\\n\\n*  **[Join the r/Apple Discord Server](https://discord.gg/Apple)**\\n* **[Check out the r/Apple Podcast](https://itunes.apple.com/au/podcast/the-r-apple-show/id1332585582?mt=2)**\\n*  **[Join the IRC via web chat](https://kiwiirc.com/client/irc.snoonet.org/apple?nick=CHANGE_ME)**\\n* IRC Server: irc.snoonet.org \\n* Channel: #apple\\n\\nRules\\n==\\n**[A more in-depth version of the rules can be found here](https://www.reddit.com/r/apple/wiki/rules)**\\n\\n1. No reposts, and/or rehosted content.\\n2. No memes, direct images or contextless image/video posts.\\n3. No NSFW content.\\n4. Posts must foster reasonable discussion.\\n5. No editorialized link titles (use the original source's title if applicable).\\n6. No rude, offensive, or hateful comments.\\n7. No posts that aren’t directly related to Apple or the Apple eco-system.\\n8. No support questions outside of the Daily Advice Thread. We **may** approve your post if it is a high-level issue that can't be found through searches, or if it affects a large amount of people.\\n9. No spam. No surveys. Self-promotion is allowed on Sundays only, strictly reserved for app developers and must be in the form of a self-post. Before posting, [read the detailed rules here.](https://www.reddit.com/r/apple/wiki/rules#wiki_9.__no_spam._no_surveys._self-promotion_is_allowed_on_sundays_only.)\\n10. No content related to piracy or illegal activities.\\n11. No posts or comments relating to buying, selling, trading, giveaways or asking for advice about any of those topics. The proper place for advice is /r/AppleWhatShouldIBuy.\\n12. No posts about bugs in beta software. These belong in the beta subreddits listed below.\\n13. Comments that are spreading COVID vaccine misinformation/claims are not allowed.\\n\\nEvents\\n==\\n\\n| **Event** | Time |\\n|-----------------------------|---------------------|\\n| Advice Thread (Daily) | 6am ET |\\n| Self-Promotion Sunday | All Day ET |\\n\\nApple System Status\\n==\\n[**Check here**](https://www.apple.com/support/systemstatus/) to see if any Apple services are down.\\n\\nNot sure what to buy?\\n==\\n\\nAsk in our **[Daily Advice Thread](https://www.reddit.com/r/apple/about/sticky?num=1)** or in our dedicated sister sub **/r/AppleWhatShouldIBuy**! See also the **[iPhone Upgrade Wiki](https://www.reddit.com/r/apple/wiki/iphoneupgradeprogram)** for more information.\\n\\nApple Subreddits\\n==\\n\\n* **[Apple Help](/r/applehelp)**\\n* [Apple TV+](/r/tvPlus)\\n* [AirPods](/r/airpods)\\n* [HomePod](/r/homepod)\\n* [Beats by Dre](/r/BeatsbyDre)\\n* [Apple Music](/r/applemusic)\\n* [Swift Programming Language](/r/swift)\\n* [Siri Fail](/r/sirifail)\\n\\nMac Subreddits\\n==\\n\\n* [MacOS](/r/MacOS), [OSX](/r/osx)\\n* [Mac](/r/Mac), [MacBook](/r/Macbook)\\n* [MacApps](/r/macapps)\\n* [MacGaming](/r/MacGaming)\\n* [Hackintosh](/r/hackintosh)\\n* [Apple II](/r/apple2)\\n* [BootCamp](/r/BootCamp)\\n* [MacSetups](/r/MacSetups)\\n* [AppleSwap](/r/appleswap) \\n* [VintageApple](/r/vintageapple)\\n\\niOS Subreddits\\n==\\n\\n* [iPad](/r/ipad)\\n* [Apple Watch](/r/applewatch)\\n* [AppleTV](/r/appletv)\\n* [HomeKit](/r/homekit)\\n* [iPod](/r/ipod)\\n* [Jailbreak](/r/jailbreak)\\n* [Shortcuts](/r/shortcuts)\\n* [iOS](/r/ios)\\n* [iPhoneography](/r/iPhoneography)\\n* [iOSGaming](/r/iOSGaming)\\n* [iOSsetups](/r/iOSsetups)\\n* [AppHookUp](/r/apphookup)\\n* [CarPlay](/r/CarPlay)\\n* [iOSThemes](/r/iOSThemes)\\n* [Official Reddit app](/r/redditmobile)\\n* [ApolloApp](/r/apolloapp)\\n* [GetNarwhal](/r/getnarwhal)\\n* [NanoApp](/r/Nanoapp)\\n* [iPhone](/r/iphonewallpapers/), [iPad](/r/ipadwallpapers/) or [Apple Watch](/r/applewatchwallpapers/) wallpapers\\n* [ARKit Creators](/r/ARKitCreators)\\n\\n\\nBeta Subreddits\\n==\\n\\n* [iOS and iPadOS](https://www.reddit.com/r/iOSBeta)\\n* [OSXBeta](/r/osxbeta), [macOSBeta](/r/MacOSBeta)\\n* [tvOS](/r/tvOSBeta)\\n* [watchOS](/r/watchosbeta)\\n\\nTech Subreddits\\n==\\n\\n* [Technology](/r/Technology)\\n* [Laptops](/r/laptops)\\n* [Programming](/r/Programming)\\n\\nContent Philosophy\\n=\\n\\nContent which benefits the **community** (news, rumors, and discussions) is valued over content which benefits only the **individual** (technical questions, help buying/selling, rants, etc.).  This fundamental difference in audience is why we support two communities, [r/Apple](/r/apple) and [r/AppleHelp](/r/applehelp).  If you'd like to view their content together, click [here](/r/apple+applehelp).\\n\\n\\n---\\n**This subreddit is not endorsed or sponsored by Apple Inc.**\",\n",
       "  'title': 'Daily Advice Thread - December 30, 2022',\n",
       "  'source_name': Redditor(name='AutoModerator'),\n",
       "  'url': 'https://www.reddit.com/r/apple/comments/zyxtud/daily_advice_thread_december_30_2022/',\n",
       "  'author': Redditor(name='TomLube'),\n",
       "  'content': 'Only real thing is to unplug that battery I guess',\n",
       "  'published_at': datetime.date(2022, 12, 30)},\n",
       " {'name': 'apple',\n",
       "  'description': \"Welcome!\\n==\\n\\nWelcome to r/Apple, the unofficial community for Apple news, rumors, and discussions. If you have a tech or buying/selling-related question, please check out our [Daily Advice Thread](https://www.reddit.com/r/apple/about/sticky?num=1) or [r/AppleHelp](/r/applehelp/)!\\n\\nCommunity\\n==\\n**[r/Apple Discord Server](https://discord.gg/apple)**\\n\\n*  **[Join the r/Apple Discord Server](https://discord.gg/Apple)**\\n* **[Check out the r/Apple Podcast](https://itunes.apple.com/au/podcast/the-r-apple-show/id1332585582?mt=2)**\\n*  **[Join the IRC via web chat](https://kiwiirc.com/client/irc.snoonet.org/apple?nick=CHANGE_ME)**\\n* IRC Server: irc.snoonet.org \\n* Channel: #apple\\n\\nRules\\n==\\n**[A more in-depth version of the rules can be found here](https://www.reddit.com/r/apple/wiki/rules)**\\n\\n1. No reposts, and/or rehosted content.\\n2. No memes, direct images or contextless image/video posts.\\n3. No NSFW content.\\n4. Posts must foster reasonable discussion.\\n5. No editorialized link titles (use the original source's title if applicable).\\n6. No rude, offensive, or hateful comments.\\n7. No posts that aren’t directly related to Apple or the Apple eco-system.\\n8. No support questions outside of the Daily Advice Thread. We **may** approve your post if it is a high-level issue that can't be found through searches, or if it affects a large amount of people.\\n9. No spam. No surveys. Self-promotion is allowed on Sundays only, strictly reserved for app developers and must be in the form of a self-post. Before posting, [read the detailed rules here.](https://www.reddit.com/r/apple/wiki/rules#wiki_9.__no_spam._no_surveys._self-promotion_is_allowed_on_sundays_only.)\\n10. No content related to piracy or illegal activities.\\n11. No posts or comments relating to buying, selling, trading, giveaways or asking for advice about any of those topics. The proper place for advice is /r/AppleWhatShouldIBuy.\\n12. No posts about bugs in beta software. These belong in the beta subreddits listed below.\\n13. Comments that are spreading COVID vaccine misinformation/claims are not allowed.\\n\\nEvents\\n==\\n\\n| **Event** | Time |\\n|-----------------------------|---------------------|\\n| Advice Thread (Daily) | 6am ET |\\n| Self-Promotion Sunday | All Day ET |\\n\\nApple System Status\\n==\\n[**Check here**](https://www.apple.com/support/systemstatus/) to see if any Apple services are down.\\n\\nNot sure what to buy?\\n==\\n\\nAsk in our **[Daily Advice Thread](https://www.reddit.com/r/apple/about/sticky?num=1)** or in our dedicated sister sub **/r/AppleWhatShouldIBuy**! See also the **[iPhone Upgrade Wiki](https://www.reddit.com/r/apple/wiki/iphoneupgradeprogram)** for more information.\\n\\nApple Subreddits\\n==\\n\\n* **[Apple Help](/r/applehelp)**\\n* [Apple TV+](/r/tvPlus)\\n* [AirPods](/r/airpods)\\n* [HomePod](/r/homepod)\\n* [Beats by Dre](/r/BeatsbyDre)\\n* [Apple Music](/r/applemusic)\\n* [Swift Programming Language](/r/swift)\\n* [Siri Fail](/r/sirifail)\\n\\nMac Subreddits\\n==\\n\\n* [MacOS](/r/MacOS), [OSX](/r/osx)\\n* [Mac](/r/Mac), [MacBook](/r/Macbook)\\n* [MacApps](/r/macapps)\\n* [MacGaming](/r/MacGaming)\\n* [Hackintosh](/r/hackintosh)\\n* [Apple II](/r/apple2)\\n* [BootCamp](/r/BootCamp)\\n* [MacSetups](/r/MacSetups)\\n* [AppleSwap](/r/appleswap) \\n* [VintageApple](/r/vintageapple)\\n\\niOS Subreddits\\n==\\n\\n* [iPad](/r/ipad)\\n* [Apple Watch](/r/applewatch)\\n* [AppleTV](/r/appletv)\\n* [HomeKit](/r/homekit)\\n* [iPod](/r/ipod)\\n* [Jailbreak](/r/jailbreak)\\n* [Shortcuts](/r/shortcuts)\\n* [iOS](/r/ios)\\n* [iPhoneography](/r/iPhoneography)\\n* [iOSGaming](/r/iOSGaming)\\n* [iOSsetups](/r/iOSsetups)\\n* [AppHookUp](/r/apphookup)\\n* [CarPlay](/r/CarPlay)\\n* [iOSThemes](/r/iOSThemes)\\n* [Official Reddit app](/r/redditmobile)\\n* [ApolloApp](/r/apolloapp)\\n* [GetNarwhal](/r/getnarwhal)\\n* [NanoApp](/r/Nanoapp)\\n* [iPhone](/r/iphonewallpapers/), [iPad](/r/ipadwallpapers/) or [Apple Watch](/r/applewatchwallpapers/) wallpapers\\n* [ARKit Creators](/r/ARKitCreators)\\n\\n\\nBeta Subreddits\\n==\\n\\n* [iOS and iPadOS](https://www.reddit.com/r/iOSBeta)\\n* [OSXBeta](/r/osxbeta), [macOSBeta](/r/MacOSBeta)\\n* [tvOS](/r/tvOSBeta)\\n* [watchOS](/r/watchosbeta)\\n\\nTech Subreddits\\n==\\n\\n* [Technology](/r/Technology)\\n* [Laptops](/r/laptops)\\n* [Programming](/r/Programming)\\n\\nContent Philosophy\\n=\\n\\nContent which benefits the **community** (news, rumors, and discussions) is valued over content which benefits only the **individual** (technical questions, help buying/selling, rants, etc.).  This fundamental difference in audience is why we support two communities, [r/Apple](/r/apple) and [r/AppleHelp](/r/applehelp).  If you'd like to view their content together, click [here](/r/apple+applehelp).\\n\\n\\n---\\n**This subreddit is not endorsed or sponsored by Apple Inc.**\",\n",
       "  'title': 'Daily Advice Thread - December 30, 2022',\n",
       "  'source_name': Redditor(name='AutoModerator'),\n",
       "  'url': 'https://www.reddit.com/r/apple/comments/zyxtud/daily_advice_thread_december_30_2022/',\n",
       "  'author': Redditor(name='DarkAngel5666'),\n",
       "  'content': 'It is most likely a physical problem at this point :/. If it doesn’t even connect to your computer in DFU mode, it just doesn’t turn on and there’s nothing you can do from a software point of view.',\n",
       "  'published_at': datetime.date(2022, 12, 30)},\n",
       " {'name': 'apple',\n",
       "  'description': \"Welcome!\\n==\\n\\nWelcome to r/Apple, the unofficial community for Apple news, rumors, and discussions. If you have a tech or buying/selling-related question, please check out our [Daily Advice Thread](https://www.reddit.com/r/apple/about/sticky?num=1) or [r/AppleHelp](/r/applehelp/)!\\n\\nCommunity\\n==\\n**[r/Apple Discord Server](https://discord.gg/apple)**\\n\\n*  **[Join the r/Apple Discord Server](https://discord.gg/Apple)**\\n* **[Check out the r/Apple Podcast](https://itunes.apple.com/au/podcast/the-r-apple-show/id1332585582?mt=2)**\\n*  **[Join the IRC via web chat](https://kiwiirc.com/client/irc.snoonet.org/apple?nick=CHANGE_ME)**\\n* IRC Server: irc.snoonet.org \\n* Channel: #apple\\n\\nRules\\n==\\n**[A more in-depth version of the rules can be found here](https://www.reddit.com/r/apple/wiki/rules)**\\n\\n1. No reposts, and/or rehosted content.\\n2. No memes, direct images or contextless image/video posts.\\n3. No NSFW content.\\n4. Posts must foster reasonable discussion.\\n5. No editorialized link titles (use the original source's title if applicable).\\n6. No rude, offensive, or hateful comments.\\n7. No posts that aren’t directly related to Apple or the Apple eco-system.\\n8. No support questions outside of the Daily Advice Thread. We **may** approve your post if it is a high-level issue that can't be found through searches, or if it affects a large amount of people.\\n9. No spam. No surveys. Self-promotion is allowed on Sundays only, strictly reserved for app developers and must be in the form of a self-post. Before posting, [read the detailed rules here.](https://www.reddit.com/r/apple/wiki/rules#wiki_9.__no_spam._no_surveys._self-promotion_is_allowed_on_sundays_only.)\\n10. No content related to piracy or illegal activities.\\n11. No posts or comments relating to buying, selling, trading, giveaways or asking for advice about any of those topics. The proper place for advice is /r/AppleWhatShouldIBuy.\\n12. No posts about bugs in beta software. These belong in the beta subreddits listed below.\\n13. Comments that are spreading COVID vaccine misinformation/claims are not allowed.\\n\\nEvents\\n==\\n\\n| **Event** | Time |\\n|-----------------------------|---------------------|\\n| Advice Thread (Daily) | 6am ET |\\n| Self-Promotion Sunday | All Day ET |\\n\\nApple System Status\\n==\\n[**Check here**](https://www.apple.com/support/systemstatus/) to see if any Apple services are down.\\n\\nNot sure what to buy?\\n==\\n\\nAsk in our **[Daily Advice Thread](https://www.reddit.com/r/apple/about/sticky?num=1)** or in our dedicated sister sub **/r/AppleWhatShouldIBuy**! See also the **[iPhone Upgrade Wiki](https://www.reddit.com/r/apple/wiki/iphoneupgradeprogram)** for more information.\\n\\nApple Subreddits\\n==\\n\\n* **[Apple Help](/r/applehelp)**\\n* [Apple TV+](/r/tvPlus)\\n* [AirPods](/r/airpods)\\n* [HomePod](/r/homepod)\\n* [Beats by Dre](/r/BeatsbyDre)\\n* [Apple Music](/r/applemusic)\\n* [Swift Programming Language](/r/swift)\\n* [Siri Fail](/r/sirifail)\\n\\nMac Subreddits\\n==\\n\\n* [MacOS](/r/MacOS), [OSX](/r/osx)\\n* [Mac](/r/Mac), [MacBook](/r/Macbook)\\n* [MacApps](/r/macapps)\\n* [MacGaming](/r/MacGaming)\\n* [Hackintosh](/r/hackintosh)\\n* [Apple II](/r/apple2)\\n* [BootCamp](/r/BootCamp)\\n* [MacSetups](/r/MacSetups)\\n* [AppleSwap](/r/appleswap) \\n* [VintageApple](/r/vintageapple)\\n\\niOS Subreddits\\n==\\n\\n* [iPad](/r/ipad)\\n* [Apple Watch](/r/applewatch)\\n* [AppleTV](/r/appletv)\\n* [HomeKit](/r/homekit)\\n* [iPod](/r/ipod)\\n* [Jailbreak](/r/jailbreak)\\n* [Shortcuts](/r/shortcuts)\\n* [iOS](/r/ios)\\n* [iPhoneography](/r/iPhoneography)\\n* [iOSGaming](/r/iOSGaming)\\n* [iOSsetups](/r/iOSsetups)\\n* [AppHookUp](/r/apphookup)\\n* [CarPlay](/r/CarPlay)\\n* [iOSThemes](/r/iOSThemes)\\n* [Official Reddit app](/r/redditmobile)\\n* [ApolloApp](/r/apolloapp)\\n* [GetNarwhal](/r/getnarwhal)\\n* [NanoApp](/r/Nanoapp)\\n* [iPhone](/r/iphonewallpapers/), [iPad](/r/ipadwallpapers/) or [Apple Watch](/r/applewatchwallpapers/) wallpapers\\n* [ARKit Creators](/r/ARKitCreators)\\n\\n\\nBeta Subreddits\\n==\\n\\n* [iOS and iPadOS](https://www.reddit.com/r/iOSBeta)\\n* [OSXBeta](/r/osxbeta), [macOSBeta](/r/MacOSBeta)\\n* [tvOS](/r/tvOSBeta)\\n* [watchOS](/r/watchosbeta)\\n\\nTech Subreddits\\n==\\n\\n* [Technology](/r/Technology)\\n* [Laptops](/r/laptops)\\n* [Programming](/r/Programming)\\n\\nContent Philosophy\\n=\\n\\nContent which benefits the **community** (news, rumors, and discussions) is valued over content which benefits only the **individual** (technical questions, help buying/selling, rants, etc.).  This fundamental difference in audience is why we support two communities, [r/Apple](/r/apple) and [r/AppleHelp](/r/applehelp).  If you'd like to view their content together, click [here](/r/apple+applehelp).\\n\\n\\n---\\n**This subreddit is not endorsed or sponsored by Apple Inc.**\",\n",
       "  'title': 'Daily Advice Thread - December 30, 2022',\n",
       "  'source_name': Redditor(name='AutoModerator'),\n",
       "  'url': 'https://www.reddit.com/r/apple/comments/zyxtud/daily_advice_thread_december_30_2022/',\n",
       "  'author': Redditor(name='berserkuh'),\n",
       "  'content': \"Thanks for the link.\\n\\nA follow-up question then. I've read some reviews on Pro models that said that battery life was tanked straight out of the factory (needing to recharge twice in a day). They compared it to older phones and I think it's rumored there was a bad initial batch. Is this valid?\",\n",
       "  'published_at': datetime.date(2022, 12, 30)},\n",
       " {'name': 'apple',\n",
       "  'description': \"Welcome!\\n==\\n\\nWelcome to r/Apple, the unofficial community for Apple news, rumors, and discussions. If you have a tech or buying/selling-related question, please check out our [Daily Advice Thread](https://www.reddit.com/r/apple/about/sticky?num=1) or [r/AppleHelp](/r/applehelp/)!\\n\\nCommunity\\n==\\n**[r/Apple Discord Server](https://discord.gg/apple)**\\n\\n*  **[Join the r/Apple Discord Server](https://discord.gg/Apple)**\\n* **[Check out the r/Apple Podcast](https://itunes.apple.com/au/podcast/the-r-apple-show/id1332585582?mt=2)**\\n*  **[Join the IRC via web chat](https://kiwiirc.com/client/irc.snoonet.org/apple?nick=CHANGE_ME)**\\n* IRC Server: irc.snoonet.org \\n* Channel: #apple\\n\\nRules\\n==\\n**[A more in-depth version of the rules can be found here](https://www.reddit.com/r/apple/wiki/rules)**\\n\\n1. No reposts, and/or rehosted content.\\n2. No memes, direct images or contextless image/video posts.\\n3. No NSFW content.\\n4. Posts must foster reasonable discussion.\\n5. No editorialized link titles (use the original source's title if applicable).\\n6. No rude, offensive, or hateful comments.\\n7. No posts that aren’t directly related to Apple or the Apple eco-system.\\n8. No support questions outside of the Daily Advice Thread. We **may** approve your post if it is a high-level issue that can't be found through searches, or if it affects a large amount of people.\\n9. No spam. No surveys. Self-promotion is allowed on Sundays only, strictly reserved for app developers and must be in the form of a self-post. Before posting, [read the detailed rules here.](https://www.reddit.com/r/apple/wiki/rules#wiki_9.__no_spam._no_surveys._self-promotion_is_allowed_on_sundays_only.)\\n10. No content related to piracy or illegal activities.\\n11. No posts or comments relating to buying, selling, trading, giveaways or asking for advice about any of those topics. The proper place for advice is /r/AppleWhatShouldIBuy.\\n12. No posts about bugs in beta software. These belong in the beta subreddits listed below.\\n13. Comments that are spreading COVID vaccine misinformation/claims are not allowed.\\n\\nEvents\\n==\\n\\n| **Event** | Time |\\n|-----------------------------|---------------------|\\n| Advice Thread (Daily) | 6am ET |\\n| Self-Promotion Sunday | All Day ET |\\n\\nApple System Status\\n==\\n[**Check here**](https://www.apple.com/support/systemstatus/) to see if any Apple services are down.\\n\\nNot sure what to buy?\\n==\\n\\nAsk in our **[Daily Advice Thread](https://www.reddit.com/r/apple/about/sticky?num=1)** or in our dedicated sister sub **/r/AppleWhatShouldIBuy**! See also the **[iPhone Upgrade Wiki](https://www.reddit.com/r/apple/wiki/iphoneupgradeprogram)** for more information.\\n\\nApple Subreddits\\n==\\n\\n* **[Apple Help](/r/applehelp)**\\n* [Apple TV+](/r/tvPlus)\\n* [AirPods](/r/airpods)\\n* [HomePod](/r/homepod)\\n* [Beats by Dre](/r/BeatsbyDre)\\n* [Apple Music](/r/applemusic)\\n* [Swift Programming Language](/r/swift)\\n* [Siri Fail](/r/sirifail)\\n\\nMac Subreddits\\n==\\n\\n* [MacOS](/r/MacOS), [OSX](/r/osx)\\n* [Mac](/r/Mac), [MacBook](/r/Macbook)\\n* [MacApps](/r/macapps)\\n* [MacGaming](/r/MacGaming)\\n* [Hackintosh](/r/hackintosh)\\n* [Apple II](/r/apple2)\\n* [BootCamp](/r/BootCamp)\\n* [MacSetups](/r/MacSetups)\\n* [AppleSwap](/r/appleswap) \\n* [VintageApple](/r/vintageapple)\\n\\niOS Subreddits\\n==\\n\\n* [iPad](/r/ipad)\\n* [Apple Watch](/r/applewatch)\\n* [AppleTV](/r/appletv)\\n* [HomeKit](/r/homekit)\\n* [iPod](/r/ipod)\\n* [Jailbreak](/r/jailbreak)\\n* [Shortcuts](/r/shortcuts)\\n* [iOS](/r/ios)\\n* [iPhoneography](/r/iPhoneography)\\n* [iOSGaming](/r/iOSGaming)\\n* [iOSsetups](/r/iOSsetups)\\n* [AppHookUp](/r/apphookup)\\n* [CarPlay](/r/CarPlay)\\n* [iOSThemes](/r/iOSThemes)\\n* [Official Reddit app](/r/redditmobile)\\n* [ApolloApp](/r/apolloapp)\\n* [GetNarwhal](/r/getnarwhal)\\n* [NanoApp](/r/Nanoapp)\\n* [iPhone](/r/iphonewallpapers/), [iPad](/r/ipadwallpapers/) or [Apple Watch](/r/applewatchwallpapers/) wallpapers\\n* [ARKit Creators](/r/ARKitCreators)\\n\\n\\nBeta Subreddits\\n==\\n\\n* [iOS and iPadOS](https://www.reddit.com/r/iOSBeta)\\n* [OSXBeta](/r/osxbeta), [macOSBeta](/r/MacOSBeta)\\n* [tvOS](/r/tvOSBeta)\\n* [watchOS](/r/watchosbeta)\\n\\nTech Subreddits\\n==\\n\\n* [Technology](/r/Technology)\\n* [Laptops](/r/laptops)\\n* [Programming](/r/Programming)\\n\\nContent Philosophy\\n=\\n\\nContent which benefits the **community** (news, rumors, and discussions) is valued over content which benefits only the **individual** (technical questions, help buying/selling, rants, etc.).  This fundamental difference in audience is why we support two communities, [r/Apple](/r/apple) and [r/AppleHelp](/r/applehelp).  If you'd like to view their content together, click [here](/r/apple+applehelp).\\n\\n\\n---\\n**This subreddit is not endorsed or sponsored by Apple Inc.**\",\n",
       "  'title': 'Daily Advice Thread - December 30, 2022',\n",
       "  'source_name': Redditor(name='AutoModerator'),\n",
       "  'url': 'https://www.reddit.com/r/apple/comments/zyxtud/daily_advice_thread_december_30_2022/',\n",
       "  'author': Redditor(name='ThunderElectric'),\n",
       "  'content': \"Alright, that's what I thought. Thank you!\",\n",
       "  'published_at': datetime.date(2022, 12, 30)},\n",
       " {'name': 'apple',\n",
       "  'description': \"Welcome!\\n==\\n\\nWelcome to r/Apple, the unofficial community for Apple news, rumors, and discussions. If you have a tech or buying/selling-related question, please check out our [Daily Advice Thread](https://www.reddit.com/r/apple/about/sticky?num=1) or [r/AppleHelp](/r/applehelp/)!\\n\\nCommunity\\n==\\n**[r/Apple Discord Server](https://discord.gg/apple)**\\n\\n*  **[Join the r/Apple Discord Server](https://discord.gg/Apple)**\\n* **[Check out the r/Apple Podcast](https://itunes.apple.com/au/podcast/the-r-apple-show/id1332585582?mt=2)**\\n*  **[Join the IRC via web chat](https://kiwiirc.com/client/irc.snoonet.org/apple?nick=CHANGE_ME)**\\n* IRC Server: irc.snoonet.org \\n* Channel: #apple\\n\\nRules\\n==\\n**[A more in-depth version of the rules can be found here](https://www.reddit.com/r/apple/wiki/rules)**\\n\\n1. No reposts, and/or rehosted content.\\n2. No memes, direct images or contextless image/video posts.\\n3. No NSFW content.\\n4. Posts must foster reasonable discussion.\\n5. No editorialized link titles (use the original source's title if applicable).\\n6. No rude, offensive, or hateful comments.\\n7. No posts that aren’t directly related to Apple or the Apple eco-system.\\n8. No support questions outside of the Daily Advice Thread. We **may** approve your post if it is a high-level issue that can't be found through searches, or if it affects a large amount of people.\\n9. No spam. No surveys. Self-promotion is allowed on Sundays only, strictly reserved for app developers and must be in the form of a self-post. Before posting, [read the detailed rules here.](https://www.reddit.com/r/apple/wiki/rules#wiki_9.__no_spam._no_surveys._self-promotion_is_allowed_on_sundays_only.)\\n10. No content related to piracy or illegal activities.\\n11. No posts or comments relating to buying, selling, trading, giveaways or asking for advice about any of those topics. The proper place for advice is /r/AppleWhatShouldIBuy.\\n12. No posts about bugs in beta software. These belong in the beta subreddits listed below.\\n13. Comments that are spreading COVID vaccine misinformation/claims are not allowed.\\n\\nEvents\\n==\\n\\n| **Event** | Time |\\n|-----------------------------|---------------------|\\n| Advice Thread (Daily) | 6am ET |\\n| Self-Promotion Sunday | All Day ET |\\n\\nApple System Status\\n==\\n[**Check here**](https://www.apple.com/support/systemstatus/) to see if any Apple services are down.\\n\\nNot sure what to buy?\\n==\\n\\nAsk in our **[Daily Advice Thread](https://www.reddit.com/r/apple/about/sticky?num=1)** or in our dedicated sister sub **/r/AppleWhatShouldIBuy**! See also the **[iPhone Upgrade Wiki](https://www.reddit.com/r/apple/wiki/iphoneupgradeprogram)** for more information.\\n\\nApple Subreddits\\n==\\n\\n* **[Apple Help](/r/applehelp)**\\n* [Apple TV+](/r/tvPlus)\\n* [AirPods](/r/airpods)\\n* [HomePod](/r/homepod)\\n* [Beats by Dre](/r/BeatsbyDre)\\n* [Apple Music](/r/applemusic)\\n* [Swift Programming Language](/r/swift)\\n* [Siri Fail](/r/sirifail)\\n\\nMac Subreddits\\n==\\n\\n* [MacOS](/r/MacOS), [OSX](/r/osx)\\n* [Mac](/r/Mac), [MacBook](/r/Macbook)\\n* [MacApps](/r/macapps)\\n* [MacGaming](/r/MacGaming)\\n* [Hackintosh](/r/hackintosh)\\n* [Apple II](/r/apple2)\\n* [BootCamp](/r/BootCamp)\\n* [MacSetups](/r/MacSetups)\\n* [AppleSwap](/r/appleswap) \\n* [VintageApple](/r/vintageapple)\\n\\niOS Subreddits\\n==\\n\\n* [iPad](/r/ipad)\\n* [Apple Watch](/r/applewatch)\\n* [AppleTV](/r/appletv)\\n* [HomeKit](/r/homekit)\\n* [iPod](/r/ipod)\\n* [Jailbreak](/r/jailbreak)\\n* [Shortcuts](/r/shortcuts)\\n* [iOS](/r/ios)\\n* [iPhoneography](/r/iPhoneography)\\n* [iOSGaming](/r/iOSGaming)\\n* [iOSsetups](/r/iOSsetups)\\n* [AppHookUp](/r/apphookup)\\n* [CarPlay](/r/CarPlay)\\n* [iOSThemes](/r/iOSThemes)\\n* [Official Reddit app](/r/redditmobile)\\n* [ApolloApp](/r/apolloapp)\\n* [GetNarwhal](/r/getnarwhal)\\n* [NanoApp](/r/Nanoapp)\\n* [iPhone](/r/iphonewallpapers/), [iPad](/r/ipadwallpapers/) or [Apple Watch](/r/applewatchwallpapers/) wallpapers\\n* [ARKit Creators](/r/ARKitCreators)\\n\\n\\nBeta Subreddits\\n==\\n\\n* [iOS and iPadOS](https://www.reddit.com/r/iOSBeta)\\n* [OSXBeta](/r/osxbeta), [macOSBeta](/r/MacOSBeta)\\n* [tvOS](/r/tvOSBeta)\\n* [watchOS](/r/watchosbeta)\\n\\nTech Subreddits\\n==\\n\\n* [Technology](/r/Technology)\\n* [Laptops](/r/laptops)\\n* [Programming](/r/Programming)\\n\\nContent Philosophy\\n=\\n\\nContent which benefits the **community** (news, rumors, and discussions) is valued over content which benefits only the **individual** (technical questions, help buying/selling, rants, etc.).  This fundamental difference in audience is why we support two communities, [r/Apple](/r/apple) and [r/AppleHelp](/r/applehelp).  If you'd like to view their content together, click [here](/r/apple+applehelp).\\n\\n\\n---\\n**This subreddit is not endorsed or sponsored by Apple Inc.**\",\n",
       "  'title': 'Daily Advice Thread - December 30, 2022',\n",
       "  'source_name': Redditor(name='AutoModerator'),\n",
       "  'url': 'https://www.reddit.com/r/apple/comments/zyxtud/daily_advice_thread_december_30_2022/',\n",
       "  'author': Redditor(name='DarkAngel5666'),\n",
       "  'content': 'Nope, the initial issue was with iOS 16 not finalised, then the impact of the always on display. \\nIf you compare a 13 pro and 14 pro on the same iOS version and with AOD turned off, they are really similar.',\n",
       "  'published_at': datetime.date(2022, 12, 30)}]"
      ]
     },
     "execution_count": 85,
     "metadata": {},
     "output_type": "execute_result"
    }
   ],
   "source": [
    "k1"
   ]
  },
  {
   "cell_type": "code",
   "execution_count": 78,
   "id": "7361781e",
   "metadata": {},
   "outputs": [],
   "source": [
    "def remove_duplicates(list_of_dicts):\n",
    "    # create a set to store the dictionaries\n",
    "    unique_dicts = set()\n",
    "    # create a new list to store the unique dictionaries\n",
    "    result = []\n",
    "    # iterate over the list of dictionaries\n",
    "    for dictionary in list_of_dicts:\n",
    "        # convert the dictionary to a tuple and add it to the set\n",
    "        unique_dicts.add(tuple(dictionary.items()))\n",
    "    # use a list comprehension to create a list of dictionaries from the unique tuples in the set\n",
    "    result = [dict(t) for t in unique_dicts]\n",
    "    # return the resulting list\n",
    "    return result"
   ]
  },
  {
   "cell_type": "code",
   "execution_count": 79,
   "id": "47c34bb4",
   "metadata": {},
   "outputs": [],
   "source": [
    "new_k = remove_duplicates(k1)"
   ]
  },
  {
   "cell_type": "code",
   "execution_count": 80,
   "id": "b087bac6",
   "metadata": {},
   "outputs": [
    {
     "data": {
      "text/plain": [
       "12"
      ]
     },
     "execution_count": 80,
     "metadata": {},
     "output_type": "execute_result"
    }
   ],
   "source": [
    "len(new_k)"
   ]
  },
  {
   "cell_type": "code",
   "execution_count": 58,
   "id": "7ca702ed",
   "metadata": {},
   "outputs": [
    {
     "name": "stdout",
     "output_type": "stream",
     "text": [
      "[{'a': 1, 'b': 2}, {'a': 3, 'b': 4}]\n"
     ]
    }
   ],
   "source": [
    "list_of_dicts = [{'a': 1, 'b': 2}, {'a': 1, 'b': 2}, {'a': 3, 'b': 4}]\n",
    "\n",
    "# remove duplicates from the list\n",
    "unique_dicts = remove_duplicates(list_of_dicts)\n",
    "\n",
    "print(unique_dicts)  "
   ]
  },
  {
   "cell_type": "code",
   "execution_count": 103,
   "id": "8d679f69",
   "metadata": {},
   "outputs": [],
   "source": [
    "import praw\n",
    "from datetime import datetime\n",
    "user_agent = \"Ahmad 1.0 by /user/ahmad407\"\n",
    "reddit = praw.Reddit(\n",
    "    client_id = 'AzJE40YLWfAyY71kRGRSKA', \n",
    "    client_secret = 'g7BpsSTakcZvdRyhogi5S3PHA3ri8A', \n",
    "    user_agent = user_agent\n",
    ")\n",
    "limit = 10\n",
    "keywords = [\"apple\", \"alienware\", \"lenovo\"]\n",
    "subreddit = reddit.subreddit(keywords[0])\n",
    "k1 = []\n",
    "for submission in subreddit.hot(limit=limit):\n",
    "    \n",
    "    all_comments = submission.comments.list()\n",
    "    \n",
    "    for comment in all_comments:\n",
    "        if isinstance(comment, praw.models.reddit.comment.Comment):\n",
    "            data = {}\n",
    "            data['name'] = keywords[0]\n",
    "            data['description'] = subreddit.description\n",
    "            data['title'] = submission.title\n",
    "            data['source_name'] = submission.author\n",
    "            data['url'] = submission.url\n",
    "            data['author'] = comment.author\n",
    "            data['content'] = comment.body\n",
    "            date = str(datetime.fromtimestamp(comment.created_utc))\n",
    "            data['published_at'] = date\n",
    "            k1.append(data)\n",
    "    \n",
    "\n",
    "k2 = []\n",
    "subreddit = reddit.subreddit(keywords[1])\n",
    "for submission in subreddit.hot(limit=limit):\n",
    "    \n",
    "    all_comments = submission.comments.list()\n",
    "    \n",
    "    for comment in all_comments:\n",
    "        if isinstance(comment, praw.models.reddit.comment.Comment):\n",
    "            data = {}\n",
    "            data['name'] = keywords[1]\n",
    "            data['description'] = subreddit.description\n",
    "            data['title'] = submission.title\n",
    "            data['source_name'] = submission.author\n",
    "            data['url'] = submission.url\n",
    "            data['author'] = comment.author\n",
    "            data['content'] = comment.body\n",
    "            date = str(datetime.fromtimestamp(comment.created_utc))\n",
    "            \n",
    "            data['published_at'] = date\n",
    "            k2.append(data)\n",
    "k3 = []\n",
    "subreddit = reddit.subreddit(keywords[2])\n",
    "for submission in subreddit.hot(limit=limit):\n",
    "    \n",
    "    all_comments = submission.comments.list()\n",
    "    \n",
    "    for comment in all_comments:\n",
    "        if isinstance(comment, praw.models.reddit.comment.Comment):\n",
    "            data = {}\n",
    "            data['name'] = keywords[2]\n",
    "            data['description'] = subreddit.description\n",
    "            data['title'] = submission.title\n",
    "            data['source_name'] = submission.author\n",
    "            data['url'] = submission.url\n",
    "            data['author'] = comment.author\n",
    "            data['content'] = comment.body\n",
    "            date = str(datetime.fromtimestamp(comment.created_utc))\n",
    "            data['published_at'] = date\n",
    "            k3.append(data)\n",
    "\n"
   ]
  },
  {
   "cell_type": "code",
   "execution_count": null,
   "id": "c27e63e8",
   "metadata": {},
   "outputs": [],
   "source": []
  }
 ],
 "metadata": {
  "kernelspec": {
   "display_name": "base",
   "language": "python",
   "name": "python3"
  },
  "language_info": {
   "codemirror_mode": {
    "name": "ipython",
    "version": 3
   },
   "file_extension": ".py",
   "mimetype": "text/x-python",
   "name": "python",
   "nbconvert_exporter": "python",
   "pygments_lexer": "ipython3",
   "version": "3.9.12 (main, Apr  4 2022, 05:22:27) [MSC v.1916 64 bit (AMD64)]"
  },
  "vscode": {
   "interpreter": {
    "hash": "c095e28c0380306a91dfcf91f5fd5762123fb83d5b68f6c5271d00cc634a65bf"
   }
  }
 },
 "nbformat": 4,
 "nbformat_minor": 5
}
