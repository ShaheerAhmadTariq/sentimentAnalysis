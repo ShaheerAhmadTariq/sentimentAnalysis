{
 "cells": [
  {
   "cell_type": "code",
   "execution_count": 1,
   "id": "180de21e",
   "metadata": {
    "scrolled": true
   },
   "outputs": [],
   "source": [
    "from pprint import pprint\n",
    "import pandas as pd\n",
    "import numpy as np\n",
    "import matplotlib.pyplot as plt\n",
    "import seaborn as sns"
   ]
  },
  {
   "cell_type": "code",
   "execution_count": 3,
   "id": "c468b503",
   "metadata": {
    "scrolled": true
   },
   "outputs": [
    {
     "name": "stdout",
     "output_type": "stream",
     "text": [
      "Defaulting to user installation because normal site-packages is not writeable\n",
      "Collecting praw\n",
      "  Downloading praw-7.6.0-py3-none-any.whl (188 kB)\n",
      "Requirement already satisfied: websocket-client>=0.54.0 in c:\\programdata\\anaconda3\\lib\\site-packages (from praw) (0.58.0)\n",
      "Collecting prawcore<3,>=2.1\n",
      "  Downloading prawcore-2.3.0-py3-none-any.whl (16 kB)\n",
      "Collecting update-checker>=0.18\n",
      "  Downloading update_checker-0.18.0-py3-none-any.whl (7.0 kB)\n",
      "Requirement already satisfied: requests<3.0,>=2.6.0 in c:\\programdata\\anaconda3\\lib\\site-packages (from prawcore<3,>=2.1->praw) (2.27.1)\n",
      "Requirement already satisfied: certifi>=2017.4.17 in c:\\programdata\\anaconda3\\lib\\site-packages (from requests<3.0,>=2.6.0->prawcore<3,>=2.1->praw) (2021.10.8)\n",
      "Requirement already satisfied: urllib3<1.27,>=1.21.1 in c:\\programdata\\anaconda3\\lib\\site-packages (from requests<3.0,>=2.6.0->prawcore<3,>=2.1->praw) (1.26.9)\n",
      "Requirement already satisfied: idna<4,>=2.5 in c:\\programdata\\anaconda3\\lib\\site-packages (from requests<3.0,>=2.6.0->prawcore<3,>=2.1->praw) (3.3)\n",
      "Requirement already satisfied: charset-normalizer~=2.0.0 in c:\\programdata\\anaconda3\\lib\\site-packages (from requests<3.0,>=2.6.0->prawcore<3,>=2.1->praw) (2.0.4)\n",
      "Requirement already satisfied: six in c:\\programdata\\anaconda3\\lib\\site-packages (from websocket-client>=0.54.0->praw) (1.16.0)\n",
      "Installing collected packages: update-checker, prawcore, praw\n",
      "Successfully installed praw-7.6.0 prawcore-2.3.0 update-checker-0.18.0\n"
     ]
    },
    {
     "ename": "ModuleNotFoundError",
     "evalue": "No module named 'praw'",
     "output_type": "error",
     "traceback": [
      "\u001b[1;31m---------------------------------------------------------------------------\u001b[0m",
      "\u001b[1;31mModuleNotFoundError\u001b[0m                       Traceback (most recent call last)",
      "Input \u001b[1;32mIn [3]\u001b[0m, in \u001b[0;36m<cell line: 2>\u001b[1;34m()\u001b[0m\n\u001b[0;32m      1\u001b[0m get_ipython()\u001b[38;5;241m.\u001b[39msystem(\u001b[38;5;124m'\u001b[39m\u001b[38;5;124mpip install praw\u001b[39m\u001b[38;5;124m'\u001b[39m)\n\u001b[1;32m----> 2\u001b[0m \u001b[38;5;28;01mimport\u001b[39;00m \u001b[38;5;21;01mpraw\u001b[39;00m\n",
      "\u001b[1;31mModuleNotFoundError\u001b[0m: No module named 'praw'"
     ]
    }
   ],
   "source": [
    "!pip install praw\n",
    "import praw"
   ]
  },
  {
   "cell_type": "code",
   "execution_count": null,
   "id": "eb23d8e4",
   "metadata": {
    "scrolled": true
   },
   "outputs": [],
   "source": [
    "user_agent = \"Ali 1.0 by /user/iallli\"\n",
    "reddit = praw.Reddit(\n",
    "    client_id = 'JnvZiIF4j4Du62s36w_rjg', \n",
    "    client_secret = '0mPVZ3tcb2vbqCu94TEfw4byJieREw', \n",
    "    user_agent = user_agent\n",
    ")"
   ]
  },
  {
   "cell_type": "code",
   "execution_count": null,
   "id": "6035c3db",
   "metadata": {
    "scrolled": false
   },
   "outputs": [],
   "source": [
    "import datetime\n",
    "\n",
    "headlines = set()\n",
    "for submission in reddit.subreddit('apple').top(\"all\"):\n",
    "    \n",
    "    if (submission.selftext == ''):\n",
    "        submission.selftext = 'This user did not comment on this.'\n",
    "        \n",
    "#     print('Author Name: '+str(submission.author))\n",
    "#     print('Submission Title: '+submission.title)\n",
    "#     print('Comment: '+submission.selftext)\n",
    "#     print('Created Date: '+str(datetime.datetime.utcfromtimestamp(submission.created_utc)))\n",
    "#     print('Score: '+str(submission.score))\n",
    "#     print(\"\\n\")\n",
    "\n",
    "    headlines.add(submission.title)\n",
    "    #headlines.add(submission.selftext)\n",
    "    \n",
    "#print(len(headlines))\n",
    "print(headlines)"
   ]
  },
  {
   "cell_type": "code",
   "execution_count": null,
   "id": "9c217f47",
   "metadata": {
    "scrolled": true
   },
   "outputs": [],
   "source": [
    "df = pd.DataFrame(headlines)\n",
    "print(df)"
   ]
  },
  {
   "cell_type": "code",
   "execution_count": null,
   "id": "39411132",
   "metadata": {},
   "outputs": [],
   "source": [
    "df.columns =['Headline']\n",
    "print(df)"
   ]
  },
  {
   "cell_type": "code",
   "execution_count": null,
   "id": "bbaf4215",
   "metadata": {
    "scrolled": true
   },
   "outputs": [],
   "source": [
    "df.to_csv('headlines.csv', header = False, encoding = 'utf-8', index = False)\n",
    "df"
   ]
  },
  {
   "cell_type": "code",
   "execution_count": 1,
   "id": "3e9e5e49",
   "metadata": {
    "scrolled": true
   },
   "outputs": [
    {
     "name": "stderr",
     "output_type": "stream",
     "text": [
      "[nltk_data] Downloading package vader_lexicon to\n",
      "[nltk_data]     C:\\Users\\SHAHEER\\AppData\\Roaming\\nltk_data...\n"
     ]
    }
   ],
   "source": [
    "import nltk\n",
    "nltk.download('vader_lexicon')\n",
    "from nltk.sentiment.vader import SentimentIntensityAnalyzer as SIA\n",
    "sia = SIA()"
   ]
  },
  {
   "cell_type": "code",
   "execution_count": 13,
   "id": "2bac89ab",
   "metadata": {},
   "outputs": [
    {
     "name": "stdout",
     "output_type": "stream",
     "text": [
      "0\n",
      "-1\n",
      "0\n"
     ]
    }
   ],
   "source": [
    "from textblob import TextBlob\n",
    "\n",
    "def get_sentiment(text):\n",
    "    # Create a TextBlob object from the input text\n",
    "    blob = TextBlob(text)\n",
    "    # Get the sentiment of the text\n",
    "    sentiment = blob.sentiment.polarity\n",
    "    # Return -1 for negative sentiment, 0 for neutral sentiment, and 1 for positive sentiment\n",
    "    if sentiment < 0:\n",
    "        return -1\n",
    "    elif sentiment == 0:\n",
    "        return 0\n",
    "    else:\n",
    "        return 1\n",
    "\n",
    "# Test the function\n",
    "print(get_sentiment(\"I will never use this product, because i don't like it!\"))  # Output: 1\n",
    "print(get_sentiment(\"I hate this product!\"))  # Output: -1\n",
    "print(get_sentiment(\"I'm neutral about this product.\"))  # Output: 0"
   ]
  },
  {
   "cell_type": "code",
   "execution_count": 14,
   "id": "55295250",
   "metadata": {},
   "outputs": [
    {
     "name": "stdout",
     "output_type": "stream",
     "text": [
      "Negative\n"
     ]
    }
   ],
   "source": [
    "result = sia.polarity_scores(\"i will never use apple phone, because i don't like it\")\n",
    "# print(result)\n",
    "if result['compound'] >= 0.05 :\n",
    "        print(\"Positive\")\n",
    "elif result['compound'] <= - 0.05 :\n",
    "    print(\"Negative\")\n",
    "else :\n",
    "    print(\"Neutral\")"
   ]
  },
  {
   "cell_type": "code",
   "execution_count": null,
   "id": "c59ef1d1",
   "metadata": {
    "scrolled": true
   },
   "outputs": [],
   "source": [
    "# import csv\n",
    "\n",
    "# from textblob import TextBlob\n",
    "\n",
    "# infile = 'headlines.csv'\n",
    "\n",
    "# with open(infile, 'r') as csvfile:\n",
    "#     rows = csv.reader(csvfile)\n",
    "#     for row in rows:\n",
    "#         sentence = row[0]\n",
    "#         blob = TextBlob(sentence)\n",
    "#         print(blob.sentiment)"
   ]
  },
  {
   "cell_type": "code",
   "execution_count": null,
   "id": "bae80c94",
   "metadata": {},
   "outputs": [],
   "source": []
  },
  {
   "cell_type": "code",
   "execution_count": null,
   "id": "ae583909",
   "metadata": {
    "scrolled": true
   },
   "outputs": [],
   "source": [
    "result = []\n",
    "for line in headlines:\n",
    "    \n",
    "    pol_score = sia(line)\n",
    "    pol_score['headlines'] = pol_score.sentimentline\n",
    "    result.append(pol_score)\n",
    "    \n",
    "pprint(result[:5], width = 100)"
   ]
  },
  {
   "cell_type": "code",
   "execution_count": null,
   "id": "30d0d2fd",
   "metadata": {
    "scrolled": true
   },
   "outputs": [],
   "source": [
    "df = pd.DataFrame.from_records(result)\n",
    "df.head()"
   ]
  },
  {
   "cell_type": "code",
   "execution_count": null,
   "id": "1e2673d9",
   "metadata": {
    "scrolled": true
   },
   "outputs": [],
   "source": [
    "df['label'] = 0\n",
    "df.loc[df['compound'] > 0.2, 'label'] = 1\n",
    "df.loc[df['compound'] < -0.2, 'label'] = -1\n",
    "df.head()"
   ]
  },
  {
   "cell_type": "code",
   "execution_count": null,
   "id": "1ff4b9f5",
   "metadata": {
    "scrolled": true
   },
   "outputs": [],
   "source": [
    "df2 = df[['headlines', 'label']]"
   ]
  },
  {
   "cell_type": "code",
   "execution_count": null,
   "id": "d701e184",
   "metadata": {
    "scrolled": true
   },
   "outputs": [],
   "source": [
    "df2.to_csv('reddit_headlines_label.csv', encoding = 'utf-8', index = False)"
   ]
  },
  {
   "cell_type": "code",
   "execution_count": null,
   "id": "b020d994",
   "metadata": {
    "scrolled": true
   },
   "outputs": [],
   "source": [
    "df.label.value_counts()"
   ]
  },
  {
   "cell_type": "code",
   "execution_count": null,
   "id": "ff07a791",
   "metadata": {
    "scrolled": true
   },
   "outputs": [],
   "source": [
    "df.label.value_counts(normalize = True)*100"
   ]
  },
  {
   "cell_type": "code",
   "execution_count": null,
   "id": "9274e569",
   "metadata": {
    "scrolled": true
   },
   "outputs": [],
   "source": [
    "print(\"Positive Headlines:\\n\")\n",
    "pprint(list(df[df['label'] == 1].headlines)[:5], width = 1000)\n",
    "\n",
    "print(\"\\nNegative Headlines:\\n\")\n",
    "pprint(list(df[df['label'] == -1].headlines)[:5], width = 1000)"
   ]
  },
  {
   "cell_type": "code",
   "execution_count": null,
   "id": "e93faebf",
   "metadata": {
    "scrolled": true
   },
   "outputs": [],
   "source": [
    "fig, ax = plt.subplots(figsize=(8,8))\n",
    "counts = df.label.value_counts(normalize = True)*100\n",
    "sns.barplot(x = counts.index, y = counts, ax = ax)\n",
    "ax.set_xticklabels(['Negative', 'Neutral', 'Positive'])\n",
    "ax.set_ylabel(\"Percentage\")\n",
    "plt.show()"
   ]
  },
  {
   "cell_type": "code",
   "execution_count": null,
   "id": "bf504af6",
   "metadata": {
    "scrolled": true
   },
   "outputs": [],
   "source": []
  },
  {
   "cell_type": "code",
   "execution_count": null,
   "id": "4ca3c8cf",
   "metadata": {
    "scrolled": true
   },
   "outputs": [],
   "source": []
  },
  {
   "cell_type": "code",
   "execution_count": null,
   "id": "de7fb551",
   "metadata": {
    "scrolled": true
   },
   "outputs": [],
   "source": []
  }
 ],
 "metadata": {
  "kernelspec": {
   "display_name": "base",
   "language": "python",
   "name": "python3"
  },
  "language_info": {
   "codemirror_mode": {
    "name": "ipython",
    "version": 3
   },
   "file_extension": ".py",
   "mimetype": "text/x-python",
   "name": "python",
   "nbconvert_exporter": "python",
   "pygments_lexer": "ipython3",
   "version": "3.9.12 (main, Apr  4 2022, 05:22:27) [MSC v.1916 64 bit (AMD64)]"
  },
  "vscode": {
   "interpreter": {
    "hash": "c095e28c0380306a91dfcf91f5fd5762123fb83d5b68f6c5271d00cc634a65bf"
   }
  }
 },
 "nbformat": 4,
 "nbformat_minor": 5
}
