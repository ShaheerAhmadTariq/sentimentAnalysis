{
 "cells": [
  {
   "cell_type": "code",
   "execution_count": 1,
   "metadata": {},
   "outputs": [],
   "source": [
    "import praw\n",
    "from datetime import datetime\n",
    "\n",
    "user_agent = \"Ahmad 1.0 by /user/ahmad407\"\n",
    "reddit = praw.Reddit(\n",
    "    client_id = 'AzJE40YLWfAyY71kRGRSKA', \n",
    "    client_secret = 'g7BpsSTakcZvdRyhogi5S3PHA3ri8A', \n",
    "    user_agent = user_agent\n",
    ")\n",
    "keywords = [\"apple\", \"alienware\", \"lenovo\"]\n",
    "\n"
   ]
  },
  {
   "cell_type": "code",
   "execution_count": 2,
   "metadata": {},
   "outputs": [],
   "source": [
    "\n",
    "data = {}\n",
    "subreddit = reddit.subreddit(keywords[0])\n",
    "data['name'] = keywords[0]\n",
    "data['description'] = subreddit.description\n",
    "# print(subreddit.title)\n",
    "k1 = []\n",
    "total_comments = []\n",
    "for submission in subreddit.hot(limit=10):\n",
    "    data['title'] = submission.title\n",
    "    data['source_name'] = submission.author\n",
    "    data['url'] = submission.url\n",
    "    all_comments = submission.comments.list()\n",
    "    total_comments.append(all_comments)\n",
    "    "
   ]
  },
  {
   "cell_type": "code",
   "execution_count": 3,
   "metadata": {},
   "outputs": [],
   "source": [
    "for comment in all_comments:\n",
    "        if isinstance(comment, praw.models.reddit.comment.Comment):\n",
    "            data['author'] = comment.author\n",
    "            data['content'] = comment.body\n",
    "            date = datetime.utcfromtimestamp(comment.created_utc)\n",
    "            data['published_at'] = date\n",
    "            k1.append(data)\n",
    "            \n",
    "        else:\n",
    "            # for c in comment.comments():\n",
    "                if isinstance(comment, praw.models.Comment):\n",
    "                    data['author'] = c.author\n",
    "                    data['content'] = c.body\n",
    "                    date = datetime.utcfromtimestamp(c.created_utc)\n",
    "                    data['published_at'] = date\n",
    "                    k1.append(data)\n",
    "                # data['author'] = c.author\n",
    "                # data['content'] = c.body\n",
    "                # date = datetime.utcfromtimestamp(c.created_utc)\n",
    "                # data['published_at'] = date\n",
    "                # k1.append(data)\n"
   ]
  },
  {
   "cell_type": "code",
   "execution_count": 6,
   "metadata": {},
   "outputs": [
    {
     "name": "stdout",
     "output_type": "stream",
     "text": [
      "I have a problem with my AirPods Pro gen 1 where at time when I put them in my ears the audio is only playing in one ear making me have to reconnect them several times to fix the problem. Do anyone have a fix for it, I have tried to forget them on my iPhone 14 pro but it didn’t work.\n",
      "1672401091.0\n"
     ]
    }
   ],
   "source": [
    "for comment in total_comments:\n",
    "    # print(comment.body)\n",
    "    # print(len(comment))\n",
    "    # break\n",
    "    for c in comment:\n",
    "        print(c.body)\n",
    "        print(c.created_utc)\n",
    "        break\n",
    "    break"
   ]
  },
  {
   "cell_type": "code",
   "execution_count": 13,
   "metadata": {},
   "outputs": [
    {
     "data": {
      "text/plain": [
       "78"
      ]
     },
     "execution_count": 13,
     "metadata": {},
     "output_type": "execute_result"
    }
   ],
   "source": [
    "li = []\n",
    "for comment in all_comments:\n",
    "    if isinstance(comment, praw.models.reddit.comment.Comment):\n",
    "        li.append(comment)\n",
    "len(li)"
   ]
  },
  {
   "cell_type": "code",
   "execution_count": 3,
   "metadata": {},
   "outputs": [],
   "source": [
    "import threading\n",
    "import praw\n",
    "from datetime import datetime\n",
    "user_agent = \"Ahmad 1.0 by /user/ahmad407\"\n",
    "reddit = praw.Reddit(\n",
    "    client_id = 'AzJE40YLWfAyY71kRGRSKA', \n",
    "    client_secret = 'g7BpsSTakcZvdRyhogi5S3PHA3ri8A', \n",
    "    user_agent = user_agent\n",
    ")\n",
    "limit = 10\n",
    "keywords = [\"apple\", \"alienware\", \"lenovo\"]\n",
    "def api_call_1():\n",
    "    subreddit = reddit.subreddit(keywords[0])\n",
    "    k1 = []\n",
    "    for submission in subreddit.hot(limit=limit):\n",
    "        \n",
    "        all_comments = submission.comments.list()\n",
    "        \n",
    "        for comment in all_comments:\n",
    "            if isinstance(comment, praw.models.reddit.comment.Comment):\n",
    "                data = {}\n",
    "                data['name'] = keywords[0]\n",
    "                data['description'] = subreddit.description\n",
    "                data['title'] = submission.title\n",
    "                data['source_name'] = submission.author\n",
    "                data['url'] = submission.url\n",
    "                data['author'] = comment.author\n",
    "                data['content'] = comment.body\n",
    "                date = str(datetime.fromtimestamp(comment.created_utc))\n",
    "                data['published_at'] = date\n",
    "                k1.append(data)\n",
    "    return k1\n",
    "\n",
    "def api_call_2():\n",
    "    k2 = []\n",
    "    subreddit = reddit.subreddit(keywords[1])\n",
    "    for submission in subreddit.hot(limit=limit):\n",
    "        \n",
    "        all_comments = submission.comments.list()\n",
    "        \n",
    "        for comment in all_comments:\n",
    "            if isinstance(comment, praw.models.reddit.comment.Comment):\n",
    "                data = {}\n",
    "                data['name'] = keywords[1]\n",
    "                data['description'] = subreddit.description\n",
    "                data['title'] = submission.title\n",
    "                data['source_name'] = submission.author\n",
    "                data['url'] = submission.url\n",
    "                data['author'] = comment.author\n",
    "                data['content'] = comment.body\n",
    "                date = str(datetime.fromtimestamp(comment.created_utc))\n",
    "                \n",
    "                data['published_at'] = date\n",
    "                k2.append(data)\n",
    "    return k2\n",
    "\n",
    "def api_call_3():\n",
    "    k3 = []\n",
    "    subreddit = reddit.subreddit(keywords[2])\n",
    "    for submission in subreddit.hot(limit=limit):\n",
    "        \n",
    "        all_comments = submission.comments.list()\n",
    "        \n",
    "        for comment in all_comments:\n",
    "            if isinstance(comment, praw.models.reddit.comment.Comment):\n",
    "                data = {}\n",
    "                data['name'] = keywords[2]\n",
    "                data['description'] = subreddit.description\n",
    "                data['title'] = submission.title\n",
    "                data['source_name'] = submission.author\n",
    "                data['url'] = submission.url\n",
    "                data['author'] = comment.author\n",
    "                data['content'] = comment.body\n",
    "                date = str(datetime.fromtimestamp(comment.created_utc))\n",
    "                data['published_at'] = date\n",
    "                k3.append(data)\n",
    "    return k3\n",
    "\n",
    "# create three threads, one for each API call\n",
    "thread1 = threading.Thread(target=api_call_1)\n",
    "thread2 = threading.Thread(target=api_call_2)\n",
    "thread3 = threading.Thread(target=api_call_3)\n",
    "\n",
    "# start the threads\n",
    "thread1.start()\n",
    "thread2.start()\n",
    "thread3.start()\n",
    "\n",
    "# wait for the threads to finish\n",
    "thread1.join()\n",
    "thread2.join()\n",
    "thread3.join()\n"
   ]
  },
  {
   "cell_type": "code",
   "execution_count": 4,
   "metadata": {},
   "outputs": [
    {
     "ename": "NameError",
     "evalue": "name 'k1' is not defined",
     "output_type": "error",
     "traceback": [
      "\u001b[1;31m---------------------------------------------------------------------------\u001b[0m",
      "\u001b[1;31mNameError\u001b[0m                                 Traceback (most recent call last)",
      "\u001b[1;32me:\\Fiver\\Sentiment\\Backend\\Fastapi\\given\\test.ipynb Cell 7\u001b[0m in \u001b[0;36m<cell line: 1>\u001b[1;34m()\u001b[0m\n\u001b[1;32m----> <a href='vscode-notebook-cell:/e%3A/Fiver/Sentiment/Backend/Fastapi/given/test.ipynb#X10sZmlsZQ%3D%3D?line=0'>1</a>\u001b[0m k1\n",
      "\u001b[1;31mNameError\u001b[0m: name 'k1' is not defined"
     ]
    }
   ],
   "source": [
    "k1"
   ]
  },
  {
   "cell_type": "code",
   "execution_count": null,
   "metadata": {},
   "outputs": [],
   "source": []
  }
 ],
 "metadata": {
  "kernelspec": {
   "display_name": "base",
   "language": "python",
   "name": "python3"
  },
  "language_info": {
   "codemirror_mode": {
    "name": "ipython",
    "version": 3
   },
   "file_extension": ".py",
   "mimetype": "text/x-python",
   "name": "python",
   "nbconvert_exporter": "python",
   "pygments_lexer": "ipython3",
   "version": "3.9.12"
  },
  "orig_nbformat": 4,
  "vscode": {
   "interpreter": {
    "hash": "c095e28c0380306a91dfcf91f5fd5762123fb83d5b68f6c5271d00cc634a65bf"
   }
  }
 },
 "nbformat": 4,
 "nbformat_minor": 2
}
