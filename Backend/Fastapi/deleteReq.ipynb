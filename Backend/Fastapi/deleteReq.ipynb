{
 "cells": [
  {
   "cell_type": "code",
   "execution_count": 6,
   "metadata": {},
   "outputs": [
    {
     "name": "stdout",
     "output_type": "stream",
     "text": [
      "['absl-py\\n', 'aiohttp\\n', 'aioice\\n', 'aiortc', 'aiosignal', 'anyio', 'asttokens', 'astunparse', 'async-timeout', 'attrs', 'av', 'backcall', 'cachetools', 'certifi', 'cffi', 'charset-normalizer', 'click\\n', 'colorama', 'contourpy', 'cryptography', 'cycler', 'debugpy', 'decorator', 'dnspython', 'email-validator', 'entrypoints', 'executing', 'fastapi', 'Flask\\n', 'Flask-SQLAlchemy', 'Flask-WTF', 'flatbuffers', 'fonttools', 'frozenlist', 'gast', 'google-auth', 'google-auth-oauthlib', 'google-crc32c', 'google-pasta', 'greenlet', 'grpcio', 'gunicorn', 'h11', 'h5py', 'humps', 'idna', 'imageio', 'ipykernel', 'ipython', 'itsdangerous', 'jedi', 'Jinja2', 'joblib', 'jupyter_client', 'jupyter_core', 'jwt', 'keras', 'Keras-Preprocessing', 'kiwisolver', 'libclang', 'Markdown', 'MarkupSafe', 'matplotlib', 'matplotlib-inline', 'multidict', 'mysql', 'mysql-connector-python-rf', 'mysqlclient', 'nest-asyncio', 'netifaces', 'networkx', 'nltk\\n', 'numpy', 'oauthlib', 'opencv-contrib-python', 'opencv-python', 'opt-einsum', 'packaging', 'pandas', 'parso', 'pickleshare', 'Pillow', 'platformdirs', 'praw', 'prawcore', 'prompt-toolkit', 'protobuf', 'psutil', 'pure-eval', 'pyasn1', 'pyasn1-modules', 'pycparser', 'pydantic', 'pyee', 'pygame', 'Pygments', 'pyhumps', 'pylibsrtp', 'PyMySQL', 'pyparsing=\\n', 'python-dateutil\\n', 'python-decouple\\n', 'pytz\\n', 'PyWavelets', 'pywin32', 'pyzmq', 'regex', 'requests', 'requests-oauthlib', 'rsa', 'scikit-image', 'scikit-learn', 'scipy', 'six', 'sly', 'sniffio', 'SQLAlchemy', 'sqlparse', 'stack-data', 'starlette', 'tabulate', 'tensorboard', 'tensorboard-data-server', 'tensorboard-plugin-wit', 'tensorflow-estimator', 'termcolor', 'textblob', 'threadpoolctl', 'tifffile', 'tornado', 'tqdm', 'traitlets', 'typer', 'typing_extensions', 'tzdata', 'unicorn', 'update-checker', 'urllib3', 'uvicorn', 'wcwidth', 'websocket-client\\n', 'Werkzeug', 'wrapt', 'WTForms\\n', 'yarl']\n"
     ]
    }
   ],
   "source": [
    "# Open the txt file in read mode\n",
    "with open('./requirements.txt', 'r') as file:\n",
    "  # Read the lines of the file\n",
    "  lines = file.readlines()\n",
    "\n",
    "# Create a new list to store the modified lines\n",
    "modified_lines = []\n",
    "\n",
    "# Iterate over the lines\n",
    "for line in lines:\n",
    "  # Check if `==` is present in the line\n",
    "  if \"==\" in line:\n",
    "    # Split the line by `==` and take the first element\n",
    "    modified_line = line.split(\"==\")[0]\n",
    "  else:\n",
    "    # If `==` is not present, the line does not need to be modified\n",
    "    modified_line = line\n",
    "  # Append the modified line to the list\n",
    "  modified_lines.append(modified_line)\n",
    "\n",
    "# Print the modified lines\n",
    "print(modified_lines)\n",
    "with open('result.txt', 'w') as result_file:\n",
    "    # for line in modified_line:\n",
    "    result_file.writelines([str(element) + '\\n' for element in modified_lines])"
   ]
  },
  {
   "cell_type": "code",
   "execution_count": null,
   "metadata": {},
   "outputs": [],
   "source": []
  }
 ],
 "metadata": {
  "kernelspec": {
   "display_name": "Python 3",
   "language": "python",
   "name": "python3"
  },
  "language_info": {
   "codemirror_mode": {
    "name": "ipython",
    "version": 3
   },
   "file_extension": ".py",
   "mimetype": "text/x-python",
   "name": "python",
   "nbconvert_exporter": "python",
   "pygments_lexer": "ipython3",
   "version": "3.10.7"
  },
  "orig_nbformat": 4,
  "vscode": {
   "interpreter": {
    "hash": "3467b6eff9b29d12daf54480fcd6fc73dd44773795a1839eacfe67b17fb76a09"
   }
  }
 },
 "nbformat": 4,
 "nbformat_minor": 2
}
